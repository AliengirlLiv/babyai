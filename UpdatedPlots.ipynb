{
 "cells": [
  {
   "cell_type": "markdown",
   "metadata": {
    "heading_collapsed": true
   },
   "source": [
    "# Plots for the Teachable Robot Project"
   ]
  },
  {
   "cell_type": "markdown",
   "metadata": {},
   "source": [
    "# Useful Functions"
   ]
  },
  {
   "cell_type": "code",
   "execution_count": null,
   "metadata": {},
   "outputs": [],
   "source": [
    "from matplotlib import pyplot as plt\n",
    "import numpy as np\n",
    "import pandas as pd\n",
    "import pathlib\n",
    "from matplotlib.pyplot import cm\n",
    "import matplotlib.lines as mlines\n",
    "plt.rcParams['figure.figsize'] = [15, 5]"
   ]
  },
  {
   "cell_type": "code",
   "execution_count": null,
   "metadata": {},
   "outputs": [],
   "source": [
    "data_dirs = [\n",
    "    pathlib.Path('meta-mb-internal/data'),\n",
    "    pathlib.Path('meta-mb-internal/eval_runs'),\n",
    "    pathlib.Path('meta-mb-internal/old_data'),\n",
    "    pathlib.Path('meta-mb-internal'),\n",
    "]\n",
    "\n",
    "def get_filenames(name):\n",
    "    name = str(name)\n",
    "    name_paths = []\n",
    "    for data_dir in data_dirs:\n",
    "        for exp_dir in data_dir.iterdir():\n",
    "            if name in exp_dir.name:\n",
    "                name_paths.append(exp_dir)\n",
    "    return name_paths\n",
    "\n",
    "def plot_curriculum(data_names, x_type, use_min_len=True, y='Curriculum Percent', smooth=1,\n",
    "                   level_start=0, level_end=float('inf'), title=None, error_bars=False, y_lower=0,\n",
    "                   y_upper=1.01, plot_advancement=False, y_label=\"default\", y_transform=lambda x: x):\n",
    "    \n",
    "    if not type(y) is list:\n",
    "        y = [y]\n",
    "        \n",
    "    color = iter(cm.rainbow(np.linspace(0, 1, len(data_names) * len(y))))\n",
    "    plots = []\n",
    "        \n",
    "    for y_str in y:\n",
    "        df_y_key = y_str\n",
    "        df_level_key = 'Curriculum Step'\n",
    "        if x_type == 'samples':\n",
    "            x_label = 'Samples'\n",
    "            df_x_key = 'Itr'\n",
    "            title = 'Sample Efficiency' if title is None else title\n",
    "        elif x_type == 'feedback':\n",
    "            x_label = 'Num Feedback'\n",
    "            df_x_key = 'Train/NumFeedbackTotal'\n",
    "            title = 'Feedback Efficiency' if title is None else title\n",
    "\n",
    "        for run_names, legend_name in data_names:\n",
    "            if len(y) > 1:\n",
    "                legend_name = legend_name + ' - ' + y_str\n",
    "            try:\n",
    "                c = next(color)\n",
    "                data = [d for run_name in run_names for d in load_data(run_name)]\n",
    "                cols = [df[df_y_key].ewm(span=smooth).mean().to_numpy() for df in data]\n",
    "                \n",
    "                print(\"LENGTHS\", [len(d) for d in data])\n",
    "                shared_good_indices = np.arange(len(data[0]))\n",
    "                for i, run in enumerate(cols):\n",
    "                    run = y_transform(run)\n",
    "                    x_val = data[i][df_x_key].to_numpy()\n",
    "                    non_null_indices = ~np.isnan(x_val)\n",
    "                    levels = data[i][df_level_key].to_numpy()\n",
    "                    above_min_level = levels >= level_start\n",
    "                    below_max_level = levels <= level_end\n",
    "                    in_range = np.logical_and(above_min_level, below_max_level)\n",
    "                    good_indices = np.logical_and(in_range, non_null_indices)\n",
    "                    good_indices = np.argwhere(good_indices)[:, 0]\n",
    "                    if error_bars:\n",
    "                        shared_good_indices = [x for x in shared_good_indices if x in good_indices]\n",
    "                    else:\n",
    "                        plt.plot(x_val[good_indices], run[good_indices], c=c)\n",
    "                if plot_advancement:\n",
    "                    level_advancement = data[i][df_level_key].diff().to_numpy()\n",
    "                    advancement_indices = np.argwhere(level_advancement > 0)[:, 0]\n",
    "                    for advancement_index in advancement_indices:\n",
    "                        plt.axvline(x=advancement_index, c=c)\n",
    "                if error_bars:\n",
    "                    run_data = np.stack(y_transform(run[shared_good_indices]) for run in cols)\n",
    "                    mean_run_data = np.mean(run_data, axis=0)\n",
    "                    std_run_data = np.std(run_data, axis=0)\n",
    "                    x_val = data[0][df_x_key].to_numpy()[shared_good_indices]\n",
    "                    plt.plot(x_val, mean_run_data, c=c)\n",
    "                    plt.fill_between(x_val, mean_run_data - std_run_data, mean_run_data + std_run_data, color=c, alpha=0.2)\n",
    "                legend_line = mlines.Line2D([], [], color=c, label=legend_name)\n",
    "                plots.append(legend_line)\n",
    "            except Exception as e:\n",
    "                print(e)\n",
    "                print(\"couldn't plot \" + legend_name)\n",
    "\n",
    "    plt.title(title, fontsize=20)\n",
    "    if y_label == 'default':\n",
    "        y_label = y_str if len(y) else ''\n",
    "    plt.ylabel(y_label, fontsize=20)\n",
    "    plt.ylim(y_lower, y_upper)\n",
    "    plt.xlabel(x_label, fontsize=20)\n",
    "    plt.legend(handles=plots, fontsize=20)\n",
    "    plt.show()\n",
    "\n",
    "\n",
    "def load_data(name, file_name='progress.csv'):\n",
    "    if type(name) is pathlib.PosixPath:\n",
    "        name_paths = [name]\n",
    "    else:\n",
    "        name_paths = get_filenames(name)\n",
    "    assert len(name_paths) > 0, \"No files found with name \" + name\n",
    "    # check that they're all the same except the seed\n",
    "    csv_datas = []\n",
    "    for path in name_paths:\n",
    "#         assert path.name[:-1] == name_paths[0].name[:-1], f\"Found multiple files with name {name}: {[path.name for path in name_paths]}\"\n",
    "        try:\n",
    "            csv_name = path.joinpath(file_name)\n",
    "            data = pd.read_csv(csv_name)\n",
    "        except Exception as e:\n",
    "            print(e)\n",
    "            csv_name = path.joinpath('new_progress.csv')\n",
    "            data = pd.read_csv(csv_name)\n",
    "            \n",
    "        # There used to be a bug where reward wasn't computed correctly\n",
    "        if 'T1638_' == name:\n",
    "            data['Train/NumFeedbackTotal'] = data['Train/NumFeedbackTotal'] * 6 / 7\n",
    "        if 'T1640_' == name:\n",
    "            num_advice = data['Train/num_feedback_advice']\n",
    "            reward = data['Train/num_feedback_reward']\n",
    "            curriculum_step = data['Curriculum Step']\n",
    "            pa_only_levels = curriculum_step < 3\n",
    "            pa_and_pa3_levels = (curriculum_step >= 3) * (curriculum_step < 13)\n",
    "            pa3_only_levels = curriculum_step >= 13\n",
    "            pa_only_feedback = num_advice * pa_only_levels * 3 / 4\n",
    "            pa_and_pa3_feedback = num_advice * pa_and_pa3_levels\n",
    "            pa3_only_feedback = num_advice * pa3_only_levels / 4\n",
    "            num_advice = pa_only_feedback + pa_and_pa3_feedback + pa3_only_feedback\n",
    "            num_feedback = num_advice + reward\n",
    "            data['Train/NumFeedbackTotal'] = np.cumsum(num_feedback)\n",
    "            data['Train/NumFeedbackAdvice'] = np.cumsum(num_advice)\n",
    "        # Remove whitespace in col names\n",
    "        data.columns = [c.strip() for c in data.columns]\n",
    "        csv_datas.append(data)\n",
    "    return csv_datas\n",
    "        \n",
    "def plot_final_generalization(runs, title, metric='success_rate', all_run_names=None):\n",
    "    env_dict = {}\n",
    "    for run_names, legend_name in runs:\n",
    "        try:\n",
    "            data = []\n",
    "            for run_name in run_names:\n",
    "                data += load_data(run_name, file_name='results.csv')\n",
    "            success = [df[metric].to_numpy() for df in data]\n",
    "            env_names = data[0]['env'].to_numpy()\n",
    "            for i, env_name, in enumerate(env_names):\n",
    "                if all_run_names is not None and not env_name in all_run_names:\n",
    "                    continue\n",
    "                if not env_name in env_dict:\n",
    "                    env_dict[env_name] = ([], [], [])\n",
    "                mean_list, std_list, legend_list = env_dict[env_name]\n",
    "                mean_list.append(np.mean([s[i].item() for s in success]))\n",
    "                std_list.append(np.std([s[i].item() for s in success]))\n",
    "                legend_list.append(legend_name)\n",
    "        except Exception as e:\n",
    "            print(\"Error on \", run_names, e)\n",
    "    print(\"ENV DICT\", env_dict.keys())\n",
    "    for env_name, (mean_list, std_list, legend_list) in env_dict.items():\n",
    "        plt.title(title + ' - ' + env_name + '; ' + metric, fontsize=20)\n",
    "        color = 'green' if 'accuracy' in metric else None\n",
    "        plt.bar(legend_list, mean_list, yerr=std_list, capsize=5, color=color)\n",
    "        plt.xticks(rotation=80, fontsize=20)\n",
    "        plt.ylim(0, 1)\n",
    "        plt.show()\n",
    "        \n",
    "        \n",
    "\n",
    "def plot_curriculum_generalization(runs, title, metric='success_rate'):\n",
    "    for run_names, legend_name in runs:  # Currently plotting each one separately.\n",
    "        try:\n",
    "            data = []\n",
    "            for run_name in run_names:\n",
    "                data += load_data(run_name, file_name='results.csv')\n",
    "            levels = sorted(np.unique(data[0]['policy']))\n",
    "            print(\"LEVELS\", levels)\n",
    "            for level in levels:\n",
    "                relevant_data = [df[df['policy'] == level] for df in data]\n",
    "                x = relevant_data[0]['env']\n",
    "                y_data = [df[metric].to_numpy() for df in relevant_data]\n",
    "                y_mean = y_data[0]\n",
    "                y_err = np.zeros_like(y_mean)\n",
    "                y_mean = [np.mean([y[i] for y in y_data]) for i in range(len(y_data[0]))]\n",
    "                y_err = [np.std([y[i] for y in y_data]) for i in range(len(y_data[0]))]\n",
    "                plt.title(title + ' - ' + level)\n",
    "                color = 'green' if 'accuracy' in metric else None\n",
    "                plt.bar(x, y_mean, yerr=y_err, capsize=5, color=color)\n",
    "                plt.xticks(rotation=90)\n",
    "                plt.show()\n",
    "        except Exception as e:\n",
    "            print(\"Error on \", run_names, e)\n",
    "\n",
    "        \n",
    "def plot_leaderboard(methods):\n",
    "    plot_values = []\n",
    "    error_bars = []\n",
    "    plot_names = []\n",
    "    num_feedback_key = 'Train/NumFeedbackTotal'\n",
    "    for run_names, legend_name, _ in methods:\n",
    "        try:\n",
    "            data = []\n",
    "            for run_name in run_names:\n",
    "                data += load_data(run_name)\n",
    "            if run_name in ['0577', '0578']:  # TODO: delete this later now that we've fixed how we count feedback\n",
    "                pure_feedback_list = [df['Train/NumFeedbackAdvice'].to_numpy()[-2].item() for df in data]\n",
    "                reward_list = [df['Train/NumFeedbackReward'].to_numpy()[-2].item() for df in data]\n",
    "                path_length_list = [df['Train/PathLength'].to_numpy()[-2].item() for df in data]\n",
    "                success_list = [df['Train/Success'].to_numpy()[-2].item() for df in data]\n",
    "                num_feedback_list = [pure_feedback + reward_feedback / path_length * success_rate for reward_feedback, path_length, success_rate, pure_feedback in zip(reward_list, path_length_list, success_list, pure_feedback_list)]\n",
    "            else:\n",
    "                num_feedback_list = [df[num_feedback_key].to_numpy()[-2].item() for df in data]\n",
    "            plot_values.append(np.mean(num_feedback_list))\n",
    "            error_bars.append(np.std(num_feedback_list))\n",
    "            plot_names.append(f'{run_name} - {legend_name}')\n",
    "        except Exception as e:\n",
    "            print(e)\n",
    "            print(\"couldn't plot \" + legend_name)\n",
    "    plt.bar(plot_names, plot_values, yerr=error_bars, capsize=5)\n",
    "    plt.xticks(rotation=45)\n",
    "    plt.show()\n",
    "\n",
    "# NOTE: this is just here temporarily to make the csvs parsable b/c of a bug.\n",
    "# The bug is fixed now, so once the current runs become unnecessary (or have all been fixed) we can delete this\n",
    "def fix_csv(filename):\n",
    "    data_folder = get_filenames(filename)[0]\n",
    "    correct_data = []\n",
    "    csv = data_folder.joinpath('progress.csv')\n",
    "    new_csv = data_folder.joinpath('new_progress.csv')\n",
    "    print(csv)\n",
    "    with open(csv, 'r') as f:\n",
    "        for line in f.readlines():\n",
    "            if 'BufferSize' in line:\n",
    "                correct_data = []\n",
    "            correct_data.append(line)\n",
    "    with open(new_csv, 'w') as f:\n",
    "        f.writelines(correct_data)\n",
    "\n",
    "def plot_finetune_generalization(runs, title, metric='success_rate', smooth=1, x_label='Itrs',\n",
    "                                 all_run_names=None, y_label='default', y_transform=lambda x: x):\n",
    "    env_names = None\n",
    "    env_dict = {}\n",
    "    for run_info in runs:\n",
    "        if len(run_info) == 3:\n",
    "            run_names, legend_name, feedback_per_timestep = run_info\n",
    "        else:\n",
    "            run_names, legend_name = run_info\n",
    "            feedback_per_timestep = 1\n",
    "        try:\n",
    "            data = []\n",
    "            env_data = {}\n",
    "            for run_name in run_names:\n",
    "                name_paths = get_filenames(run_name)\n",
    "                assert len(name_paths) == 1, (\"Didn't find exactly 1 run name\", name_paths)\n",
    "                name_path = name_paths[0]\n",
    "                for sub_path in name_path.iterdir():\n",
    "                    if not 'checkpoint' in sub_path.name:\n",
    "                        continue\n",
    "                    data = load_data(sub_path, file_name='results.csv')[0]\n",
    "                    env_name = data.iloc[0]['env']\n",
    "                    success = data[metric].ewm(span=smooth).mean().to_numpy() \n",
    "                    if all_run_names is not None and not env_name in all_run_names:\n",
    "                        continue\n",
    "                    if not env_name in env_data:\n",
    "                        env_data[env_name] = ([], [])\n",
    "                    feedback_list, data_list = env_data[env_name]\n",
    "                    data_list.append(success)\n",
    "                    if 'num_feedback' in data.columns:\n",
    "                        print(\"FOUND NUM FEEDBACK!\")\n",
    "                        feedback_list.append(data['num_feedback'])\n",
    "                    else:\n",
    "                        print(\"using multiplier\")\n",
    "                        feedback_list.append(np.arange(len(success)).astype(np.float32) * feedback_per_timestep)\n",
    "            for env_name, (env_x_list, env_y_list) in env_data.items():\n",
    "                if not env_name in env_dict:\n",
    "                        env_dict[env_name] = ([], [], [], [])\n",
    "                policy_list, x_list, y_list, y_std_list = env_dict[env_name]\n",
    "                policy_list.append(legend_name)\n",
    "                shortest_len = min([x[-1] for x in env_x_list])\n",
    "                print(\"lengths\", [len(run) for run in env_y_list])\n",
    "                x = np.arange(shortest_len)\n",
    "                run_data = np.stack([np.interp(x, run_x, run_y) for run_x, run_y in zip(env_x_list, env_y_list)])\n",
    "#                 run_data = np.stack(run[:shortest_len] for run in env_y_list)\n",
    "                mean_run_data = np.mean(run_data, axis=0)\n",
    "                std_run_data = np.std(run_data, axis=0)\n",
    "                y_list.append(mean_run_data)\n",
    "                y_std_list.append(std_run_data)\n",
    "                x_list.append(x)\n",
    "        except Exception as e:\n",
    "            print(\"Error on \", run_names, e)\n",
    "    for env_name, (policy_list, x_list, y_list, y_std_list) in env_dict.items():\n",
    "        plt.title(title + ' - ' + env_name, fontsize=20)\n",
    "        for x_data, y_data, y_std_data in zip(x_list, y_list, y_std_list):\n",
    "            plt.plot(x_data, y_transform(y_data))\n",
    "            plt.fill_between(x_data, y_data - y_std_data, y_data + y_std_data, alpha=0.2)\n",
    "        plt.legend(policy_list, fontsize=20)\n",
    "        y_label = metric if y_label == 'default' else y_label\n",
    "        plt.ylabel(y_label, fontsize=20)\n",
    "        plt.xlabel(x_label, fontsize=20)\n",
    "        plt.ylim(0, 1.01)\n",
    "        plt.show() # peacock"
   ]
  },
  {
   "cell_type": "markdown",
   "metadata": {
    "heading_collapsed": true
   },
   "source": [
    "# <font color='blue'> Claim 1: Feedback helps the agent learn more quickly (distillation) </font>\n",
    "## <font color='blue'> [Status: hard teachers get stuck, and no teachers outperform PA yet!] </font>\n",
    "\n"
   ]
  },
  {
   "cell_type": "markdown",
   "metadata": {
    "hidden": true
   },
   "source": [
    "## <font color='blue'>[STATUS] - Need to work on sample-efficiency.</font>"
   ]
  },
  {
   "cell_type": "markdown",
   "metadata": {
    "hidden": true
   },
   "source": [
    "\n",
    "If this isn't true for certain higher-level teachers that's fine, so long as we are able to show that the problem is grounding, but once grounded it does work better.\n",
    "\n",
    "### GOOD NEWS: All agents trained with feedback outperform no teacher.\n",
    "\n",
    "### BAD NEWS: Agents trained with complex teachers have a hard time completing the curriculum."
   ]
  },
  {
   "cell_type": "markdown",
   "metadata": {
    "heading_collapsed": true,
    "hidden": true
   },
   "source": [
    "## <font color='blue'> PA -> PA3 </font>"
   ]
  },
  {
   "cell_type": "code",
   "execution_count": null,
   "metadata": {
    "hidden": true,
    "scrolled": true
   },
   "outputs": [],
   "source": [
    "# BEST SO FAR\n",
    "# TODO:!\n",
    "\n",
    "\n",
    "# VERSION 3\n",
    "data_names = [  # TODO: re-run these \n",
    "    (['T1797'], 'PA -> None'),\n",
    "    (['T1798'], 'PA -> (PA3, None)'),\n",
    "    (['T1799'], 'PA -> (PA3, None) easy_swap_harder'),\n",
    "#     (['T1800'], 'PA -> (PA3, None) easy_swap_harder_each_time'),\n",
    "    (['T1801'], 'PA -> (PA3, None) easy_swap_harder_reward_drop'),\n",
    "#     (['T1802'], 'PA -> (PA3, None) easy_swap_harder_each_time reward_drop'),\n",
    "]\n",
    "plot_curriculum(data_names, 'samples')\n",
    "plot_curriculum(data_names, 'feedback')\n",
    "\n",
    "# VERSION 2\n",
    "data_names = [\n",
    "    (['T1647'], 'RL'),\n",
    "#     (['T1639'], '1639'),\n",
    "    (['T1640_'], 'PA swap PA3 on level 13'),\n",
    "#     (['T1640'], 'PA swap PA3 on level 13'),\n",
    "    (['T1692_PA_to_PA3_1'], 'PA swap PA3 each level'),\n",
    "#     (['T1641'], '1641'),\n",
    "#     (['T1642'], '1642'),\n",
    "#     (['T1643'], '1643'),\n",
    "#     (['T1638'], 'PA only'),\n",
    "    (['T1638_'], 'PA only'),\n",
    "#     (['T1646'], 'RL 1'),\n",
    "#     (['T1693_PA_to_PA3_1'], 'easy_swap_harder_each_time 2'),\n",
    "#     (['T1728_PA_to_PA3_1'], 'remove reward partially'),\n",
    "]\n",
    "# plot_curriculum(data_names, 'samples')\n",
    "plot_curriculum(data_names, 'feedback')\n",
    "\n",
    "# VERSION 1\n",
    "data_names = [\n",
    "    (['T1637'], 'PA -> PA3, dense rew'),\n",
    "    (['T1672'], 'PA -> PA3, sparse rew'),\n",
    "    (['T1675'], 'PA -> PA3, dropout rew'),\n",
    "]\n",
    "plot_curriculum(data_names, 'samples')\n",
    "plot_curriculum(data_names, 'feedback')"
   ]
  },
  {
   "cell_type": "markdown",
   "metadata": {
    "heading_collapsed": true,
    "hidden": true
   },
   "source": [
    "## <font color='blue'> PA2 -> PA4 </font>"
   ]
  },
  {
   "cell_type": "code",
   "execution_count": null,
   "metadata": {
    "hidden": true
   },
   "outputs": [],
   "source": [
    "data_names = [  # TODO: re-run these \n",
    "    (['T1803'], 'PA2 -> None'),\n",
    "    (['T1805'], 'PA2 -> (PA4, None) easy_swap_harder'),\n",
    "    (['T1806'], 'PA2 -> (PA4, None) easy_swap_harder_each_time'),\n",
    "    (['T1801'], 'PA -> (PA3, None) easy_swap_harder_reward_drop'),\n",
    "    (['T1802'], 'PA -> (PA3, None) easy_swap_harder_each_time reward_drop'),\n",
    "]\n",
    "plot_curriculum(data_names, 'samples')\n",
    "plot_curriculum(data_names, 'feedback')"
   ]
  },
  {
   "cell_type": "markdown",
   "metadata": {
    "heading_collapsed": true,
    "hidden": true
   },
   "source": [
    "## <font color='blue'> CC1 -> CC3 </font>"
   ]
  },
  {
   "cell_type": "code",
   "execution_count": null,
   "metadata": {
    "hidden": true
   },
   "outputs": [],
   "source": [
    "data_names = [  # TODO: re-run these \n",
    "    (['T1809'], 'CC1 -> None'),\n",
    "    (['T1810'], 'CC1 -> (CC3, None)'),\n",
    "    (['T1811'], 'CC1 -> (CC3, None) easy_swap_harder'),\n",
    "#     (['T1812'], 'CC1 -> (CC3, None) easy_swap_harder_each_time'),\n",
    "    (['T1813'], 'CC1 -> (CC3, None) easy_swap_harder_reward_drop'),\n",
    "#     (['T1814'], 'CC1 -> (CC3, None) easy_swap_harder_each_time reward_drop'),\n",
    "]\n",
    "plot_curriculum(data_names, 'samples')\n",
    "plot_curriculum(data_names, 'feedback')"
   ]
  },
  {
   "cell_type": "markdown",
   "metadata": {},
   "source": [
    "# <font color='purple'> Claim 2: Policies conditioned on feedback can generalize zero-shot to performing new tasks (no distillation). </font> <font color='red'>  </font>\n",
    "\n",
    "## <font color='purple'> [Status: Easy teachers generalize zero-shot, but hard teachers don't.] </font>"
   ]
  },
  {
   "cell_type": "markdown",
   "metadata": {
    "heading_collapsed": true
   },
   "source": [
    "## <font color='purple'>[STATUS] - Easy teachers generalize zero-shot, but hard teachers don't. </font>"
   ]
  },
  {
   "cell_type": "markdown",
   "metadata": {
    "hidden": true
   },
   "source": [
    "(The new levels should not have any new feedback vocabulary.)\n",
    "\n",
    "### GOOD NEWS: all the teachers outperform not having a teacher\n",
    "### BAD NEWS: the higher-level teachers are way worse than the easy teacher... we should find a way to learn those better.\n"
   ]
  },
  {
   "cell_type": "markdown",
   "metadata": {},
   "source": [
    "## <font color='purple'>[MAIN] Feedback Efficiency of Different Teachers </font>"
   ]
  },
  {
   "cell_type": "markdown",
   "metadata": {
    "heading_collapsed": true
   },
   "source": [
    "## Finetune"
   ]
  },
  {
   "cell_type": "markdown",
   "metadata": {
    "heading_collapsed": true,
    "hidden": true
   },
   "source": [
    "### <font color='magenta'> 0-shot PA accuracy </font>\n",
    "\n",
    "CONLUSION: PA acc/success are GREAT when instrs are present, less good when instrs are hidden."
   ]
  },
  {
   "cell_type": "code",
   "execution_count": null,
   "metadata": {
    "hidden": true,
    "scrolled": true
   },
   "outputs": [],
   "source": [
    "runs = [\n",
    "    \n",
    "    # New levels\n",
    "    (['T1833'], '1637 Instr'),\n",
    "    (['T1834'], '1798 Instr'),\n",
    "    (['T1835'], '1820 Instr'),\n",
    "    \n",
    "#     # PA -> PA, PA3, None\n",
    "#     (['T1682'], '1637 Instr'),\n",
    "#     (['T1683'], '1637 No Instr'),\n",
    "    \n",
    "#     # PA -> PA3, None, no dropout\n",
    "#     (['T1689'], '1667 Instr'),\n",
    "    \n",
    "#     # PA -> PA3, remove reward sometimes\n",
    "#     (['T1703'], '1675 No Instr'),\n",
    "    \n",
    "]\n",
    "\n",
    "plot_final_generalization(runs, 'Eval with Teacher - PA')\n",
    "print(\"=\" * 100)\n",
    "plot_final_generalization(runs, 'Eval with Teacher - PA', 'stoch_accuracy')\n"
   ]
  },
  {
   "cell_type": "markdown",
   "metadata": {
    "heading_collapsed": true,
    "hidden": true
   },
   "source": [
    "### <font color='magenta'> 0-shot PA3 accuracy </font>\n",
    "\n",
    "CONCLUSION: We can ground PA3 well from oracle (.9+ acc OOD, perfect success). From PA, we get .6 OOD and .85 ID, not enough to reliably succeed OOD."
   ]
  },
  {
   "cell_type": "code",
   "execution_count": null,
   "metadata": {
    "hidden": true,
    "scrolled": true
   },
   "outputs": [],
   "source": [
    "# New levels\n",
    "runs = [\n",
    "    (['T1836'], '1637 Instr'),\n",
    "    (['T1837'], '1798 Instr'),\n",
    "    (['T1838'], '1820 Instr'),\n",
    "]\n",
    "plot_final_generalization(runs, 'Eval with Teacher - PA3')\n",
    "plot_final_generalization(runs, 'Eval with Teacher - PA3', 'stoch_accuracy')\n",
    "print(\"=\" * 100)\n",
    "\n",
    "runs = [\n",
    "    (['T1760'], '1637 Instr Finetuned'), # PA3 finetuned\n",
    "    (['T1781'], '1637 Instr Finetuned again'), # PA3 finetuned\n",
    "    (['T1685'], '1637 Instr'), # PA -> PA, PA3, None\n",
    "]\n",
    "\n",
    "plot_final_generalization(runs, 'Eval with Teacher - PA3')\n",
    "plot_final_generalization(runs, 'Eval with Teacher - PA3', 'stoch_accuracy')\n",
    "\n",
    "print(\"=\" * 100)\n",
    "\n",
    "runs = [\n",
    "    (['T1761'], '1637 Instr Finetuned'), # PA3 finetuned\n",
    "    (['T1685'], '1637 Instr'), # PA -> PA, PA3, None\n",
    "]\n",
    "\n",
    "plot_final_generalization(runs, 'Eval with Teacher - PA3')\n",
    "plot_final_generalization(runs, 'Eval with Teacher - PA3', 'stoch_accuracy')\n",
    "\n",
    "print(\"=\" * 100)\n",
    "\n",
    "runs = [\n",
    "    (['T1762'], '1637 Instr Finetuned'), # PA3 finetuned\n",
    "    (['T1685'], '1637 Instr'), # PA -> PA, PA3, None\n",
    "]\n",
    "\n",
    "plot_final_generalization(runs, 'Eval with Teacher - PA3')\n",
    "plot_final_generalization(runs, 'Eval with Teacher - PA3', 'stoch_accuracy')\n",
    "\n",
    "print(\"=\" * 100)\n",
    "\n",
    "# ===================="
   ]
  },
  {
   "cell_type": "markdown",
   "metadata": {
    "heading_collapsed": true,
    "hidden": true
   },
   "source": [
    "### <font color='magenta'> 0-shot None accuracy </font>\n",
    "\n",
    "CONLCUSION: Really bad, as expected. Instrs help."
   ]
  },
  {
   "cell_type": "code",
   "execution_count": null,
   "metadata": {
    "hidden": true,
    "scrolled": false
   },
   "outputs": [],
   "source": [
    "# New levels\n",
    "runs = [\n",
    "    (['T1839'], '1637 Instr'),\n",
    "    (['T1840'], '1798 Instr'),\n",
    "    (['T1841'], '1820 Instr'),\n",
    "\n",
    "#     (['T1684'], '1637 Instrs'),\n",
    "]\n",
    "plot_final_generalization(runs, 'Level Heldout')\n",
    "print(\"=\" * 100)\n",
    "plot_final_generalization(runs, 'Level Heldout', 'stoch_accuracy')"
   ]
  },
  {
   "cell_type": "markdown",
   "metadata": {
    "heading_collapsed": true,
    "hidden": true
   },
   "source": [
    "### <font color='orange'> Finetune PA3 accuracy </font>\n",
    "CONLCUSION: Finetuning doesn't seem to help much in distilling from oracle. In PA -> PA3, it seems to help, but maybe only the first itr?\n",
    "\n",
    "RL training PA3 seems bad, possibly b/c we've never done it before."
   ]
  },
  {
   "cell_type": "code",
   "execution_count": null,
   "metadata": {
    "hidden": true,
    "scrolled": true
   },
   "outputs": [],
   "source": [
    "runs = [\n",
    "    (['T1548'], '1534 Finetuned10 Oracle -> (PA, PA3) No Instrs'),\n",
    "    (['T1560'], '1534 Finetuned1 Oracle -> (PA, PA3) No Instrs'),\n",
    "    (['T1542'], '1534 Oracle -> (PA, PA3) No Instrs'),\n",
    "    (['T1549'], '1535 Finetuned10 PA -> PA3 No Instrs'),\n",
    "    (['T1561'], '1535 Finetuned1 PA -> PA3 No Instrs'),\n",
    "    (['T1543'], '1535 PA -> PA3 No Instrs'),\n",
    "]\n",
    "plot_final_generalization(runs, 'Eval with Teacher - PA3')\n",
    "print(\"=\" * 100)\n",
    "plot_final_generalization(runs, 'Eval with Teacher - PA3', ' stoch_accuracy')\n",
    "\n",
    "\n",
    "runs = [\n",
    "    (['T1548'], '1534 Oracle -> (PA, PA3) No Instrs'),\n",
    "    (['T1549'], '1535 Finetuned10 PA -> PA3 No Instrs'),\n",
    "]\n",
    "plot_finetune_generalization(runs, 'Eval with Teacher - PA3')\n",
    "print(\"=\" * 100)\n",
    "plot_finetune_generalization(runs, 'Eval with Teacher - PA3', ' stoch_accuracy')\n"
   ]
  },
  {
   "cell_type": "markdown",
   "metadata": {
    "heading_collapsed": true,
    "hidden": true
   },
   "source": [
    "### <font color='orange'> 0-shot PA, distill to None </font>\n",
    "CONCLUSION: Hard to say b/c this model was never trained with None. At the moment, it seems to do better than no finetuning, but doesn't improve past the first few itrs."
   ]
  },
  {
   "cell_type": "code",
   "execution_count": null,
   "metadata": {
    "hidden": true,
    "scrolled": true
   },
   "outputs": [],
   "source": [
    "runs = [\n",
    "    (['T1591'], '1535 Unlock', 1 * 10 * 800),\n",
    "    (['T1599'], '1534 GoToObjMaze Oracle distill', 1 * 10 * 800),\n",
    "    (['T1600'], '1535 GoToObjMaze PA distill', 1 * 10 * 800),\n",
    "    (['T1601'], '1535 GoToObjMaze PA3 distill', 1 / 3 * 10 * 800),\n",
    "    (['T1619'], '1535 Open - Distill from PA', 1 * 800),\n",
    "#     (['T1622'], '1535 GoToObjMaze PA again', 1 * 800),\n",
    "]\n",
    "plot_finetune_generalization(runs, 'Finetune run 1535')\n",
    "# print(\"=\" * 100)\n",
    "# plot_finetune_generalization(runs, 'Finetune run 1535', 'stoch_accuracy')"
   ]
  },
  {
   "cell_type": "code",
   "execution_count": null,
   "metadata": {
    "hidden": true,
    "scrolled": false
   },
   "outputs": [],
   "source": [
    "runs = [\n",
    "    (['T1569'], 'RL Train', 1 * 800),\n",
    "    (['T1576'], 'Distill from PA', 1 * 10 * 800),\n",
    "#     (['T1571'], 'Distill from PA OG', 1),\n",
    "#     (['T1577'], 'Distill from PA3', .33),\n",
    "    (['T1581'], 'Distill from PA3', 1 / 3 * 10 * 800),\n",
    "#     (['T1591'], 'Distill from PA better?', 1 * 10 * 800),\n",
    "]\n",
    "plot_finetune_generalization(runs, 'Finetune run 1535')\n",
    "print(\"=\" * 100)\n",
    "plot_finetune_generalization(runs, 'Finetune run 1535', 'stoch_accuracy')"
   ]
  },
  {
   "cell_type": "code",
   "execution_count": null,
   "metadata": {
    "hidden": true
   },
   "outputs": [],
   "source": [
    "# ALL 1535\n",
    "runs = [\n",
    "#     (['T1568'], 'DEBUG'),\n",
    "    (['T1574'], 'PA3 -> None'),\n",
    "    (['T1582'], 'Zero-shot None'),\n",
    "]\n",
    "plot_final_generalization(runs, 'Eval with Teacher - PA -> None')\n",
    "print(\"=\" * 100)\n",
    "plot_final_generalization(runs, 'Eval with Teacher - PA -> None', 'stoch_accuracy')"
   ]
  },
  {
   "cell_type": "code",
   "execution_count": null,
   "metadata": {
    "hidden": true
   },
   "outputs": [],
   "source": [
    "# ALL 1467\n",
    "runs = [\n",
    "    (['T1571'], 'Distill from PA'),\n",
    "    (['T1572'], 'Distill from PA3'),\n",
    "    (['T1569'], 'RL Train'),\n",
    "]\n",
    "plot_finetune_generalization(runs, 'Eval with Teacher - PA -> None')\n",
    "print(\"=\" * 100)\n",
    "plot_finetune_generalization(runs, 'Eval with Teacher - PA -> None', 'stoch_accuracy')"
   ]
  },
  {
   "cell_type": "code",
   "execution_count": null,
   "metadata": {
    "hidden": true,
    "scrolled": false
   },
   "outputs": [],
   "source": [
    "runs = [\n",
    "    (['T1520'], '1467 PA -> PA3 Instrs'),\n",
    "    (['T1521'], '1467 PA -> PA3 No Instrs'),\n",
    "    (['T1559'], '1467 PA -> PA3 No Instrs'),\n",
    "]\n",
    "plot_finetune_generalization(runs, 'Eval with Teacher - PA -> None')\n",
    "print(\"=\" * 100)\n",
    "plot_finetune_generalization(runs, 'Eval with Teacher - PA -> None', ' stoch_accuracy')"
   ]
  },
  {
   "cell_type": "markdown",
   "metadata": {
    "heading_collapsed": true,
    "hidden": true
   },
   "source": [
    "### <font color='orange'> 0-shot PA3, distill to None </font>\n",
    "CONCLUSION: Hard to say b/c this model was never trained with None. At the moment, it seems to do better than no finetuning, but doesn't improve past the first few itrs."
   ]
  },
  {
   "cell_type": "code",
   "execution_count": null,
   "metadata": {
    "hidden": true,
    "scrolled": true
   },
   "outputs": [],
   "source": [
    "runs = [\n",
    "    (['T1524'], '1467 PA -> PA3 Instrs'),\n",
    "    (['T1525'], '1467 PA -> PA3 No Instrs'),\n",
    "    (['T1559'], '1467 PA -> PA3 No Instrs'),\n",
    "]\n",
    "plot_finetune_generalization(runs, 'Eval with Teacher - PA3 -> None')\n",
    "plot_finetune_generalization(runs, 'Eval with Teacher - PA3 -> None', ' stoch_accuracy')"
   ]
  },
  {
   "cell_type": "markdown",
   "metadata": {
    "heading_collapsed": true,
    "hidden": true
   },
   "source": [
    "### <font color='orange'> Finetune PA3, distill to None </font>\n",
    "CONCLUSION: Hard to say b/c this model was never trained with None. No improvement, it seems?"
   ]
  },
  {
   "cell_type": "code",
   "execution_count": null,
   "metadata": {
    "hidden": true,
    "scrolled": true
   },
   "outputs": [],
   "source": [
    "runs = [\n",
    "    (['T1528'], '1467 PA -> PA3 Instrs'),\n",
    "]\n",
    "plot_finetune_generalization(runs, 'Eval with Teacher - PA3 -> None')\n",
    "plot_finetune_generalization(runs, 'Eval with Teacher - PA3 -> None', ' stoch_accuracy')"
   ]
  },
  {
   "cell_type": "markdown",
   "metadata": {
    "heading_collapsed": true,
    "hidden": true
   },
   "source": [
    "### <font color='orange'> Oracle, distill to None </font>\n",
    "CONCLUSION: Hard to say b/c this model was never trained with None. No improvement, it seems?"
   ]
  },
  {
   "cell_type": "code",
   "execution_count": null,
   "metadata": {
    "hidden": true,
    "scrolled": true
   },
   "outputs": [],
   "source": [
    "runs = [\n",
    "    (['T1550'], '1534 Oracle -> None Instrs'),\n",
    "    (['T1567'], '1567 Oracle -> None Instrs Easy'),\n",
    "    (['T1564'], '1534 Oracle -> None Instrs'),\n",
    "]\n",
    "plot_final_generalization(runs, 'Eval with Teacher - None')\n",
    "print(\"=\" * 100)\n",
    "plot_final_generalization(runs, 'Eval with Teacher - None', 'stoch_accuracy')\n",
    "\n",
    "\n",
    "\n",
    "runs = [\n",
    "#     (['T1530'], '1419 Oracle -> None Instrs'),\n",
    "#     (['T1531'], '1419 Oracle -> None No Instrs'),\n",
    "    (['T1550'], '1534 Oracle -> None No Instrs'),\n",
    "    (['T1564'], '1534 Oracle -> None Instrs'),\n",
    "]\n",
    "plot_finetune_generalization(runs, 'Eval with Teacher - Oracle -> None')\n",
    "plot_finetune_generalization(runs, 'Eval with Teacher - Oracle -> None', 'stoch_accuracy')"
   ]
  },
  {
   "cell_type": "markdown",
   "metadata": {
    "heading_collapsed": true,
    "hidden": true
   },
   "source": [
    "### <font color='red'> 0-shot CC3 accuracy </font>\n",
    "\n",
    "ISSUE: accuracies are all .4ish, way worse than we saw in the TB rollouts.\n",
    "\n",
    "CONCLUSION: [INSERT]"
   ]
  },
  {
   "cell_type": "code",
   "execution_count": null,
   "metadata": {
    "hidden": true,
    "scrolled": false
   },
   "outputs": [],
   "source": [
    "# runs = [\n",
    "# ]\n",
    "# plot_curriculum_generalization(runs, 'Eval with Teacher')\n",
    "# plot_curriculum_generalization(runs, 'Eval with Teacher', ' stoch_accuracy')"
   ]
  },
  {
   "cell_type": "markdown",
   "metadata": {
    "heading_collapsed": true
   },
   "source": [
    "# Finetuning"
   ]
  },
  {
   "cell_type": "markdown",
   "metadata": {
    "heading_collapsed": true,
    "hidden": true
   },
   "source": [
    "## All Runs, 0-shot"
   ]
  },
  {
   "cell_type": "code",
   "execution_count": null,
   "metadata": {
    "hidden": true
   },
   "outputs": [],
   "source": []
  },
  {
   "cell_type": "markdown",
   "metadata": {
    "heading_collapsed": true,
    "hidden": true
   },
   "source": [
    "## GoToGreenBox"
   ]
  },
  {
   "cell_type": "code",
   "execution_count": null,
   "metadata": {
    "hidden": true,
    "scrolled": false
   },
   "outputs": [],
   "source": [
    "# COMPARE rollouts with None after distilling from different teachers \n",
    "\n",
    "runs = [\n",
    "    (['T1845'], '1798 None Finetuned from PA'),\n",
    "    (['T1849'], '1798 None Finetuned from Finetuned PA3'),\n",
    "    (['T1846'], '1798 None Finetuned from PA3'),\n",
    "    (['T1847'], '1798 None Finetuned with RL'),\n",
    "    (['T1840'], '1798 None 0-shot'),\n",
    "]\n",
    "plot_final_generalization(runs, 'Comparing Different Finetuning Strategies', all_run_names=['Level_GoToGreenBox'])\n",
    "plot_final_generalization(runs, 'Comparing Different Finetuning Strategies', 'stoch_accuracy', all_run_names=['Level_GoToGreenBox'])\n",
    "print(\"=\" * 100)\n",
    "\n",
    "# COMPARE rollouts with different teachers\n",
    "\n",
    "runs = [\n",
    "    (['T1834'], '1798 PA'),\n",
    "    (['T1848'], '1798 PA3 Finetuned'),\n",
    "    (['T1837'], '1798 PA3'),\n",
    "]\n",
    "plot_final_generalization(runs, 'Comparing Different Collection Teachers', all_run_names=['Level_GoToGreenBox'])\n",
    "plot_final_generalization(runs, 'Comparing Different Collection Teachers', 'stoch_accuracy', all_run_names=['Level_GoToGreenBox'])\n",
    "print(\"=\" * 100)\n",
    "\n",
    "# COMPARE finetuning curves\n",
    "\n",
    "runs = [\n",
    "    (['T1845'], '1798 Distill from PA', 5 * 1),\n",
    "    (['T1846'], '1798 Distill from PA3', 5 * 1/3),\n",
    "    (['T1847'], '1798 RL', 5 * 1),\n",
    "    (['T1849'], '1798 Distill from Finetuned PA3', 5 * 1/3),\n",
    "]\n",
    "plot_finetune_generalization(runs, '')\n",
    "plot_finetune_generalization(runs, '', 'stoch_accuracy')\n",
    "\n",
    "\n",
    "# RATE of PA3 finetuning\n",
    "\n",
    "runs = [\n",
    "    (['T1850'], '1798 Distill PA3 from PA', 1),\n",
    "]\n",
    "plot_finetune_generalization(runs, '')\n",
    "plot_finetune_generalization(runs, '', 'stoch_accuracy')"
   ]
  },
  {
   "cell_type": "code",
   "execution_count": null,
   "metadata": {
    "hidden": true,
    "scrolled": false
   },
   "outputs": [],
   "source": [
    "levels = [\n",
    "    'Level_GoToHeldout',\n",
    "    'Level_PutNextSameColor',\n",
    "    'Level_Unlock',\n",
    "    'Level_GoToImpUnlock',\n",
    "]\n",
    "\n",
    "for level in levels:\n",
    "    # COMPARE rollouts with None after distilling from different teachers \n",
    "\n",
    "#     runs = [\n",
    "#         (['T1851'], '1798 None Finetuned from PA'),\n",
    "#         (['T1855'], '1798 None Finetuned from Finetuned PA3'),\n",
    "#         (['T1856'], '1798 None Finetuned from Finetuned PA3'),\n",
    "#         (['T1853'], '1798 None Finetuned from PA3'),\n",
    "#         (['T1854'], '1798 None Finetuned from PA3'),\n",
    "#         (['T1852'], '1798 None Finetuned with RL'),\n",
    "#         (['T1840'], '1798 None 0-shot'),\n",
    "#     ]\n",
    "#     plot_final_generalization(runs, 'Comparing Different Finetuning Strategies', all_run_names=[level])\n",
    "#     plot_final_generalization(runs, 'Comparing Different Finetuning Strategies', 'stoch_accuracy', all_run_names=[level])\n",
    "\n",
    "#     # COMPARE rollouts with different teachers\n",
    "\n",
    "#     runs = [\n",
    "#         (['T1834'], '1798 PA'),\n",
    "#         (['T1837'], '1798 PA3'),\n",
    "#     ]\n",
    "#     plot_final_generalization(runs, 'Comparing Different Collection Teachers', all_run_names=[level])\n",
    "#     plot_final_generalization(runs, 'Comparing Different Collection Teachers', 'stoch_accuracy', all_run_names=[level])\n",
    "#     print(\"=\" * 100)\n",
    "\n",
    "    # COMPARE finetuning curves\n",
    "\n",
    "    runs = [\n",
    "        (['T1851'], '1798 Distill from PA', 5 * 1),\n",
    "        (['T1853'], '1798 Distill from PA3', 5 * 1/3),\n",
    "        (['T1854'], '1798 Distill from PA3', 5 * 1/3),\n",
    "        (['T1852'], '1798 RL', 5 * 1),\n",
    "        (['T1855'], '1798 Distill from Finetuned PA3', 5 * 1/3),\n",
    "        (['T1856'], '1798 Distill from Finetuned PA3', 5 * 1/3),\n",
    "    ]\n",
    "    plot_finetune_generalization(runs, '', all_run_names=[level])\n",
    "    plot_finetune_generalization(runs, '', 'stoch_accuracy', all_run_names=[level])\n",
    "    print(\"=\" * 1000)"
   ]
  },
  {
   "cell_type": "code",
   "execution_count": null,
   "metadata": {
    "hidden": true
   },
   "outputs": [],
   "source": []
  },
  {
   "cell_type": "markdown",
   "metadata": {
    "heading_collapsed": true,
    "hidden": true
   },
   "source": [
    "## Distill to None, sample efficiency, best so far.\n",
    "CONCLUSION: [INSERT]"
   ]
  },
  {
   "cell_type": "code",
   "execution_count": null,
   "metadata": {
    "hidden": true,
    "scrolled": true
   },
   "outputs": [],
   "source": [
    "# # Fake new levels\n",
    "runs = [\n",
    "    (['T1656'], '1630 PA Instr'),\n",
    "    (['T1657'], '1630 PA No Instr'),\n",
    "    (['T1659'], '1630 PA3 Instr'),\n",
    "    (['T1660'], '1630 PA3 No Instr'),\n",
    "    (['T1658'], '1630 None Instr'),\n",
    "]\n",
    "# plot_final_generalization(runs, 'Eval New Levels')\n",
    "# plot_final_generalization(runs, 'Eval New Levels', 'stoch_accuracy')\n",
    "\n",
    "\n",
    "# runs = [\n",
    "#     (['T1550'], '1534 Oracle -> None Instrs'),\n",
    "#     (['T1567'], '1567 Oracle -> None Instrs Easy'),\n",
    "#     (['T1564'], '1534 Oracle -> None Instrs'),\n",
    "# ]\n",
    "plot_final_generalization(runs, 'Eval with Teacher - None')\n",
    "print(\"=\" * 100)\n",
    "plot_final_generalization(runs, 'Eval with Teacher - None', 'stoch_accuracy')\n",
    "\n"
   ]
  },
  {
   "cell_type": "code",
   "execution_count": null,
   "metadata": {
    "hidden": true,
    "scrolled": true
   },
   "outputs": [],
   "source": [
    "\n",
    "runs = [\n",
    "    (['T1764'], 'PA3 distill from finetuned', 1/3),\n",
    "    (['T1765'], 'PA3 distill from finetuned', 1/3),\n",
    "    (['T1766'], 'PA3 distill from finetuned', 1/3),\n",
    "#     (['T1691'], '0 - shot'),\n",
    "]\n",
    "plot_finetune_generalization(runs, 'Eval with Teacher - None', smooth=5)\n",
    "print(\"=\" * 100)\n",
    "plot_finetune_generalization(runs, 'Eval with Teacher - None', 'stoch_accuracy', smooth=5)\n"
   ]
  },
  {
   "cell_type": "code",
   "execution_count": null,
   "metadata": {
    "hidden": true,
    "scrolled": true
   },
   "outputs": [],
   "source": [
    "# Unlock\n",
    "runs = [\n",
    "    (['T1694'], 'PA distill'),\n",
    "    (['T1695'], 'PA3 distill'),\n",
    "    (['T1691'], '0 - shot'),\n",
    "]\n",
    "plot_final_generalization(runs, 'Eval with Teacher - None')\n",
    "print(\"=\" * 100)\n",
    "plot_final_generalization(runs, 'Eval with Teacher - None', 'stoch_accuracy')\n",
    "\n",
    "runs = [\n",
    "#     (['T1694'], 'PA distill', 1),\n",
    "    (['T1695'], 'PA3 distill', 1/3),\n",
    "#     (['T1696'], 'PA distill', 1),\n",
    "    (['T1697'], 'PA3 distill', 1/3),\n",
    "    (['T1700'], 'PA distill', 1),\n",
    "    (['T1701'], 'PA3 distill', 1/3),\n",
    "    (['T1720'], 'PA3 finetune + distill', 1/3),\n",
    "    (['T1721'], 'PA3 finetune + distill', 1/3),\n",
    "    (['T1722'], 'PA3 finetune + distill', 1/3),\n",
    "    (['T1763'], 'PA longer', 1),\n",
    "    (['T1767'], 'PA longer', 1),\n",
    "#     (['T1764'], 'PA3 distill from finetuned', 1/3),\n",
    "#     (['T1765'], 'PA3 distill from finetuned', 1/3),\n",
    "#     (['T1766'], 'PA3 distill from finetuned', 1/3),\n",
    "    (['T1794'], 'PA3 distill from finetuned ', 1/3),\n",
    "    (['T1795'], 'PA3 distill from finetuned', 1/3),\n",
    "    (['T1796'], 'PA3 distill from finetuned', 1/3),\n",
    "#     (['T1691'], '0 - shot'),\n",
    "]\n",
    "plot_finetune_generalization(runs, 'Eval with Teacher - None', smooth=10)\n",
    "print(\"=\" * 100)\n",
    "plot_finetune_generalization(runs, 'Eval with Teacher - None', 'stoch_accuracy', smooth=10)\n"
   ]
  },
  {
   "cell_type": "markdown",
   "metadata": {
    "heading_collapsed": true,
    "hidden": true
   },
   "source": [
    "## <font color='green'> Comparing the Feedback Efficiency of Bootstrapping vs not (NO distillation) </font>\n",
    "### (a) Train on higher-level teacher directly\n",
    "### (b) Train with easy teacher, distill to higher-level teacher\n",
    "### (c) Start training on easy teacher, then distill from easy to higher-level teacher, than train with higher-level teacher\n",
    "\n",
    "In all cases, the agent advances to the next curriculum level when it can perform well on the highest-level teacher currently provided."
   ]
  },
  {
   "cell_type": "code",
   "execution_count": null,
   "metadata": {
    "hidden": true,
    "scrolled": true
   },
   "outputs": [],
   "source": [
    "data_names = [\n",
    "    (['0540'], 'Train PA Directly'),\n",
    "#     (['0539', '0540'], 'Train PA Directly'),\n",
    "    (['0543', '0544'], 'Train CC2 Directly'),\n",
    "    (['0557', '0558'], 'Train PA, Distill CC2'),\n",
    "    (['637', '638'], 'Train PA, Distill CC2, Train CC2'),\n",
    "]\n",
    "plot_curriculum(data_names, 'feedback')\n",
    "\n",
    "data_names = [\n",
    "    (['0540'], 'Train PA Directly'),\n",
    "    (['0545', '0546'], 'Train CC3 Directly'),\n",
    "    (['682', '683'], 'Train CC3 Directly + Self-Distill'),\n",
    "    (['0559', '0560'], 'Train PA, Distill CC3'),\n",
    "    (['639', '640'], 'Train PA, Distill CC3, Train CC3'),\n",
    "]\n",
    "plot_curriculum(data_names, 'feedback')\n",
    "\n",
    "data_names = [\n",
    "    (['0540'], 'Train PA Directly'),\n",
    "    (['0547', '0548'], 'Train SUB Directly'),\n",
    "    (['684', '685'], 'Train SUB Directly + Self-Distill'),\n",
    "    (['0561', '0562'], 'Train PA, Distill SUB'),\n",
    "    (['641'], 'Train PA, Distill SUB, Train SUB'),\n",
    "]\n",
    "plot_curriculum(data_names, 'feedback')\n"
   ]
  },
  {
   "cell_type": "markdown",
   "metadata": {
    "heading_collapsed": true,
    "hidden": true
   },
   "source": [
    "## <font color='green'> Comparing the Feedback Efficiency of Bootstrapping vs not (YES distillation) </font>"
   ]
  },
  {
   "cell_type": "code",
   "execution_count": null,
   "metadata": {
    "hidden": true,
    "scrolled": false
   },
   "outputs": [],
   "source": [
    "data_names = [\n",
    "    (['0631', '0632'], 'CC2'),\n",
    "    (['T0729_PRE_to_CC2', '728'], 'PA->CC2'),\n",
    "]\n",
    "plot_curriculum(data_names, 'feedback')\n",
    "\n",
    "data_names = [\n",
    "    (['0633', '0634'], 'CC3'),\n",
    "    (['0666', '0667'], 'PA->CC3'),\n",
    "]\n",
    "plot_curriculum(data_names, 'feedback')\n",
    "\n",
    "data_names = [\n",
    "    (['0635', '0636'], 'SUB'),\n",
    "    (['0668', '0669'], 'PA->SUB'),\n",
    "]\n",
    "plot_curriculum(data_names, 'feedback')"
   ]
  },
  {
   "cell_type": "markdown",
   "metadata": {},
   "source": [
    "# NEW Finetuning"
   ]
  },
  {
   "cell_type": "markdown",
   "metadata": {
    "heading_collapsed": true
   },
   "source": [
    "## 0-shot"
   ]
  },
  {
   "cell_type": "code",
   "execution_count": null,
   "metadata": {
    "hidden": true,
    "scrolled": true
   },
   "outputs": [],
   "source": [
    "# runs = [\n",
    "#     (['2286'], 'OFF3 from oracle S=1'),\n",
    "#     (['2301'], 'OFF3 from oracle S=2'),\n",
    "#     (['2302'], 'OFF3 from oracle S=3'),\n",
    "#     (['2305'], 'RL OFF3, S=1'),\n",
    "#     (['2306'], 'RL OFF3, S=2'),\n",
    "#     (['2307'], 'RL OFF3, S=3'),\n",
    "#     (['2311'], 'OFF3 from PA S=1'),\n",
    "#     (['2312'], 'OFF3 from PA S=2'),\n",
    "#     (['2313'], 'OFF3 from PA S=3'),\n",
    "#     (['2319'], 'OFF3 from PA S=1'),\n",
    "#     (['2320'], 'OFF3 from PA S=2'),\n",
    "#     (['2321'], 'OFF3 from PA S=3'),\n",
    "# ]\n",
    "# plot_final_generalization(runs, 'OFF3 - No instrs')\n",
    "# plot_final_generalization(runs, 'OFF3 - No instrs', 'stoch_accuracy')\n",
    "\n",
    "\n",
    "# runs = [\n",
    "#     (['2290'], 'OFF5 from oracle S=1'),\n",
    "#     (['2303'], 'OFF5 from oracle S=2'),\n",
    "#     (['2304'], 'OFF5 from oracle S=3'),\n",
    "#     (['2308'], 'RL OFF5, S=1'),\n",
    "#     (['2309'], 'RL OFF5, S=2'),\n",
    "#     (['2310'], 'RL OFF5, S=3'),\n",
    "#     (['2314'], 'OFF5 from PA S=1'),\n",
    "#     (['2315'], 'OFF5 from PA S=2'),\n",
    "#     (['2316'], 'OFF5 from PA S=3'),\n",
    "#     (['2322'], 'OFF5 from PA S=1'),\n",
    "#     (['2323'], 'OFF5 from PA S=2'),\n",
    "#     (['2324'], 'OFF5 from PA S=3'),\n",
    "# ]\n",
    "# plot_final_generalization(runs, 'OFF5 - No instrs')\n",
    "# plot_final_generalization(runs, 'OFF5 - No instrs', 'stoch_accuracy')\n",
    "\n",
    "\n",
    "runs = [\n",
    "    (['2286', '2301', '2302'], 'OFF3 from oracle'),\n",
    "    (['2305', '2306', '2307'], 'RL OFF3'),\n",
    "    (['2311', '2312', '2313'], 'OFF3 from PA'),\n",
    "    (['2319', '2320', '2321'], 'OFF3 from PA'),\n",
    "]\n",
    "plot_final_generalization(runs, 'OFF3 - No instrs')\n",
    "plot_final_generalization(runs, 'OFF3 - No instrs', 'stoch_accuracy')\n",
    "\n",
    "\n",
    "runs = [\n",
    "    (['2290', '2303', '2304'], 'OFF5 from oracle'),\n",
    "    (['2308', '2309', '2310'], 'RL OFF5'),\n",
    "    (['2314', '2315', '2316'], 'OFF5 from PA'),\n",
    "    (['2322', '2323', '2324'], 'OFF5 from PA'),\n",
    "]\n",
    "plot_final_generalization(runs, 'OFF5 - No instrs')\n",
    "plot_final_generalization(runs, 'OFF5 - No instrs', 'stoch_accuracy')\n",
    "\n"
   ]
  },
  {
   "cell_type": "code",
   "execution_count": null,
   "metadata": {
    "hidden": true,
    "scrolled": true
   },
   "outputs": [],
   "source": [
    "\n",
    "runs = [\n",
    "    (['2290', '2303', '2304'], 'OFF10 from oracle'),\n",
    "    (['2349', '2350', '2351'], 'OFF10 from PA'),\n",
    "    (['2355', '2356', '2357'], 'OFF10 from PA 5 levels'),\n",
    "]\n",
    "plot_final_generalization(runs, 'OFF10 - No instrs', \n",
    "                          all_run_names=['Level_PutNextSameColor', 'Level_Unlock'])\n",
    "plot_final_generalization(runs, 'OFF10 - No instrs', 'stoch_accuracy',\n",
    "                          all_run_names=['Level_PutNextSameColor', 'Level_Unlock'])\n",
    "\n",
    "\n",
    "\n",
    "runs = [\n",
    "    (['2287'], 'SUB From Oracle'),\n",
    "    (['2346', '2347', '2348'], 'SUB From PA', ),\n",
    "    (['2352', '2353', '2354'], 'SUB From PA 5 levels '),\n",
    "]\n",
    "plot_final_generalization(runs, 'SUB',\n",
    "                         all_run_names=['Level_PutNextSameColor', 'Level_Unlock'])\n",
    "plot_final_generalization(runs, 'SUB', 'stoch_accuracy', \n",
    "     all_run_names=['Level_PutNextSameColor', 'Level_Unlock'])"
   ]
  },
  {
   "cell_type": "code",
   "execution_count": null,
   "metadata": {
    "hidden": true,
    "scrolled": true
   },
   "outputs": [],
   "source": [
    "# runs = [\n",
    "#     (['T2018'], '2046 PA'),\n",
    "#     (['T2019'], '2046 PA3'),\n",
    "#     (['T2020'], '2046 None'),\n",
    "# ]\n",
    "# plot_final_generalization(runs, 'Trained on PutNext - PA3')\n",
    "# plot_final_generalization(runs, 'Trained on PutNext - PA3', 'stoch_accuracy')\n",
    "\n",
    "\n",
    "# runs = [\n",
    "#     (['T2067'], '2048 PA'),\n",
    "#     (['T2068'], '2048 PA3'),\n",
    "#     (['T2069'], '2048 None'),\n",
    "# ]\n",
    "# plot_final_generalization(runs, 'Trained on PutNext - PA3')\n",
    "# plot_final_generalization(runs, 'Trained on PutNext - PA3', 'stoch_accuracy')\n",
    "\n",
    "\n",
    "# runs = [\n",
    "#     (['2202'], 'None'),\n",
    "#     (['2203'], 'PA'),\n",
    "#     (['2204'], 'PA3'),\n",
    "#     (['2205'], 'CC3'),\n",
    "#     (['2206'], 'OFF3'),\n",
    "#     (['2207'], 'SUB'),\n",
    "#     (['2208'], 'OFFS3'),\n",
    "#     (['2209'], 'OFFSR3'),\n",
    "#     (['2210'], 'PA5'),\n",
    "#     (['2265'], 'PA5 No Instrs'),\n",
    "#     (['2211'], 'CC5'),\n",
    "#     (['2212'], 'OFF5'),\n",
    "#     (['2213'], 'OFFS5'),\n",
    "#     (['2214'], 'OFFSR5'),\n",
    "#     (['2215'], 'PA10'),\n",
    "#     (['2216'], 'CC10'),\n",
    "#     (['2217'], 'OFF10'),\n",
    "#     (['2218'], 'OFFS10'),\n",
    "#     (['2219'], 'OFFSR10'),\n",
    "# ]\n",
    "# plot_final_generalization(runs, 'Trained from oracle on 4')\n",
    "# plot_final_generalization(runs, 'Trained from oracle on 4', 'stoch_accuracy')\n",
    "\n",
    "\n",
    "\n",
    "runs = [\n",
    "#     (['2283'], 'None'),\n",
    "#     (['2284'], 'PA'),\n",
    "#     (['2284'], 'PA3'),\n",
    "    (['2286'], 'OFF3'),\n",
    "#     (['2287'], 'SUB'),\n",
    "#     (['2288'], 'OFFS3'),\n",
    "#     (['2289'], 'OFFSR3'),\n",
    "#     (['2265'], 'PA5'),\n",
    "    (['2290'], 'OFF5'),\n",
    "#     (['2291'], 'OFFS5'),\n",
    "#     (['2292'], 'OFFSR5'),\n",
    "]\n",
    "plot_final_generalization(runs, 'No instrs')\n",
    "plot_final_generalization(runs, 'No instrs', 'stoch_accuracy')\n",
    "\n",
    "\n",
    "\n",
    "\n",
    "runs = [\n",
    "    (['2207'], 'SUB Instrs'),\n",
    "    (['2287'], 'SUB No Instrs'),\n",
    "]\n",
    "plot_final_generalization(runs, 'SUB')\n",
    "plot_final_generalization(runs, 'SUB', 'stoch_accuracy')"
   ]
  },
  {
   "cell_type": "markdown",
   "metadata": {
    "heading_collapsed": true
   },
   "source": [
    "## Finetune"
   ]
  },
  {
   "cell_type": "code",
   "execution_count": null,
   "metadata": {
    "hidden": true,
    "scrolled": true
   },
   "outputs": [],
   "source": [
    "runs = [\n",
    "    (['T2021'], '2046 PA', 5),\n",
    "    (['T2022'], '2046 PA3', 5/3),\n",
    "    (['T2023'], '2046 None', 5),\n",
    "]\n",
    "plt.xlim(0, 30)\n",
    "plot_finetune_generalization(runs, 'Finetune', smooth=3)"
   ]
  },
  {
   "cell_type": "code",
   "execution_count": null,
   "metadata": {
    "hidden": true,
    "scrolled": true
   },
   "outputs": [],
   "source": [
    "# DOES finetuning the teacher help?\n",
    "runs = [\n",
    "    (['T2220B', 'T2238'], 'RL Train, no teacher', 400),\n",
    "    (['T2220_', 'T2238'], 'RL Train, no teacher', 400),\n",
    "    (['T2266'], 'Distill from finetuned OFFS3', 400),\n",
    "    (['T2267'], 'Distill from finetuned OFFS5', 400),\n",
    "    (['T2268'], 'Distill from finetuned OFFS10', 400),\n",
    "    (['T2226', 'T2244'], 'Distill from OFFS3', 400),\n",
    "    (['T2231', 'T2249'], 'Distill from OFFS5', 400),\n",
    "    (['T2236', 'T2254'], 'Distill from OFFS10', 400),\n",
    "]\n",
    "plot_finetune_generalization(runs, 'Finetune - OFFS', smooth=10, x_label='Feedback', y_label=\"Success Rate\")\n",
    "print(\"=====================================\")"
   ]
  },
  {
   "cell_type": "code",
   "execution_count": null,
   "metadata": {
    "hidden": true,
    "scrolled": true
   },
   "outputs": [],
   "source": [
    "# DOES distilling less help?\n",
    "runs = [\n",
    "    (['T2220B', 'T2238'], 'RL Train, no teacher', 400),\n",
    "    (['T2220_', 'T2238'], 'RL Train, no teacher', 400),\n",
    "    (['T2269'], 'Distill from OFFS3 D=5', 400),\n",
    "    (['T2270'], 'Distill from OFFS5 D=5', 400),\n",
    "    (['T2271'], 'Distill from OFFS3 StartLater', 400),\n",
    "    (['T2272'], 'Distill from OFFS5 StartLater', 400),\n",
    "    (['T2273'], 'Distill from OFFS3 SuccessOnly', 400),\n",
    "    (['T2274'], 'Distill from OFFS5 SuccessOnly', 400),\n",
    "    (['T2226', 'T2244'], 'Distill from OFFS3', 400),\n",
    "    (['T2231', 'T2249'], 'Distill from OFFS5', 400),\n",
    "    (['T2236', 'T2254'], 'Distill from OFFS10', 400),\n",
    "]\n",
    "# plt.xlim(0, 40000)\n",
    "\n",
    "plt.rcParams['figure.figsize'] = [15, 5]\n",
    "plot_finetune_generalization(runs, 'Finetune - OFFS', smooth=10, x_label='Feedback', y_label=\"Success Rate\")\n",
    "print(\"=====================================\")"
   ]
  },
  {
   "cell_type": "code",
   "execution_count": null,
   "metadata": {
    "hidden": true,
    "scrolled": false
   },
   "outputs": [],
   "source": [
    "# DOES distilling less help?\n",
    "runs = [\n",
    "    (['T2326', 'T2327', 'T2325'], 'Distill from OFF3', 400),\n",
    "    (['T2328', 'T2329', 'T2330'], 'Distill from OFF5', 400),\n",
    "#     (['T2331', 'T2332', 'T2336'], 'Distill from OFF3', 400),\n",
    "    (['T2333', 'T2334', 'T2335'], 'Distill from OFF5', 400),\n",
    "#     (['T2224', 'T2242'], 'Distill from OFF3', 400),\n",
    "#     (['T2230', 'T2248'], 'Distill from OFF5', 400),\n",
    "#     (['T2257', 'T2261'], 'Distill from OFF5', 400),\n",
    "#     (['T2221B', 'T2239'], 'Distill from PA', 400),\n",
    "#     (['T2221_', 'T2239'], 'Distill from PA', 400),\n",
    "    (['T2340', 'T2341'], 'Distill from PA', 400 * 3),\n",
    "    (['T2340', 'T2341'], 'Best case scenario OFF5', 400 * 3 / 5),\n",
    "]\n",
    "# plt.xlim(0, 40000)\n",
    "\n",
    "plt.rcParams['figure.figsize'] = [10, 5]\n",
    "plot_finetune_generalization(runs, 'Finetune - OFF', smooth=50, x_label='Feedback', y_label=\"Success Rate\")\n",
    "print(\"=====================================\")"
   ]
  },
  {
   "cell_type": "code",
   "execution_count": null,
   "metadata": {
    "hidden": true,
    "scrolled": true
   },
   "outputs": [],
   "source": [
    "\n",
    "\n",
    "runs = [\n",
    "    (['T2220B', 'T2238'], 'RL Train, no teacher', 400),\n",
    "    (['T2220_', 'T2238'], 'RL Train, no teacher', 400),\n",
    "    (['T2221B', 'T2239'], 'Distill from PA', 400),\n",
    "    (['T2221_', 'T2239'], 'Distill from PA', 400),\n",
    "    (['T2222', 'T2240'], 'Distill from PA3', 400),\n",
    "    (['T2228', 'T2246'], 'Distill from PA5', 400),\n",
    "    (['T2233', 'T2251'], 'Distill from PA10', 400),\n",
    "]\n",
    "plot_finetune_generalization(runs, 'Finetune - PA', smooth=10, x_label='Feedback', y_label=\"Success Rate\", \n",
    "                             all_run_names=['Level_PutNextSameColor'])\n",
    "print(\"=====================================\")\n",
    "\n",
    "runs = [\n",
    "    (['T2220B', 'T2238'], 'RL Train, no teacher', 400),\n",
    "    (['T2220_', 'T2238'], 'RL Train, no teacher', 400),\n",
    "    (['T2223B', 'T2241'], 'Distill from CC3', 400),\n",
    "    (['T2223_', 'T2241'], 'Distill from CC3', 400),\n",
    "    (['T2229', 'T2247'], 'Distill from CC5', 400),\n",
    "    (['T2256', 'T2256'], 'Distill from CC5', 400),\n",
    "    (['T2234', 'T2252'], 'Distill from CC10', 400),\n",
    "    (['T2259', 'T2263'], 'Distill from CC10', 400),\n",
    "]\n",
    "plot_finetune_generalization(runs, 'Finetune - CC', smooth=10, x_label='Feedback', y_label=\"Success Rate\", \n",
    "                             all_run_names=['Level_PutNextSameColor'])\n",
    "print(\"=====================================\")\n",
    "\n",
    "runs = [\n",
    "    (['T2220B', 'T2238'], 'RL Train, no teacher', 400),\n",
    "    (['T2220_', 'T2238'], 'RL Train, no teacher', 400),\n",
    "    (['T2225', 'T2243'], 'Distill from SUB', 400),\n",
    "]\n",
    "plot_finetune_generalization(runs, 'Finetune - SUB', smooth=10, x_label='Feedback', y_label=\"Success Rate\", \n",
    "                             all_run_names=['Level_PutNextSameColor'])\n",
    "print(\"=====================================\")\n",
    "runs = [\n",
    "    (['T2220B', 'T2238'], 'RL Train, no teacher', 400),\n",
    "    (['T2220_', 'T2238'], 'RL Train, no teacher', 400),\n",
    "    (['T2224', 'T2242'], 'Distill from OFF3', 400),\n",
    "    (['T2230', 'T2248'], 'Distill from OFF5', 400),\n",
    "    (['T2257', 'T2261'], 'Distill from OFF5', 400),\n",
    "    (['T2235', 'T2253'], 'Distill from OFF10', 400),\n",
    "]\n",
    "plot_finetune_generalization(runs, 'Finetune - OFF', smooth=10, x_label='Feedback', y_label=\"Success Rate\", \n",
    "                             all_run_names=['Level_PutNextSameColor'])\n",
    "print(\"=====================================\")\n",
    "runs = [\n",
    "    (['T2220B', 'T2238'], 'RL Train, no teacher', 400),\n",
    "    (['T2220_', 'T2238'], 'RL Train, no teacher', 400),\n",
    "    (['T2226', 'T2244'], 'Distill from OFFS3', 400),\n",
    "    (['T2231', 'T2249'], 'Distill from OFFS5', 400),\n",
    "    (['T2236', 'T2254'], 'Distill from OFFS10', 400),\n",
    "]\n",
    "plot_finetune_generalization(runs, 'Finetune - OFFS', smooth=10, x_label='Feedback', y_label=\"Success Rate\", \n",
    "                             all_run_names=['Level_PutNextSameColor'])\n",
    "print(\"=====================================\")\n",
    "\n",
    "runs = [\n",
    "    (['T2220B', 'T2238'], 'RL Train, no teacher', 400),\n",
    "    (['T2220_', 'T2238'], 'RL Train, no teacher', 400),\n",
    "    (['T2227', 'T2245'], 'Distill from OFFSR3', 400),\n",
    "    (['T2232', 'T2250'], 'Distill from OFFSR5', 400),\n",
    "    (['T2237', 'T2255'], 'Distill from OFFSR10', 400),\n",
    "]\n",
    "plot_finetune_generalization(runs, 'Finetune - OFFSR', smooth=10, x_label='Feedback', y_label=\"Success Rate\", \n",
    "                             all_run_names=['Level_PutNextSameColor'])\n",
    "print(\"=====================================\")\n",
    "\n",
    "runs = [\n",
    "    (['T2220B', 'T2238'], 'RL Train, no teacher', 400),\n",
    "    (['T2220_', 'T2238'], 'RL Train, no teacher', 400),\n",
    "    (['T2222', 'T2240'], 'Distill from PA3', 400),\n",
    "    (['T2223B', 'T2241'], 'Distill from CC3', 400),\n",
    "    (['T2223_', 'T2241'], 'Distill from CC3', 400),\n",
    "    (['T2224', 'T2242'], 'Distill from OFF3', 400),\n",
    "    (['T2226', 'T2244'], 'Distill from OFFS3', 400),\n",
    "    (['T2227', 'T2245'], 'Distill from OFFSR3', 400),\n",
    "    (['T2264'], 'Distill from Oracle', 400),\n",
    "]\n",
    "plot_finetune_generalization(runs, 'Finetune - 3 steps', smooth=10, x_label='Feedback', \n",
    "                             y_label=\"Success Rate\", \n",
    "                             all_run_names=['Level_PutNextSameColor'])\n",
    "print(\"=====================================\")\n",
    "\n",
    "\n",
    "runs = [\n",
    "    (['T2220B', 'T2238'], 'RL Train, no teacher', 400),\n",
    "    (['T2220_', 'T2238'], 'RL Train, no teacher', 400),\n",
    "    (['T2228', 'T2246'], 'Distill from PA5', 400),\n",
    "    (['T2229', 'T2247'], 'Distill from CC5', 400),\n",
    "    (['T2256', 'T2256'], 'Distill from CC5', 400),\n",
    "    (['T2230', 'T2248'], 'Distill from OFF5', 400),\n",
    "    (['T2257', 'T2261'], 'Distill from OFF5', 400),\n",
    "    (['T2231', 'T2249'], 'Distill from OFFS5', 400),\n",
    "    (['T2232', 'T2250'], 'Distill from OFFSR5', 400),\n",
    "    (['T2264'], 'Distill from Oracle', 400),\n",
    "]\n",
    "plot_finetune_generalization(runs, 'Finetune - 5 steps', smooth=10, x_label='Feedback', \n",
    "                             y_label=\"Success Rate\", \n",
    "                             all_run_names=['Level_PutNextSameColor'])\n",
    "print(\"=====================================\")\n",
    "runs = [\n",
    "    (['T2220B', 'T2238'], 'RL Train, no teacher', 400),\n",
    "    (['T2220_', 'T2238'], 'RL Train, no teacher', 400),\n",
    "    (['T2233', 'T2251'], 'Distill from PA10', 400),\n",
    "    (['T2234', 'T2252'], 'Distill from CC10', 400),\n",
    "    (['T2259', 'T2263'], 'Distill from CC10', 400),\n",
    "    (['T2235', 'T2253'], 'Distill from OFF10', 400),\n",
    "    (['T2236', 'T2254'], 'Distill from OFFS10', 400),\n",
    "    (['T2237', 'T2255'], 'Distill from OFFSR10', 400),\n",
    "    (['T2264'], 'Distill from Oracle', 400),\n",
    "]\n",
    "plot_finetune_generalization(runs, 'Finetune - 10 steps', smooth=10, x_label='Feedback', \n",
    "                             y_label=\"Success Rate\", \n",
    "                             all_run_names=['Level_PutNextSameColor'])\n",
    "print(\"=====================================\")"
   ]
  },
  {
   "cell_type": "code",
   "execution_count": null,
   "metadata": {
    "hidden": true
   },
   "outputs": [],
   "source": [
    "runs = [\n",
    "    (['T2264'], 'Distill from Oracle', 400),\n",
    "]\n",
    "plot_finetune_generalization(runs, 'Finetune - 10 steps', smooth=10, x_label='Feedback', \n",
    "                             y_label=\"Success Rate\", \n",
    "                             all_run_names=['Level_PutNextSameColor'])\n",
    "print(\"=====================================\")"
   ]
  },
  {
   "cell_type": "code",
   "execution_count": null,
   "metadata": {
    "hidden": true,
    "scrolled": true
   },
   "outputs": [],
   "source": [
    "# ALL RUNS!\n",
    "\n",
    "# runs = [\n",
    "#     (['T2220B'], 'RL Train, no teacher', 400),\n",
    "#     (['T2220_'], 'RL Train, no teacher', 400),\n",
    "#     (['T2221B'], 'Distill from PA', 400),\n",
    "#     (['T2221_'], 'Distill from PA', 400),\n",
    "#     (['T2222'], 'Distill from PA3', 400),\n",
    "#     (['T2223'], 'Distill from CC3', 400),\n",
    "#     (['T2224'], 'Distill from OFF3', 400),\n",
    "#     (['T2225'], 'Distill from SUB', 400),\n",
    "#     (['T2226'], 'Distill from OFFS3', 400),\n",
    "#     (['T2227'], 'Distill from OFFSR3', 400),\n",
    "#     (['T2228'], 'Distill from PA5', 400),\n",
    "#     (['T2229'], 'Distill from CC5', 400),\n",
    "#     (['T2230'], 'Distill from OFF5', 400),\n",
    "#     (['T2231'], 'Distill from OFFS5', 400),\n",
    "#     (['T2232'], 'Distill from OFFSR5', 400),\n",
    "#     (['T2233'], 'Distill from PA10', 400),\n",
    "#     (['T2234'], 'Distill from CC10', 400),\n",
    "#     (['T2235'], 'Distill from OFF10', 400),\n",
    "#     (['T2236'], 'Distill from OFFS10', 400),\n",
    "#     (['T2237'], 'Distill from OFFSR10', 400),\n",
    "# ]\n",
    "\n",
    "\n",
    "\n",
    "runs = [\n",
    "    (['T2220B', 'T2238'], 'RL Train, no teacher', 1),\n",
    "    (['T2220_', 'T2238'], 'RL Train, no teacher', 1),\n",
    "    (['T2221B', 'T2239'], 'Distill from PA', 1),\n",
    "    (['T2221_', 'T2239'], 'Distill from PA', 1/3),\n",
    "    (['T2222', 'T2240'], 'Distill from PA3', 1/ 3),\n",
    "    (['T2228', 'T2246'], 'Distill from PA5', 1 / 10),\n",
    "    (['T2233', 'T2251'], 'Distill from PA10', 1 / 10),\n",
    "]\n",
    "plot_finetune_generalization(runs, 'Finetune - PA UNALIGNED BAD BAD BAD', smooth=10, \n",
    "                             x_label='Feedback', y_label=\"Success Rate\", \n",
    "                             all_run_names=['Level_PutNextSameColor'])\n",
    "print(\"=====================================\")\n",
    "\n",
    "runs = [\n",
    "    (['T2220B', 'T2238'], 'RL Train, no teacher', 1),\n",
    "    (['T2220_', 'T2238'], 'RL Train, no teacher', 1),\n",
    "    (['T2221B', 'T2239'], 'Distill from PA', 1),\n",
    "    (['T2221_', 'T2239'], 'Distill from PA', 3),\n",
    "    (['T2222', 'T2240'], 'Distill from PA3', 3),\n",
    "    (['T2228', 'T2246'], 'Distill from PA5', 10),\n",
    "    (['T2233', 'T2251'], 'Distill from PA10', 10),\n",
    "]\n",
    "plot_finetune_generalization(runs, 'Finetune - PA UNALIGNED BAD BAD BAD', smooth=10, x_label='Feedback', \n",
    "                             y_label=\"Success Rate\", all_run_names=['Level_PutNextSameColor'])\n",
    "print(\"=====================================\")\n",
    "\n",
    "\n",
    "runs = [\n",
    "    (['T2220B', 'T2238'], 'RL Train, no teacher', 400),\n",
    "    (['T2220_', 'T2238'], 'RL Train, no teacher', 400),\n",
    "    (['T2221B', 'T2239'], 'Distill from PA', 400),\n",
    "    (['T2221_', 'T2239'], 'Distill from PA', 400),\n",
    "    (['T2222', 'T2240'], 'Distill from PA3', 400),\n",
    "    (['T2228', 'T2246'], 'Distill from PA5', 400),\n",
    "    (['T2233', 'T2251'], 'Distill from PA10', 400),\n",
    "]\n",
    "plot_finetune_generalization(runs, 'Finetune - PA', smooth=10, x_label='Feedback', y_label=\"Success Rate\")\n",
    "print(\"=====================================\")\n",
    "\n",
    "runs = [\n",
    "    (['T2220B', 'T2238'], 'RL Train, no teacher', 400),\n",
    "    (['T2220_', 'T2238'], 'RL Train, no teacher', 400),\n",
    "    (['T2223B', 'T2241'], 'Distill from CC3', 400),\n",
    "    (['T2223_', 'T2241'], 'Distill from CC3', 400),\n",
    "    (['T2229', 'T2247'], 'Distill from CC5', 400),\n",
    "    (['T2234', 'T2252'], 'Distill from CC10', 400),\n",
    "]\n",
    "plot_finetune_generalization(runs, 'Finetune - CC', smooth=10, x_label='Feedback', y_label=\"Success Rate\")\n",
    "print(\"=====================================\")\n",
    "\n",
    "runs = [\n",
    "    (['T2220B', 'T2238'], 'RL Train, no teacher', 400),\n",
    "    (['T2220_', 'T2238'], 'RL Train, no teacher', 400),\n",
    "    (['T2225', 'T2243'], 'Distill from SUB', 400),\n",
    "]\n",
    "plot_finetune_generalization(runs, 'Finetune - SUB', smooth=10, x_label='Feedback', y_label=\"Success Rate\")\n",
    "print(\"=====================================\")\n",
    "runs = [\n",
    "    (['T2220B', 'T2238'], 'RL Train, no teacher', 400),\n",
    "    (['T2220_', 'T2238'], 'RL Train, no teacher', 400),\n",
    "    (['T2224', 'T2242'], 'Distill from OFF3', 400),\n",
    "    (['T2230', 'T2248'], 'Distill from OFF5', 400),\n",
    "    (['T2235', 'T2253'], 'Distill from OFF10', 400),\n",
    "]\n",
    "plot_finetune_generalization(runs, 'Finetune - OFF', smooth=10, x_label='Feedback', y_label=\"Success Rate\")\n",
    "print(\"=====================================\")\n",
    "runs = [\n",
    "    (['T2220B', 'T2238'], 'RL Train, no teacher', 400),\n",
    "    (['T2220_', 'T2238'], 'RL Train, no teacher', 400),\n",
    "    (['T2226', 'T2244'], 'Distill from OFFS3', 400),\n",
    "    (['T2231', 'T2249'], 'Distill from OFFS5', 400),\n",
    "    (['T2236', 'T2254'], 'Distill from OFFS10', 400),\n",
    "]\n",
    "plot_finetune_generalization(runs, 'Finetune - OFFS', smooth=10, x_label='Feedback', y_label=\"Success Rate\")\n",
    "print(\"=====================================\")\n",
    "\n",
    "runs = [\n",
    "    (['T2220B', 'T2238'], 'RL Train, no teacher', 400),\n",
    "    (['T2220_', 'T2238'], 'RL Train, no teacher', 400),\n",
    "    (['T2227', 'T2245'], 'Distill from OFFSR3', 400),\n",
    "    (['T2232', 'T2250'], 'Distill from OFFSR5', 400),\n",
    "    (['T2237', 'T2255'], 'Distill from OFFSR10', 400),\n",
    "]\n",
    "plot_finetune_generalization(runs, 'Finetune - OFFSR', smooth=10, x_label='Feedback', y_label=\"Success Rate\")\n",
    "print(\"=====================================\")\n",
    "\n",
    "runs = [\n",
    "    (['T2220B', 'T2238'], 'RL Train, no teacher', 400),\n",
    "    (['T2220_', 'T2238'], 'RL Train, no teacher', 400),\n",
    "    (['T2222', 'T2240'], 'Distill from PA3', 400),\n",
    "    (['T2223B', 'T2241'], 'Distill from CC3', 400),\n",
    "    (['T2223_', 'T2241'], 'Distill from CC3', 400),\n",
    "    (['T2224', 'T2242'], 'Distill from OFF3', 400),\n",
    "    (['T2226', 'T2244'], 'Distill from OFFS3', 400),\n",
    "    (['T2227', 'T2245'], 'Distill from OFFSR3', 400),\n",
    "]\n",
    "plot_finetune_generalization(runs, 'Finetune - 3 steps', smooth=10, x_label='Feedback', y_label=\"Success Rate\")\n",
    "print(\"=====================================\")\n",
    "\n",
    "\n",
    "runs = [\n",
    "    (['T2220B', 'T2238'], 'RL Train, no teacher', 400),\n",
    "    (['T2220_', 'T2238'], 'RL Train, no teacher', 400),\n",
    "    (['T2228', 'T2246'], 'Distill from PA5', 400),\n",
    "    (['T2229', 'T2247'], 'Distill from CC5', 400),\n",
    "    (['T2230', 'T2248'], 'Distill from OFF5', 400),\n",
    "    (['T2231', 'T2249'], 'Distill from OFFS5', 400),\n",
    "    (['T2232', 'T2250'], 'Distill from OFFSR5', 400),\n",
    "]\n",
    "plot_finetune_generalization(runs, 'Finetune - 5 steps', smooth=10, x_label='Feedback', y_label=\"Success Rate\")\n",
    "print(\"=====================================\")\n",
    "runs = [\n",
    "    (['T2220B', 'T2238'], 'RL Train, no teacher', 400),\n",
    "    (['T2220_', 'T2238'], 'RL Train, no teacher', 400),\n",
    "    (['T2233', 'T2251'], 'Distill from PA10', 400),\n",
    "    (['T2234', 'T2252'], 'Distill from CC10', 400),\n",
    "    (['T2235', 'T2253'], 'Distill from OFF10', 400),\n",
    "    (['T2236', 'T2254'], 'Distill from OFFS10', 400),\n",
    "    (['T2237', 'T2255'], 'Distill from OFFSR10', 400),\n",
    "]\n",
    "plot_finetune_generalization(runs, 'Finetune - 10 steps', smooth=10, x_label='Feedback', y_label=\"Success Rate\")\n",
    "print(\"=====================================\")"
   ]
  },
  {
   "cell_type": "code",
   "execution_count": null,
   "metadata": {
    "hidden": true,
    "scrolled": true
   },
   "outputs": [],
   "source": [
    "# Trained on PutNext\n",
    "# All from run 2046\n",
    "runs = [\n",
    "    (['T2054', 'T2057', 'T2060'], 'Distill from PA', 800),\n",
    "    (['T2055', 'T2058', 'T2061'], 'Distill from PA3', 800),\n",
    "    (['T2056', 'T2059', 'T2062'], 'RL Train, no teacher', 800),\n",
    "]\n",
    "plot_finetune_generalization(runs, 'Finetune', smooth=1, x_label='Feedback', y_label=\"Success Rate\")\n",
    "\n",
    "\n",
    "# Trained on four_levels\n",
    "# runs = [\n",
    "#     (['T2075', 'T2083', 'T2085'], '2047 PA (no PA3)', 1),\n",
    "#     (['T2072', 'T2077', 'T2080'], '2048 PA', 1),\n",
    "#     (['T2073', 'T2078', 'T2081'], '2048 PA3', 1),\n",
    "#     (['T2074', 'T2079', 'T2082'], '2048 None', 1),\n",
    "#     (['T2076', 'T2084', 'T2086'], '2048 None', 1),\n",
    "# ]\n",
    "runs = [\n",
    "    (['T2072', 'T2077', 'T2080'], 'Distill from PA', 800),\n",
    "    (['T2073', 'T2078', 'T2081'], 'Distill from PA3', 800),\n",
    "    (['T2074', 'T2079', 'T2082'], 'RL Train, no teacher', 800),\n",
    "]\n",
    "\n",
    "plot_finetune_generalization(runs, 'Rollout with no teacher', smooth=1, x_label='Feedback', y_label=\"Success Rate\")"
   ]
  },
  {
   "cell_type": "code",
   "execution_count": null,
   "metadata": {
    "hidden": true,
    "scrolled": true
   },
   "outputs": [],
   "source": [
    "# Trained on four_levels, CC3 (run 2052)\n",
    "runs = [\n",
    "    (['T2087', 'T2089'], 'Distill from PA', 800),\n",
    "    (['T2088', 'T2090'], 'Distill from CC3', 800),\n",
    "]\n",
    "plot_finetune_generalization(runs, 'Finetune, CC3', smooth=3, x_label='Feedback', y_label=\"Success Rate\")\n",
    "\n",
    "# Trained on four_levels, OFF3 (run 2053)\n",
    "runs = [\n",
    "    (['T2091'], 'Distill from PA', 800),\n",
    "    (['T2092'], 'Distill From OFF3', 800),\n",
    "]\n",
    "plot_finetune_generalization(runs, 'Finetune, OFF', smooth=3, x_label='Feedback', y_label=\"Success Rate\")"
   ]
  },
  {
   "cell_type": "code",
   "execution_count": null,
   "metadata": {
    "hidden": true,
    "scrolled": true
   },
   "outputs": [],
   "source": [
    "# Diff acc thresholds, PA\n",
    "runs = [\n",
    "    (['T2109'], '2093 PA Near-Perfect', 800),\n",
    "    (['T2098'], '2093 PA .98', 800),\n",
    "    (['T2097'], '2093 PA .95', 800),\n",
    "]\n",
    "plot_finetune_generalization(runs, 'Finetune, PA', smooth=1, x_label='Feedback', y_label=\"Success Rate\")\n",
    "\n",
    "\n",
    "runs = [\n",
    "    (['T2101'], '2094 PA3 .98', 800),\n",
    "    (['T2100'], '2094 PA3 .95', 800),\n",
    "    (['T2099'], '2094 PA3 .9', 800),\n",
    "]\n",
    "plot_finetune_generalization(runs, 'Finetune, PA3', smooth=1, x_label='Feedback', y_label=\"Success Rate\")\n",
    "\n",
    "\n",
    "runs = [\n",
    "    (['T2100'], '2094 CC3 .95', 1),\n",
    "    (['T2099'], '2094 CC3 .9', 1),\n",
    "    (['T2097'], '2094 CC3 .8', 1),\n",
    "]\n",
    "plot_finetune_generalization(runs, 'Finetune, CC3', smooth=1, x_label='Feedback', y_label=\"Success Rate\")\n",
    "\n",
    "\n",
    "runs = [\n",
    "    (['T2108'], '2094 CC3 .98', 1),\n",
    "    (['T2107'], '2094 CC3 .95', 1),\n",
    "    (['T2106'], '2094 CC3 .9', 1),\n",
    "    (['T2105'], '2094 CC3 .8', 1),\n",
    "]\n",
    "plot_finetune_generalization(runs, 'Finetune, OFF3', smooth=1, x_label='Feedback', y_label=\"Success Rate\") # kangaroo"
   ]
  },
  {
   "cell_type": "markdown",
   "metadata": {
    "heading_collapsed": true
   },
   "source": [
    "## Distillation steps? [5 seems best, but no big difference]"
   ]
  },
  {
   "cell_type": "code",
   "execution_count": null,
   "metadata": {
    "hidden": true
   },
   "outputs": [],
   "source": [
    "runs = [\n",
    "    (['T2063'], '1', 1),\n",
    "    (['T2064'], '5', 1),\n",
    "    (['T2054'], '10', 1), # , 'T2057', 'T2060'\n",
    "    (['T2065'], '20', 1),\n",
    "    (['T2066'], '30', 1),\n",
    "]\n",
    "plot_finetune_generalization(runs, 'Finetune', smooth=3)"
   ]
  },
  {
   "cell_type": "code",
   "execution_count": null,
   "metadata": {
    "hidden": true
   },
   "outputs": [],
   "source": [
    "runs = [\n",
    "    (['T2054', 'T2057', 'T2060'], '2046 PA', 1),\n",
    "    (['T2055', 'T2058', 'T2061'], '2046 PA3', 1),\n",
    "    (['T2056', 'T2059', 'T2062'], '2046 None', 1),\n",
    "]\n",
    "plot_finetune_generalization(runs, 'Finetune', smooth=3) # kangaroo"
   ]
  },
  {
   "cell_type": "markdown",
   "metadata": {
    "heading_collapsed": true
   },
   "source": [
    "# <font color='blue'> Claim 8: we can (largely) remove the reward during training once the first teacher is grounded.  </font> \n",
    "\n",
    "## <font color='blue'> [Status: Early results show it helps for PA, not SUB].  </font> "
   ]
  },
  {
   "cell_type": "markdown",
   "metadata": {
    "hidden": true
   },
   "source": [
    "Let's test this by taking PA (the easiest teacher to learn) and seeing at what point during training it can zero-shot solve the entire curriculum."
   ]
  },
  {
   "cell_type": "markdown",
   "metadata": {
    "heading_collapsed": true,
    "hidden": true
   },
   "source": [
    "## <font color='blue'> [Helper] See how early through the curriculum we can remove the reward. </font>"
   ]
  },
  {
   "cell_type": "markdown",
   "metadata": {
    "hidden": true
   },
   "source": [
    "Currently suggests there's no one point where the reward can be removed; we need to keep checking it it and training if needed."
   ]
  },
  {
   "cell_type": "code",
   "execution_count": null,
   "metadata": {
    "hidden": true
   },
   "outputs": [],
   "source": [
    "runs = [\n",
    "    (['EVAL_ALL_LEVELS_627'], 'PA'),\n",
    "]\n",
    "plot_curriculum_generalization(runs, 'Eval with Teacher')"
   ]
  },
  {
   "cell_type": "code",
   "execution_count": null,
   "metadata": {
    "hidden": true,
    "scrolled": false
   },
   "outputs": [],
   "source": [
    "runs = [\n",
    "    (['EVAL_PA_EARLY_FINAL_455'], 'PA'),\n",
    "    (['EVAL_PA_EARLY_455_mid'], 'PA'),\n",
    "]\n",
    "plot_curriculum_generalization(runs, 'Eval with Teacher')"
   ]
  },
  {
   "cell_type": "markdown",
   "metadata": {
    "heading_collapsed": true,
    "hidden": true
   },
   "source": [
    "## <font color='blue'> [Helper] See if we can zero-shot some levels. </font>"
   ]
  },
  {
   "cell_type": "code",
   "execution_count": null,
   "metadata": {
    "hidden": true
   },
   "outputs": [],
   "source": [
    "data_names = [\n",
    "    (['0540'], 'PA'),\n",
    "    (['676'], 'PA No 10 Delay'),\n",
    "#     (['677', '678'], \"PA Don't train each level\"),  # TODO: This one doesn't actually skip training on some levels\n",
    "]\n",
    "plot_curriculum(data_names, 'feedback')"
   ]
  },
  {
   "cell_type": "markdown",
   "metadata": {
    "heading_collapsed": true,
    "hidden": true
   },
   "source": [
    "## <font color='blue'> [Main] Remove reward during training when possible </font>"
   ]
  },
  {
   "cell_type": "markdown",
   "metadata": {
    "hidden": true
   },
   "source": [
    "Tries reward periodically. If the agent succeeds, we skip training for the next few itrs.\n",
    "\n",
    "NOTE: Would probably make more sense to separate sparse vs per-timestep rewards. Only provide per-timestep rewards if the agent is failing at getting the sparse rewards."
   ]
  },
  {
   "cell_type": "code",
   "execution_count": null,
   "metadata": {
    "hidden": true,
    "scrolled": true
   },
   "outputs": [],
   "source": [
    "data_names = [\n",
    "    (['0729_PA', '0730'], 'PA Distill, Sometimes Reward'),\n",
    "    (['0627', '0628'], 'PA Distill, Always reward'),\n",
    "]\n",
    "plot_curriculum(data_names, 'feedback')\n",
    "plot_curriculum(data_names, 'samples')"
   ]
  },
  {
   "cell_type": "code",
   "execution_count": null,
   "metadata": {
    "hidden": true,
    "scrolled": true
   },
   "outputs": [],
   "source": [
    "data_names = [\n",
    "    (['735', '736'], 'PA -> Sub Distill, Sometimes Reward'),\n",
    "    (['668', '669'], 'PA -> Sub Distill, Always reward'),\n",
    "]\n",
    "plot_curriculum(data_names, 'feedback')\n",
    "plot_curriculum(data_names, 'samples')"
   ]
  },
  {
   "cell_type": "markdown",
   "metadata": {
    "heading_collapsed": true
   },
   "source": [
    "# <font color='purple'> Leaderboard - Curriculum Learning  </font>"
   ]
  },
  {
   "cell_type": "markdown",
   "metadata": {
    "hidden": true
   },
   "source": [
    "Keep track of the current best methods of learning a curriculum (ranked by feedback-efficiency)."
   ]
  },
  {
   "cell_type": "code",
   "execution_count": null,
   "metadata": {
    "hidden": true
   },
   "outputs": [],
   "source": [
    "methods = [\n",
    "    (['0437'], \"Distill from PA, Default\", \"Standard HParams, train PA, distill to powerset\"), # TODO: placeholder; hasn't actually succeeded yet\n",
    "]\n",
    "\n",
    "plot_leaderboard(methods)\n"
   ]
  },
  {
   "cell_type": "markdown",
   "metadata": {
    "heading_collapsed": true
   },
   "source": [
    "# <font color='green'> Leaderboard - Curriculum Learning (no distillation)  </font>"
   ]
  },
  {
   "cell_type": "markdown",
   "metadata": {
    "hidden": true
   },
   "source": [
    "Keep track of the current best methods of learning a curriculum (ranked by feedback-efficiency)."
   ]
  },
  {
   "cell_type": "code",
   "execution_count": null,
   "metadata": {
    "hidden": true
   },
   "outputs": [],
   "source": [
    "methods = [\n",
    "    (['0539', '0540'], \"Train PA, Default\", \"Standard HParams, train PA\"),\n",
    "    (['0577', '0578'], \"Train PA, Sparse\", \"Standard HParams, train PA\"),\n",
    "]\n",
    "\n",
    "plot_leaderboard(methods)\n"
   ]
  },
  {
   "cell_type": "markdown",
   "metadata": {
    "heading_collapsed": true
   },
   "source": [
    "# <font color='blue'> Leaderboard - Few-Shot Generalization </font>"
   ]
  },
  {
   "cell_type": "markdown",
   "metadata": {
    "hidden": true
   },
   "source": [
    "\n",
    "Keep track of the current best methods of few-shot learning heldout levels (ranked by feedback-efficiency).\n",
    "\n",
    "TODO"
   ]
  },
  {
   "cell_type": "markdown",
   "metadata": {
    "heading_collapsed": true
   },
   "source": [
    "# <font color='purple'> Miscellaneous Other Plots </font> <font color='red'> [TODO: plot sweeps] </font>"
   ]
  },
  {
   "cell_type": "markdown",
   "metadata": {
    "heading_collapsed": true,
    "hidden": true
   },
   "source": [
    "## <font color='purple'> Does bigger batch size help? </font>"
   ]
  },
  {
   "cell_type": "markdown",
   "metadata": {
    "hidden": true
   },
   "source": [
    "Conclusion: It helps when subgoals not distilling, but doesn't help when distilling. We should check whether this holds for other teachers."
   ]
  },
  {
   "cell_type": "code",
   "execution_count": null,
   "metadata": {
    "hidden": true,
    "scrolled": true
   },
   "outputs": [],
   "source": [
    "data_names = [\n",
    "    (['0547', '0548'], 'SUB Nodistill, Small batch'),\n",
    "    (['0722', '0723', '688'], 'SUB Nodistill, Big batch'),\n",
    "]\n",
    "plot_curriculum(data_names, 'feedback')\n",
    "\n",
    "data_names = [\n",
    "    (['718', '719', '636', '0635'], 'SUB Distill, Small batch'),\n",
    "    (['690'], 'SUB Distill, Big batch'),\n",
    "]\n",
    "plot_curriculum(data_names, 'feedback')\n",
    "\n",
    "data_names = [\n",
    "    (['720', '721', '668', '669'], 'PA->SUB Distill, Small batch'),\n",
    "    (['726', '725', '724'], 'PA->SUB Distill, Big batch'),\n",
    "]\n",
    "plot_curriculum(data_names, 'feedback')\n",
    "\n"
   ]
  },
  {
   "cell_type": "markdown",
   "metadata": {
    "heading_collapsed": true,
    "hidden": true
   },
   "source": [
    "### No distillation"
   ]
  },
  {
   "cell_type": "code",
   "execution_count": null,
   "metadata": {
    "hidden": true,
    "scrolled": true
   },
   "outputs": [],
   "source": [
    "# NO DISTILLATION\n",
    "\n",
    "data_names = [\n",
    "    (['0540'], 'PA'),\n",
    "    (['692', '693'], 'PA - BIG'),\n",
    "]\n",
    "plot_curriculum(data_names, 'samples')  # WORSE\n",
    "\n",
    "data_names = [\n",
    "    (['0543', '0544'], 'CC2'),\n",
    "    (['694', '695'], 'CC2 - BIG'),\n",
    "]\n",
    "plot_curriculum(data_names, 'samples')\n",
    "\n",
    "data_names = [\n",
    "    (['0545', '0546'], 'CC3'),\n",
    "    (['696', '697'], 'CC3 - BIG'),\n",
    "]\n",
    "plot_curriculum(data_names, 'samples')\n",
    "\n",
    "data_names = [\n",
    "    (['0547', '0548'], 'SUB'),\n",
    "    (['688'], 'SUB - BIG'),\n",
    "]\n",
    "plot_curriculum(data_names, 'samples')\n"
   ]
  },
  {
   "cell_type": "markdown",
   "metadata": {
    "heading_collapsed": true,
    "hidden": true
   },
   "source": [
    "### Distillation"
   ]
  },
  {
   "cell_type": "code",
   "execution_count": null,
   "metadata": {
    "hidden": true,
    "scrolled": true
   },
   "outputs": [],
   "source": [
    "data_names = [  # TODO: re-run these \n",
    "    (['0627', '0628'], 'PA'),\n",
    "    (['698', '699'], 'PA - BIG')\n",
    "]\n",
    "plot_curriculum(data_names, 'samples')\n",
    "\n",
    "data_names = [\n",
    "    (['0631', '0632'], 'CC2'),\n",
    "    (['700', '701'], 'CC2 - BIG'),\n",
    "]\n",
    "plot_curriculum(data_names, 'samples')\n",
    "\n",
    "data_names = [\n",
    "    (['0633', '0634'], 'CC3'),\n",
    "    (['702', '703'], 'CC3 - BIG')\n",
    "]\n",
    "plot_curriculum(data_names, 'samples')\n",
    "\n",
    "data_names = [\n",
    "    (['0635', '0636'], 'SUB'),\n",
    "    (['690'], 'SUB - BIG')\n",
    "]\n",
    "plot_curriculum(data_names, 'samples')"
   ]
  },
  {
   "cell_type": "markdown",
   "metadata": {
    "heading_collapsed": true,
    "hidden": true
   },
   "source": [
    "## <font color='purple'> Does a bigger model help? </font>"
   ]
  },
  {
   "cell_type": "markdown",
   "metadata": {
    "hidden": true
   },
   "source": [
    "Helps a little bit..."
   ]
  },
  {
   "cell_type": "code",
   "execution_count": null,
   "metadata": {
    "hidden": true
   },
   "outputs": [],
   "source": [
    "# data_names = [\n",
    "#     (['0547', '0548'], 'SUB Nodistill, Small model'),\n",
    "#     (['0722', '0723', '688'], 'SUB Nodistill, Big model'),\n",
    "# ]\n",
    "# plot_curriculum(data_names, 'feedback')\n",
    "\n",
    "data_names = [\n",
    "    (['718', '719', '636', '0635'], 'SUB Distill, Small model'),\n",
    "    (['714', '715', '664'], 'SUB Distill, Big model'),\n",
    "]\n",
    "plot_curriculum(data_names, 'feedback')\n",
    "\n",
    "data_names = [\n",
    "    (['720', '721', '668', '669'], 'PA->SUB Distill, Small model'),\n",
    "    (['716', '717'], 'PA->SUB Distill, Big model'),\n",
    "]\n",
    "plot_curriculum(data_names, 'feedback')\n"
   ]
  },
  {
   "cell_type": "markdown",
   "metadata": {
    "heading_collapsed": true,
    "hidden": true
   },
   "source": [
    "## <font color='purple'> Does self-distillation help? </font>"
   ]
  },
  {
   "cell_type": "code",
   "execution_count": null,
   "metadata": {
    "hidden": true,
    "scrolled": true
   },
   "outputs": [],
   "source": [
    "data_names = [\n",
    "    (['692', '693'], 'PA Normal'),\n",
    "    (['0706', '0707'], 'PA Self-Distill'),\n",
    "]\n",
    "plot_curriculum(data_names, 'feedback')\n",
    "\n",
    "data_names = [\n",
    "    (['0543', '0544'], 'CC2 Normal'),\n",
    "    (['0704', '0705'], 'CC2 Self-Distill'),\n",
    "]\n",
    "plot_curriculum(data_names, 'feedback')\n",
    "\n",
    "data_names = [\n",
    "    (['0545', '0546'], 'CC3 Normal'),\n",
    "    (['682', '683'], 'CC3 Self-Distill'),\n",
    "]\n",
    "plot_curriculum(data_names, 'feedback')\n",
    "\n",
    "data_names = [\n",
    "    (['0722', '0723', '688'], 'SUB Normal'),\n",
    "    (['684', '685'], 'SUB Self-Distill'),\n",
    "]\n",
    "plot_curriculum(data_names, 'feedback')"
   ]
  },
  {
   "cell_type": "markdown",
   "metadata": {
    "heading_collapsed": true,
    "hidden": true
   },
   "source": [
    "## <font color='purple'> Does buffer size help?  </font>"
   ]
  },
  {
   "cell_type": "markdown",
   "metadata": {
    "heading_collapsed": true,
    "hidden": true
   },
   "source": [
    "## <font color='purple'> Does raising the RL accuracy threshold size help?  </font>"
   ]
  },
  {
   "cell_type": "code",
   "execution_count": null,
   "metadata": {
    "hidden": true,
    "scrolled": true
   },
   "outputs": [],
   "source": [
    "data_names = [\n",
    "    (['0627', '0628'], 'PA Distill, Normal Acc'),\n",
    "    (['0737', '0738'], 'PA Distill, High Acc'),\n",
    "]\n",
    "plot_curriculum(data_names, 'feedback')\n",
    "\n",
    "data_names = [\n",
    "    (['0666', '0667'], 'PA->CC3 Distill, Normal Acc'),\n",
    "    (['0739', '0740'], 'PA->CC3 Distill, High Acc'),\n",
    "]\n",
    "plot_curriculum(data_names, 'feedback')\n",
    "\n",
    "data_names = [\n",
    "    (['720', '721', '668', '669'], 'PA->SUB, Normal Acc'),\n",
    "    (['0741', '0742'], 'PA->SUB, High Acc'),\n",
    "]\n",
    "plot_curriculum(data_names, 'feedback')\n"
   ]
  },
  {
   "cell_type": "markdown",
   "metadata": {
    "heading_collapsed": true,
    "hidden": true
   },
   "source": [
    "## <font color='purple'> Does lowering the discount help?  </font>"
   ]
  },
  {
   "cell_type": "code",
   "execution_count": null,
   "metadata": {
    "hidden": true
   },
   "outputs": [],
   "source": [
    "data_names = [\n",
    "    (['720', '721', '668', '669'], 'PA->SUB, Normal Discount'),\n",
    "    (['743', '744'], 'PA->SUB, Discount .1'),\n",
    "]\n",
    "plot_curriculum(data_names, 'feedback')"
   ]
  },
  {
   "cell_type": "markdown",
   "metadata": {
    "heading_collapsed": true,
    "hidden": true
   },
   "source": [
    "## <font color='purple'> Does the way we collect labels matter?  </font>"
   ]
  },
  {
   "cell_type": "code",
   "execution_count": null,
   "metadata": {
    "hidden": true,
    "scrolled": true
   },
   "outputs": [],
   "source": [
    "data_names = [\n",
    "    (['0821', '0822'], 'PA->CC3 Default'),\n",
    "#     (['0825', '0826'], 'PA->CC3 Big Batch'),\n",
    "    (['833', '834'], 'PA->CC3 Argmax'),\n",
    "    (['835', '836'], 'PA->CC3 Agent dist'),\n",
    "    (['837', '838'], 'PA->CC3 Teacher'),\n",
    "]\n",
    "plot_curriculum(data_names, 'samples')"
   ]
  },
  {
   "cell_type": "markdown",
   "metadata": {
    "heading_collapsed": true,
    "hidden": true
   },
   "source": [
    "## <font color='purple'> Does DAgger help?  </font>"
   ]
  },
  {
   "cell_type": "code",
   "execution_count": null,
   "metadata": {
    "hidden": true,
    "scrolled": true
   },
   "outputs": [],
   "source": [
    "# COMPARING NEW HPARAMS TO OLD ONES\n",
    "\n",
    "data_names = [\n",
    "    (['0943', '0944'], 'PA->CC3 Normal'),\n",
    "    (['0993', '0994'], 'PA->CC3 DAgger'),\n",
    "]\n",
    "plot_curriculum(data_names, 'samples', y='Train/Accuracy', smooth=100, \n",
    "                level_start=0, level_end=12, title=\"PA RL Accuracy on Bootstrapping Levels\")\n",
    "plot_curriculum(data_names, 'samples', y='Train/Success', smooth=100, \n",
    "                level_start=0, level_end=12, title=\"PA RL Success on Bootstrapping Levels\")\n",
    "plot_curriculum(data_names, 'samples')\n",
    "plot_curriculum(data_names, 'samples', y='Distill/CartesianCorrectionsAccuracy_Val', smooth=100, \n",
    "                level_start=0, level_end=12, title=\"CC3 Per-timestep Accuracy on Bootstrapping Levels\")\n",
    "plot_curriculum(data_names, 'samples', y='Rollout/CartesianCorrectionsAvgAccuracy', smooth=100, \n",
    "                level_start=0, level_end=12, title=\"CC3 Rollout Accuracy on Bootstrapping Levels\")\n",
    "plot_curriculum(data_names, 'samples', y='Rollout/CartesianCorrectionsAverageSuccess', smooth=100, \n",
    "                level_start=0, level_end=12, title=\"CC3 Rollout Success on Bootstrapping Levels\")\n",
    "plot_curriculum(data_names, 'samples', y='Distill/CartesianCorrectionsLabel_Accuracy_Train', smooth=100, \n",
    "                level_start=0, level_end=12, title=\"CartesianCorrectionsLabel_Accuracy_Train on Bootstrapping Levels\")\n",
    "plot_curriculum(data_names, 'samples', y='Distill/CartesianCorrectionsLabel_Accuracy_Val', smooth=100, \n",
    "                level_start=0, level_end=12, title=\"CartesianCorrectionsLabel_Accuracy_Val on Bootstrapping Levels\")"
   ]
  },
  {
   "cell_type": "markdown",
   "metadata": {
    "heading_collapsed": true,
    "hidden": true
   },
   "source": [
    "## <font color='purple'> Does using a separate model help?  </font>"
   ]
  },
  {
   "cell_type": "code",
   "execution_count": null,
   "metadata": {
    "hidden": true
   },
   "outputs": [],
   "source": [
    "# COMPARING NEW HPARAMS TO OLD ONES\n",
    "\n",
    "data_names = [\n",
    "    (['0825', '0826'], 'PA->CC3 NEW3'),\n",
    "    (['839', '840'], 'PA->CC3 Separate'),\n",
    "]\n",
    "plot_curriculum(data_names, 'samples')\n"
   ]
  },
  {
   "cell_type": "markdown",
   "metadata": {
    "heading_collapsed": true,
    "hidden": true
   },
   "source": [
    "## <font color='purple'> Does re-weighting help?  </font>"
   ]
  },
  {
   "cell_type": "code",
   "execution_count": null,
   "metadata": {
    "hidden": true,
    "scrolled": true
   },
   "outputs": [],
   "source": [
    "# COMPARING NEW HPARAMS TO OLD ONES\n",
    "\n",
    "data_names = [\n",
    "    (['0825', '0826'], 'PA->CC3 NEW3'),\n",
    "    (['817', '180'], 'PA->CC3 Re-Weight'),\n",
    "    (['813', '814'], 'PA->CC3 Re-Weight Pretrained'),\n",
    "]\n",
    "plot_curriculum(data_names, 'samples')\n",
    "\n",
    "data_names = [\n",
    "    (['827', '828'], 'PA->SUB NEW3'),\n",
    "    (['819', '820'], 'PA->SUB Re-Weight'),\n",
    "    (['815', '816'], 'PA->SUB Re-Weight Pretrained'),\n",
    "]\n",
    "plot_curriculum(data_names, 'samples')\n"
   ]
  },
  {
   "cell_type": "markdown",
   "metadata": {
    "heading_collapsed": true,
    "hidden": true
   },
   "source": [
    "## <font color='purple'> Hyperparameter tuning (included dropout and pretrained)  </font>"
   ]
  },
  {
   "cell_type": "code",
   "execution_count": null,
   "metadata": {
    "hidden": true,
    "scrolled": true
   },
   "outputs": [],
   "source": [
    "# COMPARING NEW HPARAMS TO OLD ONES\n",
    "\n",
    "data_names = [\n",
    "    (['0627', '0628'], 'PA'),\n",
    "#     (['0753', '0754'], 'PA NEW'),\n",
    "    (['0787', '0788'], 'PA NEW2'),\n",
    "    (['867', '868'], 'PA NEW3 - no argmax no bigbatch'),\n",
    "    (['801', '802'], 'PA Dropout 2'),\n",
    "]\n",
    "plot_curriculum(data_names, 'samples')\n",
    "\n",
    "data_names = [\n",
    "    (['0666', '0667'], 'PA->CC3'),\n",
    "#     (['0755', '0756'], 'PA->CC3 NEW'),\n",
    "    (['0789', '0790'], 'PA->CC3 NEW2'),\n",
    "    (['0825', '0826'], 'PA->CC3 NEW3 - no argmax'),\n",
    "    (['0821', '0822'], 'PA->CC3 NEW3 - no argmax no bigbatch'),\n",
    "    (['803', '804'], 'PA->CC3 Dropout 2'),\n",
    "    (['859', '860'], 'Pretrained CC3 -> None'),\n",
    "]\n",
    "plot_curriculum(data_names, 'samples')\n",
    "data_names = [\n",
    "    (['0668', '0669'], 'PA->SUB'),\n",
    "#     (['0757', '0758'], 'PA->SUB NEW'),\n",
    "    (['0791', '0792'], 'PA->SUB NEW2'),\n",
    "    (['827', '828'], 'PA->SUB NEW3 - no argmax'),\n",
    "    (['0823', '0824'], 'PA->SUB NEW3 - no argmax no bigbatch'),\n",
    "    (['805', '806'], 'PA->SUB Dropout 2'),\n",
    "]\n",
    "plot_curriculum(data_names, 'samples')\n",
    "data_names = [\n",
    "    (['0481'], 'None'),\n",
    "    (['0751', '0752'], 'None NEW'),\n",
    "    (['0785', '0786'], 'None NEW2'),\n",
    "]\n",
    "plot_curriculum(data_names, 'samples')\n",
    "\n",
    "\n"
   ]
  },
  {
   "cell_type": "code",
   "execution_count": null,
   "metadata": {
    "hidden": true
   },
   "outputs": [],
   "source": []
  },
  {
   "cell_type": "code",
   "execution_count": null,
   "metadata": {
    "hidden": true
   },
   "outputs": [],
   "source": [
    "# COMPARING NEW HPARAMS TO OLD ONES\n",
    "\n",
    "data_names = [  # TODO: re-run these \n",
    "    (['0779', '0780'], 'PA (nodistill)'),\n",
    "    (['0627', '0628'], 'PA'),\n",
    "    (['0753', '0754'], 'PA NEW'),\n",
    "    (['0787', '0788'], 'PA NEW2'),\n",
    "    (['0759', '0760'], 'PA PRETRAINED'),\n",
    "    (['0793', '0794'], 'PA PRETRAINED2'),\n",
    "    (['801', '802'], 'PA Dropout'),\n",
    "]\n",
    "plot_curriculum(data_names, 'samples')\n",
    "plot_curriculum(data_names, 'feedback')\n",
    "\n",
    "data_names = [  # TODO: re-run these \n",
    "    (['0781', '0782'], 'PA->CC3 (nodistill)'),\n",
    "    (['0666', '0667'], 'PA->CC3'),\n",
    "    (['0755', '0756'], 'PA->CC3 NEW'),\n",
    "    (['0789', '0790'], 'PA->CC3 NEW2'),\n",
    "    (['0761', '0762'], 'CC3 PRETRAINED'),\n",
    "    (['0795', '0796'], 'CC3 PRETRAINED2'),\n",
    "    (['803', '804'], 'PA->CC3 Dropout'),\n",
    "]\n",
    "plot_curriculum(data_names, 'samples')\n",
    "plot_curriculum(data_names, 'feedback')\n",
    "\n",
    "data_names = [  # TODO: re-run these \n",
    "    (['0783', '0784'], 'PA->SUB (nodistill)'),\n",
    "    (['0668', '0669'], 'PA->SUB'),\n",
    "    (['0757', '0758'], 'PA->SUB NEW'),\n",
    "    (['0791', '0792'], 'PA->SUB NEW2'),\n",
    "    (['0763_SUB_teacherSub', '0764_SUB_teacherSub'], 'SUB PRETRAINED'),\n",
    "    (['0797', '0798'], 'SUB PRETRAINED2'),\n",
    "    (['805', '806'], 'PA->SUB Dropout'),\n",
    "]\n",
    "plot_curriculum(data_names, 'samples')\n",
    "plot_curriculum(data_names, 'feedback')\n",
    "\n",
    "data_names = [\n",
    "    (['799', '800'], 'None Oracle'),\n",
    "    (['0481'], 'None'),\n",
    "    (['0751', '0752'], 'None NEW'),\n",
    "    (['0785', '0786'], 'None NEW2'),\n",
    "]\n",
    "plot_curriculum(data_names, 'samples')\n",
    "plot_curriculum(data_names, 'feedback')\n",
    "\n",
    "\n"
   ]
  },
  {
   "cell_type": "markdown",
   "metadata": {
    "heading_collapsed": true,
    "hidden": true
   },
   "source": [
    "## <font color='purple'> Trying to get high accuracy  </font>"
   ]
  },
  {
   "cell_type": "markdown",
   "metadata": {
    "hidden": true
   },
   "source": [
    "Distill to no teacher from BCS model"
   ]
  },
  {
   "cell_type": "code",
   "execution_count": null,
   "metadata": {
    "hidden": true,
    "scrolled": true
   },
   "outputs": [],
   "source": [
    "data_names = [ \n",
    "    (['845', '846'], 'PA'),\n",
    "    (['847', '848'], 'CC3'),\n",
    "    (['849', '850'], 'SUB'),\n",
    "]\n",
    "plot_curriculum(data_names, 'samples')\n",
    "\n",
    "data_names = [ \n",
    "    (['847', '848'], 'BCS CC3 -> None'),\n",
    "    (['859', '860'], 'Pretrained CC3 -> None'),\n",
    "    (['821', '822'], 'PA -> CC3 -> None'),\n",
    "]\n",
    "plot_curriculum(data_names, 'samples')\n",
    "\n",
    "data_names = [ \n",
    "    (['849', '850'], 'BCS SUB -> None'),\n",
    "    (['861', '862'], 'Pretrained SUB -> None'),\n",
    "    (['823', '824'], 'PA -> SUB -> None'),\n",
    "]\n",
    "plot_curriculum(data_names, 'samples')"
   ]
  },
  {
   "cell_type": "markdown",
   "metadata": {
    "hidden": true
   },
   "source": [
    "BCS (oracle -> teacher) vs Pseudo-BCS (Pretrained PA --> Teacher) vs Bootstrap (PA --> Teacher)\n",
    "\n",
    "Takeaway: bootstrapping from PA is almost as good as bootstrapping from the oracle~"
   ]
  },
  {
   "cell_type": "code",
   "execution_count": null,
   "metadata": {
    "hidden": true,
    "scrolled": true
   },
   "outputs": [],
   "source": [
    "data_names = [ \n",
    "    (['659'], 'Oracle -> CC3'),\n",
    "    (['851'], 'Pretrained PA -> CC3'),\n",
    "    (['855', '856'], 'PA -> CC3'),\n",
    "]\n",
    "plot_curriculum(data_names, 'samples')\n",
    "\n",
    "data_names = [ \n",
    "    (['661'], 'Oracle -> SUB'),\n",
    "    (['853', '854'], 'Pretrained PA -> SUB'),\n",
    "    (['857', '858'], 'PA -> SUB'),\n",
    "]\n",
    "plot_curriculum(data_names, 'samples')\n"
   ]
  },
  {
   "cell_type": "markdown",
   "metadata": {
    "hidden": true
   },
   "source": [
    "Distill with distribution less biased toward current level"
   ]
  },
  {
   "cell_type": "code",
   "execution_count": null,
   "metadata": {
    "hidden": true,
    "scrolled": true
   },
   "outputs": [],
   "source": [
    "\n",
    "data_names = [ \n",
    "    (['863', '864'], 'CC3 .2 current'),\n",
    "    (['821', '822'], 'CC3 .5 current'),\n",
    "]\n",
    "plot_curriculum(data_names, 'samples')\n",
    "\n",
    "data_names = [ \n",
    "    (['865', '866'], 'SUB .2 current'),\n",
    "    (['823', '824'], 'SUB .5 current'),\n",
    "]\n",
    "plot_curriculum(data_names, 'samples')"
   ]
  },
  {
   "cell_type": "markdown",
   "metadata": {
    "hidden": true
   },
   "source": [
    "Way more distillation itrs"
   ]
  },
  {
   "cell_type": "code",
   "execution_count": null,
   "metadata": {
    "hidden": true,
    "scrolled": true
   },
   "outputs": [],
   "source": [
    "\n",
    "data_names = [ \n",
    "    (['821', '822'], 'CC3 Normal'),\n",
    "    (['869', '870'], 'CC3 More Itrs'),\n",
    "    (['899', '900'], 'CC3 Even More Itrs'),\n",
    "]\n",
    "plot_curriculum(data_names, 'samples')\n",
    "\n",
    "data_names = [ \n",
    "    (['823', '824'], 'SUB Normal'),\n",
    "    (['871', '872'], 'SUB More Itrs'),\n",
    "    (['901', '902'], 'SUB Even More Itrs'),\n",
    "]\n",
    "plot_curriculum(data_names, 'samples')"
   ]
  },
  {
   "cell_type": "markdown",
   "metadata": {
    "hidden": true
   },
   "source": [
    "High accuracy + run forever (goal is to see if generalization improves)"
   ]
  },
  {
   "cell_type": "code",
   "execution_count": null,
   "metadata": {
    "hidden": true,
    "scrolled": true
   },
   "outputs": [],
   "source": [
    "data_names = [ \n",
    "    (['0821', '0822'], 'PA -> CC3 Normal'),\n",
    "    (['0873', '0874'], 'PA -> CC3 High Acc'),\n",
    "]\n",
    "plot_curriculum(data_names, 'samples')\n",
    "\n",
    "data_names = [ \n",
    "    (['823', '824'], 'PA -> SUB Normal'),\n",
    "    (['875', '876'], 'PA -> SUB High Acc'),\n",
    "]\n",
    "plot_curriculum(data_names, 'samples')"
   ]
  },
  {
   "cell_type": "markdown",
   "metadata": {
    "hidden": true
   },
   "source": [
    "Does increasing the acc threshold when we're using PA help?"
   ]
  },
  {
   "cell_type": "code",
   "execution_count": null,
   "metadata": {
    "hidden": true,
    "scrolled": true
   },
   "outputs": [],
   "source": [
    "data_names = [ \n",
    "    (['821', '822'], 'PA -> CC3 Normal'),\n",
    "    (['0903', '0904'], 'PA -> CC3 High Acc'),\n",
    "]\n",
    "plot_curriculum(data_names, 'samples')\n",
    "\n",
    "data_names = [ \n",
    "    (['823', '824'], 'PA -> SUB Normal'),\n",
    "    (['0905', '0906'], 'PA -> SUB High Acc'),\n",
    "]\n",
    "plot_curriculum(data_names, 'samples')"
   ]
  },
  {
   "cell_type": "markdown",
   "metadata": {
    "hidden": true
   },
   "source": [
    "Does increasing LR help?"
   ]
  },
  {
   "cell_type": "code",
   "execution_count": null,
   "metadata": {
    "hidden": true,
    "scrolled": true
   },
   "outputs": [],
   "source": [
    "data_names = [ \n",
    "    (['821', '822'], 'PA -> CC3 Normal'),\n",
    "    (['0907', '0908'], 'PA -> CC3 High LR'),\n",
    "    (['0911', '0912'], 'PA -> CC3 High LR2'),\n",
    "]\n",
    "plot_curriculum(data_names, 'samples')\n",
    "\n",
    "data_names = [ \n",
    "    (['823', '824'], 'PA -> SUB Normal'),\n",
    "    (['0909', '0910'], 'PA -> SUB High LR'),\n",
    "    (['0913', '0914'], 'PA -> SUB High LR2'),\n",
    "]\n",
    "plot_curriculum(data_names, 'samples')"
   ]
  },
  {
   "cell_type": "markdown",
   "metadata": {
    "hidden": true
   },
   "source": [
    "Does high acc + low entropy help?"
   ]
  },
  {
   "cell_type": "code",
   "execution_count": null,
   "metadata": {
    "hidden": true,
    "scrolled": true
   },
   "outputs": [],
   "source": [
    "data_names = [ \n",
    "    (['0943', '0944'], 'PA -> CC3 Normal'),\n",
    "#     (['0931', '0932'], 'PA -> CC3 Help'), # Third best; cheats by using PA a lot\n",
    "#     (['0933', '0934'], 'PA -> CC3 Help + RL Acc .9'), # Second Best; cheats by using PA a lot\n",
    "#     (['0935', '0936'], 'PA -> CC3 -> None'), # Not great; stoppable\n",
    "#     (['0937', '0938'], 'PA -> CC3 -> None + RL Acc .9'), # Best; cheats by using PA a lot\n",
    "#     (['0939', '0940'], 'PA -> CC3 -> None + High PA Acc'), # Not great; stoppable\n",
    "    (['0955', '0956'], 'PA -> CC3  Ent /10'),\n",
    "#     (['0963', '0964'], 'PA -> CC3 -> None + RL Acc .9 Ent /10'), # Bad; stoppable, but we should analyze\n",
    "]\n",
    "plot_curriculum(data_names, 'samples')\n",
    "plot_curriculum(data_names, 'samples', y='Train/Accuracy', smooth=100, \n",
    "                level_start=0, level_end=12, title=\"PA RL Accuracy on Bootstrapping Levels\")"
   ]
  },
  {
   "cell_type": "code",
   "execution_count": null,
   "metadata": {
    "hidden": true,
    "scrolled": true
   },
   "outputs": [],
   "source": [
    "data_names = [ \n",
    "    (['867', '868'], 'PA Normal'),\n",
    "    (['0953', '0954'], 'PA Ent /10, RL Acc .9'),\n",
    "    (['0957', '0958'], 'PA Ent /100, RL Acc .9'),\n",
    "]\n",
    "plot_curriculum(data_names, 'samples')\n",
    "plot_curriculum(data_names, 'samples', y='Train/Accuracy', smooth=100, \n",
    "                level_start=0, level_end=12, title=\"PA RL Accuracy on Bootstrapping Levels\")"
   ]
  },
  {
   "cell_type": "markdown",
   "metadata": {
    "hidden": true
   },
   "source": [
    "Combining argmax, sample, logits"
   ]
  },
  {
   "cell_type": "code",
   "execution_count": null,
   "metadata": {
    "hidden": true,
    "scrolled": true
   },
   "outputs": [],
   "source": [
    "data_names = [ # TODO: GENERALIZATION!!!\n",
    "#     (['0967', '0968'], 'PA -> CC3 Argmax'), # BAD; all others are basically the same\n",
    "    (['0969', '0970'], 'PA -> CC3 Argmax + Sep Models'),\n",
    "    (['0971', '0972'], 'PA -> CC3 Sample + Sep Models'),\n",
    "    (['0973', '0974'], 'PA -> CC3 Argmax + no self-distill'),\n",
    "    (['0975', '976'], 'PA -> CC3 Logits + no self-distill'),\n",
    "    (['977', '978'], 'PA -> CC3 Logits'),\n",
    "]\n",
    "plot_curriculum(data_names, 'samples')"
   ]
  },
  {
   "cell_type": "markdown",
   "metadata": {
    "hidden": true
   },
   "source": [
    "Higher entropy first 10 itrs"
   ]
  },
  {
   "cell_type": "code",
   "execution_count": null,
   "metadata": {
    "hidden": true
   },
   "outputs": [],
   "source": [
    "data_names = [ \n",
    "    (['0943', '0944'], 'PA -> CC3 Normal'),\n",
    "    (['0951', '0952'], 'CC3 Normal'),\n",
    "    (['0967', '0968'], 'PA -> CC3 Argmax Normal'),\n",
    "    (['0981', '0982'], 'PA -> CC3 Sample ent / 10'),\n",
    "    (['0983', '0984'], 'PA -> CC3 Argmax'),\n",
    "]\n",
    "plot_curriculum(data_names, 'samples')\n",
    "data_names = [ \n",
    "    (['0943', '0944'], 'PA -> CC3 Normal'),\n",
    "    (['0951', '0952'], 'CC3 Normal'),\n",
    "    (['0981', '0982'], 'PA -> CC3 Sample ent / 10'),\n",
    "]\n",
    "\n",
    "plot_curriculum(data_names, 'samples', y='Train/Accuracy', smooth=100, \n",
    "                level_start=0, level_end=12, title=\"RL Train Accuracy Through Bootstrapping\")\n",
    "plot_curriculum(data_names, 'samples', y='Distill/CartesianCorrectionsAccuracy_Val', smooth=100, \n",
    "                level_start=0, level_end=12, title=\"CC3 Per-timestep Accuracy Through Bootstrapping\")\n",
    "plot_curriculum(data_names, 'samples', y='Rollout/CartesianCorrectionsAvgAccuracy', smooth=100, \n",
    "                level_start=0, level_end=12, title=\"CC3 Rollout Accuracy Through Bootstrapping\")"
   ]
  },
  {
   "cell_type": "code",
   "execution_count": null,
   "metadata": {
    "hidden": true
   },
   "outputs": [],
   "source": [
    "data_names = [ \n",
    "    (['0943', '0944'], 'PA -> CC3 Normal'),\n",
    "    (['0951', '0952'], 'CC3 Normal'),\n",
    "    (['0967', '0968'], 'PA -> CC3 Argmax Normal'),\n",
    "    (['0981', '0982'], 'PA -> CC3 Sample ent / 10'),\n",
    "    (['0983', '0984'], 'PA -> CC3 Argmax'),\n",
    "]\n",
    "plot_curriculum(data_names, 'samples')\n",
    "data_names = [ \n",
    "    (['0943', '0944'], 'PA -> CC3 Normal'),\n",
    "    (['0951', '0952'], 'CC3 Normal'),\n",
    "    (['0981', '0982'], 'PA -> CC3 Sample ent / 10'),\n",
    "]\n",
    "\n",
    "plot_curriculum(data_names, 'samples', y='Train/Accuracy', smooth=100, \n",
    "                level_start=0, level_end=12, title=\"RL Train Accuracy Through Bootstrapping\")\n",
    "plot_curriculum(data_names, 'samples', y='Distill/CartesianCorrectionsAccuracy_Val', smooth=100, \n",
    "                level_start=0, level_end=12, title=\"CC3 Per-timestep Accuracy Through Bootstrapping\")\n",
    "plot_curriculum(data_names, 'samples', y='Rollout/CartesianCorrectionsAvgAccuracy', smooth=100, \n",
    "                level_start=0, level_end=12, title=\"CC3 Rollout Accuracy Through Bootstrapping\")"
   ]
  },
  {
   "cell_type": "markdown",
   "metadata": {
    "hidden": true
   },
   "source": [
    "Fake CC3 labels"
   ]
  },
  {
   "cell_type": "code",
   "execution_count": null,
   "metadata": {
    "hidden": true,
    "scrolled": true
   },
   "outputs": [],
   "source": [
    "data_names = [ \n",
    "    (['0943', '0944'], 'PA -> CC3 Normal'),\n",
    "    (['0985', '0986'], 'PA -> CC3 Fake CC3 labels + self-distill'),\n",
    "    (['0986', '0987'], 'PA -> CC3 Fake CC3 labels no self-distill'),\n",
    "    (['0995', '0996'], 'PA -> CC3 Fake CC3 labels logits'),\n",
    "]\n",
    "plot_curriculum(data_names, 'samples')\n",
    "plot_curriculum(data_names, 'samples', y='Distill/CartesianCorrectionsAccuracy_Val', smooth=100, \n",
    "                level_start=0, level_end=12, title=\"CC3 Per-timestep Accuracy Through Bootstrapping\")\n",
    "plot_curriculum(data_names, 'samples', y='Rollout/CartesianCorrectionsAvgAccuracy', smooth=100, \n",
    "                level_start=0, level_end=12, title=\"CC3 Rollout Accuracy Through Bootstrapping\")"
   ]
  },
  {
   "cell_type": "code",
   "execution_count": null,
   "metadata": {
    "hidden": true,
    "scrolled": true
   },
   "outputs": [],
   "source": [
    "data_names = [ \n",
    "    (['979', '980'], 'PA -> CC3 logits'),\n",
    "#     (['967', '968'], 'PA -> CC3 Argmax'),\n",
    "#     (['977', '978'], 'PA -> CC3 Normal (logits, no self-distill)'),\n",
    "    (['0975', '0976'], 'PA -> CC3 sampling'),\n",
    "    (['0991', '0992'], 'PA -> CC3 Source Teacher'),\n",
    "    (['0985', '0986'], 'PA -> CC3 Fake CC3 Feedback sampling'),\n",
    "    (['0995', '0996'], 'PA -> CC3 Fake CC3 labels logits'),\n",
    "#     (['867', '868'], 'PA'),\n",
    "    (['0997', '0998', '1033'], 'Distill from  oracle'),\n",
    "]\n",
    "\n",
    "\n",
    "# self-dsitill is good!\n",
    "\n",
    "plot_curriculum(data_names, 'samples')\n",
    "plot_curriculum(data_names, 'samples', y='Distill/CartesianCorrectionsAccuracy_Val', smooth=100, \n",
    "                level_start=0, level_end=12, title=\"CC3 Per-timestep Accuracy on Bootstrapping Levels\")\n",
    "plot_curriculum(data_names, 'samples', y='Rollout/CartesianCorrectionsAvgAccuracy', smooth=100, \n",
    "                level_start=0, level_end=12, title=\"CC3 Rollout Accuracy on Bootstrapping Levels\")\n",
    "plot_curriculum(data_names, 'samples', y='Rollout/CartesianCorrectionsAverageSuccess', smooth=100, \n",
    "                level_start=0, level_end=12, title=\"CC3 Rollout Success on Bootstrapping Levels\")\n",
    "plot_curriculum(data_names, 'samples', y='Train/Accuracy', smooth=100, \n",
    "                level_start=0, level_end=12, title=\"PA RL Accuracy on Bootstrapping Levels\")\n",
    "\n",
    "plot_curriculum(data_names, 'samples', y='Distill/CartesianCorrectionsLabel_Accuracy_Train', smooth=100, \n",
    "                level_start=0, level_end=12, title=\"Label Accuracy Train\")\n",
    "plot_curriculum(data_names, 'samples', y='Distill/CartesianCorrectionsLabel_Accuracy_Val', smooth=100, \n",
    "                level_start=0, level_end=12, title=\"Label Accuracy Val\")"
   ]
  },
  {
   "cell_type": "code",
   "execution_count": null,
   "metadata": {
    "hidden": true,
    "scrolled": true
   },
   "outputs": [],
   "source": [
    "data_names = [ \n",
    "    (['1033'], 'Distill from  oracle'),\n",
    "]\n",
    "\n",
    "for i in range(3, 12):\n",
    "    plot_curriculum(data_names, 'samples', y='Rollout/CartesianCorrectionsAverageSuccess', smooth=1, \n",
    "                level_start=i, level_end=i, title=f\"Level {i}\")"
   ]
  },
  {
   "cell_type": "code",
   "execution_count": null,
   "metadata": {
    "hidden": true,
    "scrolled": true
   },
   "outputs": [],
   "source": [
    "data_names = [ \n",
    "#     (['1067'], 'PA -> CC3 easy_swap_harder logits threshold_distill .6'),\n",
    "    (['1068'], 'PA -> CC3 easy_swap_harder logits threshold_distill .8'),\n",
    "    (['1072'], 'PA -> CC3 easy_swap_harder logits DAgger threshold_distill .8'),\n",
    "    (['1073'], 'PA -> CC3 easy_swap_harder logits DAgger threshold_distill .9'),\n",
    "    (['0997', '0998'], 'Distill from  oracle'),\n",
    "    (['1145'], 'PA -> CC3 easy_swap_harder logits threshold_distill .9'),\n",
    "    (['1146'], 'PA -> Distill from  oracle threshold_distill .9'),\n",
    "]\n",
    "\n",
    "\n",
    "# self-dsitill is good!\n",
    "\n",
    "plot_curriculum(data_names, 'samples')\n",
    "plot_curriculum(data_names, 'samples', y='Distill/CartesianCorrectionsAccuracy_Val', smooth=100, \n",
    "                level_start=0, level_end=12, title=\"CC3 Per-timestep Accuracy on Bootstrapping Levels\")\n",
    "plot_curriculum(data_names, 'samples', y='Rollout/CartesianCorrectionsAvgAccuracy', smooth=10, \n",
    "                level_start=0, level_end=12, title=\"CC3 Rollout Accuracy on Bootstrapping Levels\")\n",
    "plot_curriculum(data_names, 'samples', y='Rollout/CartesianCorrectionsAverageSuccess', smooth=10, \n",
    "                level_start=0, level_end=12, title=\"CC3 Rollout Success on Bootstrapping Levels\")\n",
    "plot_curriculum(data_names, 'samples', y='DRollout/AvgAccuracy', smooth=10, \n",
    "                level_start=0, level_end=12, title=\"No Teacher Rollout Accuracy on Bootstrapping Levels\")\n",
    "plot_curriculum(data_names, 'samples', y='DRollout/AverageSuccess', smooth=10, \n",
    "                level_start=0, level_end=12, title=\"NoTeacher Rollout Success on Bootstrapping Levels\")\n",
    "plot_curriculum(data_names, 'samples', y='Train/Accuracy', smooth=100, \n",
    "                level_start=0, level_end=12, title=\"PA RL Accuracy on Bootstrapping Levels\")\n",
    "\n",
    "plot_curriculum(data_names, 'samples', y='Distill/CartesianCorrectionsLabel_Accuracy_Train', smooth=100, \n",
    "                level_start=0, level_end=12, title=\"Label Accuracy Train\")\n",
    "plot_curriculum(data_names, 'samples', y='Distill/CartesianCorrectionsLabel_Accuracy_Val', smooth=100, \n",
    "                level_start=0, level_end=12, title=\"Label Accuracy Val\")"
   ]
  },
  {
   "cell_type": "code",
   "execution_count": null,
   "metadata": {
    "hidden": true
   },
   "outputs": [],
   "source": [
    "data_names = [ \n",
    "#     (['1067'], 'PA -> CC3 easy_swap_harder logits threshold_distill .6'),\n",
    "    (['1068'], 'PA -> CC3 easy_swap_harder logits threshold_distill .8'),\n",
    "    (['1072'], 'PA -> CC3 easy_swap_harder logits DAgger threshold_distill .8'),\n",
    "    (['1073'], 'PA -> CC3 easy_swap_harder logits DAgger threshold_distill .9'),\n",
    "    (['0997', '0998'], 'Distill from  oracle'),\n",
    "]\n",
    "\n",
    "\n",
    "# self-dsitill is good!\n",
    "\n",
    "plot_curriculum(data_names, 'samples')\n",
    "plot_curriculum(data_names, 'samples', y='Distill/CartesianCorrectionsAccuracy_Val', smooth=100, \n",
    "                level_start=0, level_end=12, title=\"CC3 Per-timestep Accuracy on Bootstrapping Levels\")\n",
    "plot_curriculum(data_names, 'samples', y='Rollout/CartesianCorrectionsAvgAccuracy', smooth=100, \n",
    "                level_start=0, level_end=12, title=\"CC3 Rollout Accuracy on Bootstrapping Levels\")\n",
    "plot_curriculum(data_names, 'samples', y='Rollout/CartesianCorrectionsAverageSuccess', smooth=100, \n",
    "                level_start=0, level_end=12, title=\"CC3 Rollout Success on Bootstrapping Levels\")\n",
    "plot_curriculum(data_names, 'samples', y='Train/Accuracy', smooth=100, \n",
    "                level_start=0, level_end=12, title=\"PA RL Accuracy on Bootstrapping Levels\")\n",
    "\n",
    "plot_curriculum(data_names, 'samples', y='Distill/CartesianCorrectionsLabel_Accuracy_Train', smooth=100, \n",
    "                level_start=0, level_end=12, title=\"Label Accuracy Train\")\n",
    "plot_curriculum(data_names, 'samples', y='Distill/CartesianCorrectionsLabel_Accuracy_Val', smooth=100, \n",
    "                level_start=0, level_end=12, title=\"Label Accuracy Val\")"
   ]
  },
  {
   "cell_type": "code",
   "execution_count": null,
   "metadata": {
    "hidden": true
   },
   "outputs": [],
   "source": []
  },
  {
   "cell_type": "markdown",
   "metadata": {
    "heading_collapsed": true,
    "hidden": true
   },
   "source": [
    "## How can we get good PA accuracy?"
   ]
  },
  {
   "cell_type": "code",
   "execution_count": null,
   "metadata": {
    "hidden": true,
    "scrolled": true
   },
   "outputs": [],
   "source": [
    "data_names = [ \n",
    "#     (['867', '868'], 'PA Normal'),\n",
    "    (['0953', '0954'], 'PA Ent /10, RL Acc .9'),\n",
    "#     (['0957', '0958'], 'PA Ent /100, RL Acc .9'),\n",
    "#     (['0943', '0944'], 'PA -> CC3 Normal'),\n",
    "#     (['0931', '0932'], 'PA -> CC3 Help'), # Third best; cheats by using PA a lot\n",
    "#     (['0933', '0934'], 'PA -> CC3 Help + RL Acc .9'), # Second Best; cheats by using PA a lot\n",
    "#     (['0935', '0936'], 'PA -> CC3 -> None'), # Not great; stoppable\n",
    "#     (['0937', '0938'], 'PA -> CC3 -> None + RL Acc .9'), # Best; cheats by using PA a lot\n",
    "#     (['0939', '0940'], 'PA -> CC3 -> None + High PA Acc'), # Not great; stoppable\n",
    "#     (['0955', '0956'], 'PA -> CC3  Ent /10'),\n",
    "#     (['0963', '0964'], 'PA -> CC3 -> None + RL Acc .9 Ent /10'), # Bad; stoppable, but we should analyze\n",
    "    (['0895', '0896'], 'PA -> CC3 Nodistill'), # Bad; stoppable, but we should analyze\n",
    "#     (['0943', '0944'], 'PA -> CC3 Normal'),\n",
    "#     (['0951', '0952'], 'CC3 Normal'),\n",
    "#     (['0967', '0968'], 'PA -> CC3 Argmax Normal'),\n",
    "#     (['0981', '0982'], 'PA -> CC3 Sample ent / 10'),\n",
    "#     (['0983', '0984'], 'PA -> CC3 Argmax'),\n",
    "    (['979', '980'], 'PA -> CC3 logits'),\n",
    "#     (['967', '968'], 'PA -> CC3 Argmax'),\n",
    "#     (['977', '978'], 'PA -> CC3 Normal (logits, no self-distill)'),\n",
    "#     (['0975', '0976'], 'PA -> CC3 sampling'),\n",
    "#     (['0991', '0992'], 'PA -> CC3 Source Teacher'),\n",
    "#     (['0985', '0986'], 'PA -> CC3 Fake CC3 Feedback sampling'),\n",
    "    (['867', '868'], 'PA distill sample'),\n",
    "    \n",
    "    (['0971', '0972'], 'PA -> CC3 Sample + Sep Models'),\n",
    "    (['0969', '0970'], 'PA -> CC3 Argmax + Sep Models'),\n",
    "    (['0877', '0878'], 'PA Nodistill'),\n",
    "#     (['0919', '0920'], 'Distill from  oracle'),\n",
    "]\n",
    "plot_curriculum(data_names, 'samples', y='Train/Accuracy', smooth=100, \n",
    "                level_start=0, level_end=12, title=\"PA RL Accuracy on Bootstrapping Levels\")\n",
    "plot_curriculum(data_names, 'samples')\n",
    "plot_curriculum(data_names, 'samples', y='Distill/CartesianCorrectionsLabel_Accuracy_Train', smooth=100, \n",
    "                level_start=0, level_end=12, title=\"CartesianCorrectionsLabel_Accuracy_Train on Bootstrapping Levels\")"
   ]
  },
  {
   "cell_type": "markdown",
   "metadata": {
    "hidden": true
   },
   "source": [
    " Can we get good PA Acc?"
   ]
  },
  {
   "cell_type": "code",
   "execution_count": null,
   "metadata": {
    "hidden": true,
    "scrolled": true
   },
   "outputs": [],
   "source": [
    "data_names = [ \n",
    "    (['0999'], 'PA -> PA logits'),\n",
    "    (['1000'], 'PA -> PA distill logits'),\n",
    "    (['1003'], 'PA -> CC3 easy_swap_harder_noselfdistill logits'),\n",
    "    (['1006'], 'PA -> CC3 easy_swap_harder logits nodistill'),\n",
    "    (['1007'], 'PA -> CC3 easy_swap_harder logits ent / 10'),\n",
    "    (['1008'], 'PA -> CC3 easy_swap_harder logits ent / 100'),\n",
    "    (['1009'], 'PA -> CC3 easy_swap_harder logits ent 0'),\n",
    "    (['1001'], 'PA -> CC3 easy_swap_harder logits'),\n",
    "    (['1067'], 'PA -> CC3 easy_swap_harder logits threshold_distill .6'),\n",
    "    (['1068'], 'PA -> CC3 easy_swap_harder logits threshold_distill .8'),\n",
    "]\n",
    "plot_curriculum(data_names, 'samples', y='Train/Accuracy', smooth=100, \n",
    "                level_start=0, level_end=12, title=\"PA RL Accuracy on Bootstrapping Levels\")\n",
    "plot_curriculum(data_names, 'samples', level_start=0, level_end=12)\n",
    "plot_curriculum(data_names, 'samples', y='Distill/PreActionAdviceLabel_Accuracy_Train', smooth=100, \n",
    "                level_start=0, level_end=12, title=\"PreActionAdviceLabel_Accuracy_Train on Bootstrapping Levels\")\n",
    "plot_curriculum(data_names, 'samples', y='Distill/CartesianCorrectionsLabel_Accuracy_Train', smooth=100, \n",
    "                level_start=0, level_end=12, title=\"CartesianCorrectionsLabel_Accuracy_Train on Bootstrapping Levels\")\n",
    "# plot_curriculum(data_names, 'samples', y='Distill/CartesianCorrectionsLabel_Accuracy_Val', smooth=100, \n",
    "#                 level_start=0, level_end=12, title=\"CartesianCorrectionsLabel_Accuracy_Val on Bootstrapping Levels\")\n",
    "\n",
    "print(\"/\" * 200)\n",
    "\n",
    "data_names = [ \n",
    "    (['1004'], 'PA -> CC3 easy_swap_harder logits, half distillation itrs'),\n",
    "    (['1010'], 'PA -> CC3 easy_swap_harder logits ent / 10 sep models'),\n",
    "    (['1011'], 'PA -> CC3 easy_swap_harder logits ent / 100 sep models'),\n",
    "    (['1012'], 'PA -> CC3 easy_swap_harder logits ent 0 sep models'),\n",
    "    (['0971', '0972'], 'PA -> CC3 Sample + Sep Models'),\n",
    "    (['0969', '0970'], 'PA -> CC3 Argmax + Sep Models'),\n",
    "    (['1067'], 'PA -> CC3 easy_swap_harder logits threshold_distill .6'),\n",
    "    (['1068'], 'PA -> CC3 easy_swap_harder logits threshold_distill .8'),\n",
    "#     (['0877', '0878'], 'PA Nodistill'),\n",
    "#     (['867', '868'], 'PA distill sample'),\n",
    "#     (['0895', '0896'], 'PA -> CC3 Nodistill sample'),\n",
    "]\n",
    "plot_curriculum(data_names, 'samples', y='Train/Accuracy', smooth=100, \n",
    "                level_start=0, level_end=12, title=\"PA RL Accuracy on Bootstrapping Levels\")\n",
    "plot_curriculum(data_names, 'samples', level_start=0, level_end=12)\n",
    "plot_curriculum(data_names, 'samples', y='Distill/PreActionAdviceLabel_Accuracy_Train', smooth=100, \n",
    "                level_start=0, level_end=12, title=\"PreActionAdviceLabel_Accuracy_Train on Bootstrapping Levels\")\n",
    "plot_curriculum(data_names, 'samples', y='Distill/CartesianCorrectionsLabel_Accuracy_Train', smooth=100, \n",
    "                level_start=0, level_end=12, title=\"CartesianCorrectionsLabel_Accuracy_Train on Bootstrapping Levels\")\n",
    "# plot_curriculum(data_names, 'samples', y='Distill/CartesianCorrectionsLabel_Accuracy_Val', smooth=100, \n",
    "#                 level_start=0, level_end=12, title=\"CartesianCorrectionsLabel_Accuracy_Val on Bootstrapping Levels\")"
   ]
  },
  {
   "cell_type": "markdown",
   "metadata": {
    "hidden": true
   },
   "source": [
    "How many distillation steps should we use?"
   ]
  },
  {
   "cell_type": "code",
   "execution_count": null,
   "metadata": {
    "hidden": true
   },
   "outputs": [],
   "source": [
    "data_names = [ \n",
    "    (['1001'], 'PA -> CC3 easy_swap_harder logits'),\n",
    "    (['1004'], 'PA -> CC3 easy_swap_harder logits, half distillation itrs'),\n",
    "    (['0969', '0970'], 'PA -> CC3 Argmax + Sep Models'),\n",
    "    (['1012'], 'PA -> CC3 easy_swap_harder logits ent 0 sep models'),\n",
    "    (['0997', '0998'], 'Distill from  oracle'),\n",
    "]\n",
    "plot_curriculum(data_names, 'samples', y='Train/Accuracy', smooth=100, \n",
    "                level_start=0, level_end=12, title=\"PA RL Accuracy on Bootstrapping Levels\")\n",
    "plot_curriculum(data_names, 'samples')\n",
    "plot_curriculum(data_names, 'samples', y='Distill/PreActionAdviceLabel_Accuracy_Train', smooth=100, \n",
    "                level_start=0, level_end=12, title=\"PreActionAdviceLabel_Accuracy_Train on Bootstrapping Levels\")\n",
    "plot_curriculum(data_names, 'samples', y='Distill/CartesianCorrectionsLabel_Accuracy_Train', smooth=100, \n",
    "                level_start=0, level_end=12, title=\"CartesianCorrectionsLabel_Accuracy_Train on Bootstrapping Levels\")\n",
    "plot_curriculum(data_names, 'samples', y='Distill/CartesianCorrectionsAccuracy_Val', smooth=100, \n",
    "                level_start=0, level_end=12, title=\"CartesianCorrectionsAccuracy_Val on Bootstrapping Levels\")\n"
   ]
  },
  {
   "cell_type": "markdown",
   "metadata": {
    "hidden": true
   },
   "source": [
    "Best entropy rate?"
   ]
  },
  {
   "cell_type": "code",
   "execution_count": null,
   "metadata": {
    "hidden": true,
    "scrolled": true
   },
   "outputs": [],
   "source": [
    "data_names = [ \n",
    "    (['T1004'], 'PA -> CC3 Ent / 1'),\n",
    "    (['T1022'], 'PA -> CC3 Ent / 10'),\n",
    "    (['T1023'], 'PA -> CC3  Ent / 100'),\n",
    "    (['T1024'], 'Pa -> CC3 Ent 0'),\n",
    "    (['T1025'], 'PA -> CC3  Ent / -100'),\n",
    "    (['T1026'], 'PA -> CC3 Ent / -10'),\n",
    "    (['T1027'], 'PA -> CC3 Ent / -1'),\n",
    "    \n",
    "    (['0997', '0998'], 'Distill from  oracle'),\n",
    "]\n",
    "plot_curriculum(data_names, 'samples', y='Train/Accuracy', smooth=100, \n",
    "                level_start=0, level_end=12, title=\"PA RL Accuracy on Bootstrapping Levels\")\n",
    "plot_curriculum(data_names, 'samples')\n",
    "plot_curriculum(data_names, 'samples', y='Distill/PreActionAdviceLabel_Accuracy_Train', smooth=100, \n",
    "                level_start=0, level_end=12, title=\"PreActionAdviceLabel_Accuracy_Train on Bootstrapping Levels\")\n",
    "plot_curriculum(data_names, 'samples', y='Distill/CartesianCorrectionsLabel_Accuracy_Train', smooth=100, \n",
    "                level_start=0, level_end=12, title=\"CartesianCorrectionsLabel_Accuracy_Train on Bootstrapping Levels\")\n",
    "plot_curriculum(data_names, 'samples', y='Distill/CartesianCorrectionsAccuracy_Val', smooth=100, \n",
    "                level_start=0, level_end=12, title=\"CartesianCorrectionsAccuracy_Val on Bootstrapping Levels\")\n"
   ]
  },
  {
   "cell_type": "markdown",
   "metadata": {
    "hidden": true
   },
   "source": [
    "Best distillation steps?"
   ]
  },
  {
   "cell_type": "code",
   "execution_count": null,
   "metadata": {
    "hidden": true,
    "scrolled": true
   },
   "outputs": [],
   "source": [
    "data_names = [ \n",
    "    (['T1015'], 'PA -> CC3 D1'),\n",
    "    (['T1016'], 'PA -> CC3 D5'),\n",
    "    (['T1017'], 'PA -> CC3 D10'),\n",
    "    (['T1004'], 'PA -> CC3 D15'),\n",
    "    (['T1018'], 'Pa -> CC3 D20'),\n",
    "    (['T1019'], 'PA -> CC3 D30'),\n",
    "    (['T1020'], 'PA -> CC3 D40'),\n",
    "    (['T1021'], 'PA -> CC3 D50'),\n",
    "    \n",
    "    (['0997', '0998'], 'Distill from  oracle'),\n",
    "]\n",
    "plot_curriculum(data_names, 'samples', y='Train/Accuracy', smooth=100, \n",
    "                level_start=0, level_end=12, title=\"PA RL Accuracy on Bootstrapping Levels\")\n",
    "plot_curriculum(data_names, 'samples')\n",
    "plot_curriculum(data_names, 'samples', y='Distill/PreActionAdviceLabel_Accuracy_Train', smooth=100, \n",
    "                level_start=0, level_end=12, title=\"PreActionAdviceLabel_Accuracy_Train on Bootstrapping Levels\")\n",
    "plot_curriculum(data_names, 'samples', y='Distill/CartesianCorrectionsLabel_Accuracy_Train', smooth=100, \n",
    "                level_start=0, level_end=12, title=\"CartesianCorrectionsLabel_Accuracy_Train on Bootstrapping Levels\")\n",
    "plot_curriculum(data_names, 'samples', y='Distill/CartesianCorrectionsAccuracy_Val', smooth=100, \n",
    "                level_start=0, level_end=12, title=\"CartesianCorrectionsAccuracy_Val on Bootstrapping Levels\")\n"
   ]
  },
  {
   "cell_type": "markdown",
   "metadata": {
    "heading_collapsed": true
   },
   "source": [
    "# End"
   ]
  },
  {
   "cell_type": "code",
   "execution_count": null,
   "metadata": {
    "hidden": true,
    "scrolled": true
   },
   "outputs": [],
   "source": [
    "data_names = [ \n",
    "    (['1022'], 'PA -> CC3 Normal'),\n",
    "    (['1032'], 'DAgger'),\n",
    "]\n",
    "\n",
    "plot_curriculum(data_names, 'samples', y=f'Train/Accuracy', smooth=100, \n",
    "                level_start=5, level_end=5, title=f\"Level 5 Accuracy\")\n",
    "plot_curriculum(data_names, 'samples', y=f'Train/Success', smooth=100, \n",
    "                level_start=5, level_end=5, title=f\"Level 5 Success\")\n",
    "\n",
    "\n",
    "for i in range(5):\n",
    "    plot_curriculum(data_names, 'samples', y=f'Train/Accuracy{i}', smooth=100, \n",
    "                level_start=5, level_end=5, title=f\"Level 5, token {i}\")"
   ]
  },
  {
   "cell_type": "code",
   "execution_count": null,
   "metadata": {
    "hidden": true,
    "scrolled": true
   },
   "outputs": [],
   "source": [
    "data_names = [ \n",
    "    (['1146'], 'PA -> Distill from  oracle threshold_distill .9'),\n",
    "]\n",
    "\n",
    "plot_curriculum(data_names, 'samples', y='Distill/CartesianCorrectionsAccuracy_Val', smooth=100, \n",
    "                level_start=0, level_end=12, title=\"CC3 Per-timestep Accuracy on Bootstrapping Levels\")\n",
    "plot_curriculum(data_names, 'samples', y='Rollout/CartesianCorrectionsAvgAccuracy', smooth=10, \n",
    "                level_start=0, level_end=12, title=\"CC3 Rollout Accuracy on Bootstrapping Levels\")\n",
    "plot_curriculum(data_names, 'samples', y='DVidRollout/StochAcc', smooth=10, \n",
    "                level_start=0, level_end=12, title=\"CC3 DVidRollout Accuracy on Bootstrapping Levels\")\n",
    "plot_curriculum(data_names, 'samples', y='VidRollout/OracleCCAcc', smooth=10, \n",
    "                level_start=0, level_end=12, title=\"CC3 VidRollout Oracle Accuracy on Bootstrapping Levels\")"
   ]
  },
  {
   "cell_type": "code",
   "execution_count": null,
   "metadata": {
    "hidden": true
   },
   "outputs": [],
   "source": []
  },
  {
   "cell_type": "code",
   "execution_count": null,
   "metadata": {
    "hidden": true,
    "scrolled": true
   },
   "outputs": [],
   "source": [
    "# Unlock\n",
    "runs = [\n",
    "    (['T1769'], 'Temp = 1.5'),\n",
    "    (['T1779'], 'Temp = 1, again'),\n",
    "    (['T1770'], 'Temp = .75'),\n",
    "    (['T1771'], 'Temp = .5'),\n",
    "    (['T1780'], 'Deterministic'),\n",
    "    (['T1685'], 'Temp = 1, original'),\n",
    "]\n",
    "plot_final_generalization(runs, 'Eval with Teacher - None')\n",
    "print(\"=\" * 100)\n",
    "plot_final_generalization(runs, 'Eval with Teacher - None', 'stoch_accuracy')\n"
   ]
  },
  {
   "cell_type": "code",
   "execution_count": null,
   "metadata": {
    "hidden": true,
    "scrolled": true
   },
   "outputs": [],
   "source": [
    "runs = [\n",
    "    (['T1760'], '1637 Instr Finetuned'), # PA3 finetuned\n",
    "    (['T1781'], '1637 Instr Finetuned again'), # PA3 finetuned\n",
    "    (['T1685'], '1637 Instr'), # PA -> PA, PA3, None\n",
    "]\n",
    "\n",
    "plot_final_generalization(runs, 'Eval with Teacher - PA3')\n",
    "plot_final_generalization(runs, 'Eval with Teacher - PA3', 'stoch_accuracy')\n",
    "\n",
    "print(\"=\" * 100)\n",
    "\n",
    "runs = [\n",
    "    (['T1761'], '1637 Instr Finetuned'), # PA3 finetuned\n",
    "    (['T1685'], '1637 Instr'), # PA -> PA, PA3, None\n",
    "]\n",
    "\n",
    "plot_final_generalization(runs, 'Eval with Teacher - PA3')\n",
    "plot_final_generalization(runs, 'Eval with Teacher - PA3', 'stoch_accuracy')\n",
    "\n",
    "print(\"=\" * 100)\n",
    "\n",
    "runs = [\n",
    "    (['T1762'], '1637 Instr Finetuned'), # PA3 finetuned\n",
    "    (['T1685'], '1637 Instr'), # PA -> PA, PA3, None\n",
    "]\n",
    "\n",
    "plot_final_generalization(runs, 'Eval with Teacher - PA3')\n",
    "plot_final_generalization(runs, 'Eval with Teacher - PA3', 'stoch_accuracy')\n",
    "\n",
    "print(\"=\" * 100)\n",
    "\n",
    "# ====================\n",
    "\n",
    "runs = [\n",
    "    (['T1760'], 'Unlock finetune'),\n",
    "    (['T1761'], 'ImpUnlock finetune'),\n",
    "    (['T1762'], 'GoToHeldout finetune'),\n",
    "]\n",
    "plot_finetune_generalization(runs, '')\n",
    "plot_finetune_generalization(runs, '', 'stoch_accuracy')\n"
   ]
  },
  {
   "cell_type": "code",
   "execution_count": null,
   "metadata": {
    "hidden": true,
    "scrolled": true
   },
   "outputs": [],
   "source": [
    "runs = [\n",
    "    (['T1791'], '1637 Finetuned'),\n",
    "    (['T1792'], '1637 Finetuned'),\n",
    "    (['T1793'], '1637 Finetuned'),\n",
    "    (['T1685'], '1637 Instr OG'),\n",
    "]\n",
    "\n",
    "plot_final_generalization(runs, 'Eval with Teacher - PA3')\n",
    "plot_final_generalization(runs, 'Eval with Teacher - PA3', 'stoch_accuracy')"
   ]
  },
  {
   "cell_type": "code",
   "execution_count": null,
   "metadata": {
    "hidden": true
   },
   "outputs": [],
   "source": [
    "metrics = [\n",
    "    'Distill/PreActionAdviceAccuracy_Val',\n",
    "    'Distill/PreActionAdviceMultipleAccuracy_Val',\n",
    "    'Distill/PreActionAdviceMultipleRepeatedIndexAccuracy_Val',\n",
    "]\n",
    "data_names = [\n",
    "        (['T1868'], 'PAI'),\n",
    "        (['T1869'], 'PAIO'),\n",
    "    ]\n",
    "plot_curriculum(data_names, 'samples', y=metrics, smooth=10, error_bars=True, title='PAI vs PAIO when distilling from PA?',\n",
    "               y_lower=.95)\n"
   ]
  },
  {
   "cell_type": "code",
   "execution_count": null,
   "metadata": {
    "hidden": true,
    "scrolled": true
   },
   "outputs": [],
   "source": [
    "metrics = [\n",
    "    'Distill/PreActionAdviceMultipleAccuracy_Val',\n",
    "]\n",
    "data_names = [\n",
    "        (['T1863'], 'Yes indicator'), \n",
    "        (['T1867'], 'No indicator'),\n",
    "    ]\n",
    "plot_curriculum(data_names, 'samples', y=metrics, smooth=10, error_bars=True, title='Does adding the indicator help?',\n",
    "               y_lower=.95, y_upper=1)\n",
    "\n",
    "metrics = [\n",
    "    'Distill/PreActionAdviceMultipleAccuracy_Val',\n",
    "    'Distill/PreActionAdviceMultipleRepeatedIndexAccuracy_Val',\n",
    "]\n",
    "data_names = [\n",
    "        (['T1863'], 'No obs each time'), \n",
    "        (['T1864'], 'Yes obs each time'),\n",
    "    ]\n",
    "plot_curriculum(data_names, 'samples', y=metrics, smooth=10, error_bars=True, title='Does showing obs each time help?',\n",
    "               y_lower=.95, y_upper=1)\n",
    "\n",
    "data_names = [\n",
    "        (['T1865'], 'No obs each time'), # These also distill to PA\n",
    "        (['T1866'], 'Yes obs each time'),\n",
    "    ]\n",
    "plot_curriculum(data_names, 'samples', y=metrics, smooth=10, error_bars=True, title='Does showing obs each time help?',\n",
    "               y_lower=.95, y_upper=1)\n",
    "\n",
    "\n",
    "metrics = [\n",
    "    'Distill/PreActionAdviceAccuracy_Val',\n",
    "    'Distill/PreActionAdviceMultipleRepeatedIndexAccuracy_Val',\n",
    "]\n",
    "\n",
    "data_names = [\n",
    "        (['T1866'], 'Yes obs each time'),\n",
    "    ]\n",
    "plot_curriculum(data_names, 'samples', y=metrics, smooth=10, error_bars=True, title='1866: Is there a gap between PAIO3 and PA?',\n",
    "               y_lower=.95, y_upper=1)\n",
    "\n",
    "data_names = [\n",
    "        (['T1866_ORACLE_to_PA3_1'], 'Yes obs each time'),\n",
    "        (['T1866_ORACLE_to_PA3_2'], 'Yes obs each time'),\n",
    "        (['T1866_ORACLE_to_PA3_3'], 'Yes obs each time'),\n",
    "        (['T1866_ORACLE_to_PA3_4'], 'Yes obs each time'),\n",
    "    ]\n",
    "\n",
    "plot_curriculum(data_names, 'samples', y=metrics, smooth=10, error_bars=False, title='Is there a gap between PA3I and PA?',\n",
    "               y_lower=.95, y_upper=1)\n",
    "\n",
    "\n",
    "\n",
    "data_names = [\n",
    "        (['T1866'], 'Yes obs each time'),\n",
    "    ]\n",
    "plot_curriculum(data_names, 'samples', y=metrics, smooth=10, error_bars=False, title='1866: Is PA3I hurting PA?',\n",
    "               y_lower=.95, y_upper=1)\n",
    "\n",
    "\n",
    "metrics = [\n",
    "    'Distill/PreActionAdviceMultipleAccuracy_Val',\n",
    "]\n",
    "data_names = [\n",
    "        (['T1865'], 'Yes distill to PA'), \n",
    "        (['T1863'], 'No distill to PA'),\n",
    "    ]\n",
    "plot_curriculum(data_names, 'samples', y=metrics, smooth=10, error_bars=True, title='Does distilling to PA hurt PA3?',\n",
    "               y_lower=.95, y_upper=1)\n"
   ]
  },
  {
   "cell_type": "code",
   "execution_count": null,
   "metadata": {
    "hidden": true
   },
   "outputs": [],
   "source": [
    "metrics = [\n",
    "    'Distill/PreActionAdviceAccuracy_Val',\n",
    "    'Distill/PreActionAdviceMultipleRepeatedIndexAccuracy_Val',\n",
    "]\n",
    "data_names = [#(['T1858'], 'PA2 distill_pa2'),\n",
    "#               (['T1862'], 'PA2 all_teachers'),\n",
    "              (['T1864'], 'PA3 distill_pa3'),\n",
    "#               (['T1866'], 'PA3 all_teachers'),\n",
    "             \n",
    "             \n",
    "             ]\n",
    "plot_curriculum(data_names, 'samples', y=metrics, smooth=10, error_bars=True, title='Abstract + Indicator + EachTime',\n",
    "               y_lower=.95)\n"
   ]
  },
  {
   "cell_type": "code",
   "execution_count": null,
   "metadata": {
    "hidden": true,
    "scrolled": true
   },
   "outputs": [],
   "source": [
    "metrics = [\n",
    "    'Distill/PreActionAdviceAccuracy_Val',\n",
    "    'Distill/PreActionAdviceMultipleAccuracy_Val',\n",
    "]\n",
    "data_names = [\n",
    "        (['T1857'], 'PA2 distill_pa2'), \n",
    "              (['T1861'], 'PA2 all_teachers'),\n",
    "             ]\n",
    "plot_curriculum(data_names, 'samples', y=metrics, smooth=10, error_bars=True, title='Abstract + Indicator',\n",
    "               y_lower=.95)\n",
    "\n",
    "data_names = [\n",
    "              (['T1863'], 'PA3 distill_pa3'), \n",
    "              (['T1865'], 'PA3 all_teachers'),\n",
    "             ]\n",
    "plot_curriculum(data_names, 'samples', y=metrics, smooth=10, error_bars=True, title='Abstract + Indicator',\n",
    "               y_lower=.95)\n",
    "\n",
    "metrics = [\n",
    "    'Distill/PreActionAdviceMultipleAccuracy_Val',\n",
    "]\n",
    "\n",
    "data_names = [\n",
    "                (['T1783'], 'PA3 no indicator again'),\n",
    "              (['T1863'], 'PA3 indicator'), \n",
    "              (['T1867'], 'PA3 no indicator'), \n",
    "             ]\n",
    "plot_curriculum(data_names, 'samples', y=metrics, smooth=10, error_bars=True, title='PA3!',\n",
    "               y_lower=.95)\n",
    "\n",
    "\n",
    "\n",
    "\n",
    "metrics = [\n",
    "    'Distill/PreActionAdviceAccuracy_Val',\n",
    "    'Distill/PreActionAdviceMultipleAccuracy_Val',\n",
    "]\n",
    "\n",
    "data_names = [\n",
    "                (['T1783'], 'PA3 no indicator again'),\n",
    "#               (['T1865'], 'PA3 all_teachers'),\n",
    "#               (['T1861'], 'PA2 all_teachers'),\n",
    "             ]\n",
    "plot_curriculum(data_names, 'samples', y=metrics, smooth=20, error_bars=True, title='OG',\n",
    "               y_lower=.95)\n",
    "\n",
    "data_names = [\n",
    "              (['T1865'], 'PA3 all_teachers'),\n",
    "#     (['T1867'], 'PA3 no indicator'),\n",
    "#               (['T1865'], 'PA3 all_teachers'),\n",
    "#               (['T1861'], 'PA2 all_teachers'),\n",
    "             ]\n",
    "plot_curriculum(data_names, 'samples', y=metrics, smooth=20, error_bars=True, title='OG AGAIN + indicator',\n",
    "               y_lower=.95)\n",
    "\n",
    "\n",
    "metrics = [\n",
    "    'Distill/PreActionAdviceAccuracy_Val',\n",
    "    'Distill/PreActionAdviceMultipleRepeatedIndexAccuracy_Val',\n",
    "]\n",
    "data_names = [(['T1858'], 'PA2 distill_pa2'),\n",
    "              (['T1862'], 'PA2 all_teachers'),\n",
    "              (['T1864'], 'PA3 distill_pa3'),\n",
    "              (['T1866'], 'PA3 all_teachers'),\n",
    "             \n",
    "             \n",
    "             ]\n",
    "plot_curriculum(data_names, 'samples', y=metrics, smooth=10, error_bars=True, title='Abstract + Indicator + EachTime',\n",
    "               y_lower=.95)\n",
    "\n",
    "metrics = [\n",
    "    'Distill/PreActionAdviceAccuracy_Val',\n",
    "    'Distill/PreActionAdviceMultipleAccuracy_Val',\n",
    "]\n",
    "data_names = [(['T1859'], '')]\n",
    "plot_curriculum(data_names, 'samples', y=metrics, smooth=10, error_bars=True, title='PA2 + Indicator + FF1',\n",
    "               y_lower=.95)\n",
    "\n",
    "data_names = [(['T1860'], '')]\n",
    "plot_curriculum(data_names, 'samples', y=metrics, smooth=10, error_bars=True, title='PA2 + Indicator + Obs masked out',\n",
    "               y_lower=.95)\n"
   ]
  },
  {
   "cell_type": "markdown",
   "metadata": {
    "hidden": true
   },
   "source": [
    "### Does distilling to multiple teachers hurt?"
   ]
  },
  {
   "cell_type": "code",
   "execution_count": null,
   "metadata": {
    "hidden": true
   },
   "outputs": [],
   "source": [
    "metrics = [\n",
    "    'Distill/PreActionAdviceAccuracy_Val',\n",
    "    'Distill/PreActionAdviceMultipleAccuracy_Val',\n",
    "    'Distill/PreActionAdviceMultipleRepeatedIndexAccuracy_Val',\n",
    "]\n",
    "\n",
    "data_names = [\n",
    "        (['T1874'], 'Distill to 3 teachers'),\n",
    "    ]\n",
    "plot_curriculum(data_names, 'samples', y=metrics, smooth=10, error_bars=True, title='1866: Can we learn 3 teachers? Looks like when we add PA3, PAIO3 becomes bad.',\n",
    "               y_lower=.95, y_upper=1)\n",
    "\n",
    "\n",
    "metrics = [\n",
    "    'Distill/PreActionAdviceMultipleRepeatedIndexAccuracy_Val',\n",
    "]\n",
    "\n",
    "data_names = [\n",
    "        (['T1866'], 'Distill to 2'),\n",
    "        (['T1874'], 'Distill to 3'),\n",
    "    ]\n",
    "plot_curriculum(data_names, 'samples', y=metrics, smooth=10, error_bars=True, title='1866: PAIO3 is way worse when youre learning another teacher at the same time.',\n",
    "               y_lower=.95, y_upper=1)"
   ]
  },
  {
   "cell_type": "markdown",
   "metadata": {
    "hidden": true
   },
   "source": [
    "### Val Acc"
   ]
  },
  {
   "cell_type": "code",
   "execution_count": null,
   "metadata": {
    "hidden": true
   },
   "outputs": [],
   "source": [
    "metrics = [\n",
    "    'Distill/PreActionAdviceAccuracy_Val',\n",
    "    'Distill/PreActionAdviceMultipleRepeatedIndexAccuracy_Val',\n",
    "]\n",
    "\n",
    "data_names = [\n",
    "        (['T1866'], 'Yes obs each time'), # kangaroo\n",
    "    ]\n",
    "plot_curriculum(data_names, 'samples', y=metrics, smooth=10, error_bars=True, title='1866: Is there a gap between PAIO3 and PA? Seems like PAIO3 learns slowly, then matches PA.',\n",
    "               y_lower=.95, y_upper=1)"
   ]
  },
  {
   "cell_type": "markdown",
   "metadata": {
    "hidden": true
   },
   "source": [
    "### Train acc"
   ]
  },
  {
   "cell_type": "code",
   "execution_count": null,
   "metadata": {
    "hidden": true
   },
   "outputs": [],
   "source": [
    "metrics = [\n",
    "    'Distill/PreActionAdviceAccuracy_Train',\n",
    "    'Distill/PreActionAdviceAccuracy_Val',\n",
    "    'Distill/PreActionAdviceMultipleRepeatedIndexAccuracy_Train',\n",
    "    'Distill/PreActionAdviceMultipleRepeatedIndexAccuracy_Val',\n",
    "]\n",
    "\n",
    "data_names = [\n",
    "        (['T1866'], 'Yes obs each time'), # kangaroo\n",
    "    ]\n",
    "plot_curriculum(data_names, 'samples', y=metrics, smooth=10, error_bars=True, title='1866: Are we overfitting? Seems like not much.',\n",
    "               y_lower=.95, y_upper=1)"
   ]
  },
  {
   "cell_type": "markdown",
   "metadata": {
    "hidden": true
   },
   "source": [
    "### Rollout acc"
   ]
  },
  {
   "cell_type": "code",
   "execution_count": null,
   "metadata": {
    "hidden": true
   },
   "outputs": [],
   "source": [
    "metrics = [\n",
    "    'Rollout/PreActionAdviceAvgAccuracy',\n",
    "    'Rollout/PreActionAdviceMultipleRepeatedIndexAvgAccuracy'\n",
    "]\n",
    "data_names = [\n",
    "        (['T1866'], ''),\n",
    "    ]\n",
    "plot_curriculum(data_names, 'samples', y=metrics, smooth=10, error_bars=True, title='1866: can we rollout well? Seems like both PA and PA3 are lower than I would like.',\n",
    "               y_lower=.5, plot_advancement=True)"
   ]
  },
  {
   "cell_type": "markdown",
   "metadata": {
    "hidden": true
   },
   "source": [
    "### Rollout success"
   ]
  },
  {
   "cell_type": "code",
   "execution_count": null,
   "metadata": {
    "hidden": true
   },
   "outputs": [],
   "source": [
    "metrics = [\n",
    "    'Rollout/PreActionAdviceAvgSuccess',\n",
    "    'Rollout/PreActionAdviceMultipleRepeatedIndexAvgSuccess',\n",
    "    'Rollout/AvgSuccess'\n",
    "]\n",
    "data_names = [\n",
    "        (['T1866'], ''),\n",
    "    ]\n",
    "plot_curriculum(data_names, 'samples', y=metrics, smooth=10, error_bars=True, title='1866: can we rollout well? Seems like both PA and PA3 are lower than I would like. At least theyre about the same.',\n",
    "               y_lower=.5)"
   ]
  },
  {
   "cell_type": "markdown",
   "metadata": {
    "hidden": true
   },
   "source": [
    "### From PA - Distillation Acc"
   ]
  },
  {
   "cell_type": "code",
   "execution_count": null,
   "metadata": {
    "hidden": true
   },
   "outputs": [],
   "source": [
    "metrics = [\n",
    "#     'Distill/PreActionAdviceAccuracy_Val',\n",
    "    'Distill/PreActionAdviceMultipleRepeatedIndexAccuracy_Train',\n",
    "    'Distill/PreActionAdviceMultipleRepeatedIndexAccuracy_Val',\n",
    "]\n",
    "\n",
    "data_names = [\n",
    "        (['T1866'], 'From oracle'),\n",
    "        (['T1869'], 'From PA'),\n",
    "    ]\n",
    "plot_curriculum(data_names, 'samples', y=metrics, smooth=10, error_bars=True, \n",
    "                title='1866: PA is way worse than Oracle. Minimal overfitting. May just be that PA is slower?',\n",
    "               y_lower=.95, y_upper=1, plot_advancement=True)"
   ]
  },
  {
   "cell_type": "markdown",
   "metadata": {
    "hidden": true
   },
   "source": [
    "### From PA - Rollout Acc"
   ]
  },
  {
   "cell_type": "code",
   "execution_count": null,
   "metadata": {
    "hidden": true
   },
   "outputs": [],
   "source": [
    "metrics = [\n",
    "    'Rollout/PreActionAdviceAvgAccuracy',\n",
    "    'Rollout/PreActionAdviceMultipleRepeatedIndexAvgAccuracy'\n",
    "]\n",
    "data_names = [\n",
    "        (['T1869'], 'From PA'),\n",
    "    ]\n",
    "plot_curriculum(data_names, 'samples', y=metrics, smooth=10, error_bars=True, \n",
    "                title='1869:PA rollout is way better than PAIO3. Unclear if this is b/c its an easier teacher or b/c we RL trained from it.',\n",
    "               y_lower=.5, plot_advancement=True)\n",
    "\n",
    "metrics = [\n",
    "    'Rollout/PreActionAdviceAvgAccuracy',\n",
    "]\n",
    "data_names = [\n",
    "        (['T1866'], 'From oracle'),\n",
    "        (['T1869'], 'From PA'),\n",
    "    ]\n",
    "plot_curriculum(data_names, 'samples', y=metrics, smooth=10, error_bars=True, \n",
    "                title='1869: PA rollout acc outperforms distilling from the oracle',\n",
    "               y_lower=.5)\n",
    "\n",
    "\n",
    "metrics = [\n",
    "    'Rollout/PreActionAdviceMultipleRepeatedIndexAvgAccuracy'\n",
    "]\n",
    "data_names = [\n",
    "        (['T1866'], 'From oracle'),\n",
    "        (['T1869'], 'From PA'),\n",
    "    ]\n",
    "plot_curriculum(data_names, 'samples', y=metrics, smooth=10, error_bars=True, \n",
    "                title='1869: PA rollout acc matches distilling from the oracle.',\n",
    "               y_lower=.5)"
   ]
  },
  {
   "cell_type": "markdown",
   "metadata": {
    "hidden": true
   },
   "source": [
    "### From PA Success"
   ]
  },
  {
   "cell_type": "code",
   "execution_count": null,
   "metadata": {
    "hidden": true
   },
   "outputs": [],
   "source": [
    "metrics = [\n",
    "    'Rollout/PreActionAdviceAvgSuccess',\n",
    "    'Rollout/PreActionAdviceMultipleRepeatedIndexAvgSuccess',\n",
    "    'Rollout/AvgSuccess'\n",
    "]\n",
    "data_names = [\n",
    "        (['T1869'], 'From PA'),\n",
    "    ]\n",
    "plot_curriculum(data_names, 'samples', y=metrics, smooth=10, error_bars=True, title='1866:.',\n",
    "               y_lower=0)\n"
   ]
  },
  {
   "cell_type": "markdown",
   "metadata": {
    "hidden": true
   },
   "source": [
    "## From PA New Hparams"
   ]
  },
  {
   "cell_type": "code",
   "execution_count": null,
   "metadata": {
    "hidden": true
   },
   "outputs": [],
   "source": [
    "metrics = [\n",
    "#     'Distill/PreActionAdviceMultipleRepeatedIndexAccuracy_Train',\n",
    "    'Distill/PreActionAdviceMultipleRepeatedIndexAccuracy_Val',\n",
    "]\n",
    "\n",
    "data_names = [\n",
    "        (['T1869'], 'Sanity Hparams'),\n",
    "        (['T1876'], 'Current HParams'),\n",
    "        (['T1878'], 'More Distillation'),\n",
    "    ]\n",
    "plot_curriculum(data_names, 'samples', y=metrics, smooth=10, error_bars=True, \n",
    "                title='',\n",
    "               y_lower=.95, y_upper=1)\n",
    "\n",
    "metrics = [\n",
    "    'Rollout/PreActionAdviceAvgAccuracy',\n",
    "]\n",
    "plot_curriculum(data_names, 'samples', y=metrics, smooth=10, error_bars=True, \n",
    "                title='1869:PA rollout is way better than PAIO3. Unclear if this is b/c its an easier teacher or b/c we RL trained from it.',\n",
    "               y_lower=.5)\n",
    "\n",
    "\n",
    "metrics = [\n",
    "    'Rollout/PreActionAdviceMultipleRepeatedIndexAvgAccuracy'\n",
    "]\n",
    "plot_curriculum(data_names, 'samples', y=metrics, smooth=10, error_bars=True, \n",
    "                title='1869:PA rollout is way better than PAIO3. Unclear if this is b/c its an easier teacher or b/c we RL trained from it.',\n",
    "               y_lower=.5)"
   ]
  },
  {
   "cell_type": "markdown",
   "metadata": {
    "hidden": true
   },
   "source": [
    "## Is the PA/PA3 gap due to RL or something else?"
   ]
  },
  {
   "cell_type": "code",
   "execution_count": null,
   "metadata": {
    "hidden": true
   },
   "outputs": [],
   "source": [
    "metrics = [\n",
    "    'Distill/PreActionAdviceMultipleRepeatedIndexAccuracy_Val',\n",
    "    'Distill/PreActionAdvice2Accuracy_Val',\n",
    "]\n",
    "\n",
    "data_names = [\n",
    "        (['T1877'], 'PA -> (PA, PA_again)'),\n",
    "        (['T1869'], 'PA -> (PA, PAIO3)'),\n",
    "    ]\n",
    "plot_curriculum(data_names, 'samples', y=metrics, smooth=10, error_bars=True, \n",
    "                title='Distill Accuracy: PAIO is significantly harder to learn than PA_again',\n",
    "               y_lower=.95, y_upper=1)\n",
    "\n",
    "metrics = [\n",
    "    'Rollout/PreActionAdviceMultipleRepeatedIndexAvgAccuracy',\n",
    "    'Rollout/PreActionAdvice2AvgAccuracy',\n",
    "]\n",
    "plot_curriculum(data_names, 'samples', y=metrics, smooth=10, error_bars=True, \n",
    "                title='1869:PA rollout is way better than PAIO3. Unclear if this is b/c its an easier teacher or b/c we RL trained from it.',\n",
    "               y_lower=.5)"
   ]
  },
  {
   "cell_type": "markdown",
   "metadata": {
    "hidden": true
   },
   "source": [
    "## Does CIO3 work?"
   ]
  },
  {
   "cell_type": "code",
   "execution_count": null,
   "metadata": {
    "hidden": true,
    "scrolled": false
   },
   "outputs": [],
   "source": [
    "\n",
    "for run_id in list(range(1895, 1899)) + list(range(1916, 1920)):\n",
    "    runs = [([f'T{run_id}'], '')]\n",
    "    \n",
    "    metrics = [\n",
    "        'Distill/PreActionAdviceAccuracy_Val',\n",
    "        'Distill/CCIOAccuracy_Val',\n",
    "    ]\n",
    "\n",
    "    plot_curriculum(runs, 'samples', y=metrics, smooth=10, error_bars=True, title=f'Run {run_id}; Distillation Accuracy',\n",
    "               y_lower=.5)\n",
    "    \n",
    "    metrics = [\n",
    "    'Rollout/PreActionAdviceAvgAccuracy',\n",
    "    'Rollout/CCIOAvgAccuracy',\n",
    "]\n",
    "\n",
    "    \n",
    "    plot_curriculum(runs, 'samples', y=metrics, smooth=10, error_bars=True, title=f'Run {run_id}; Rollout Accuracy',\n",
    "               y_lower=.5)\n",
    "    print(\"=\" * 200)\n",
    " "
   ]
  },
  {
   "cell_type": "code",
   "execution_count": null,
   "metadata": {
    "hidden": true
   },
   "outputs": [],
   "source": [
    "## Does more distillation help?"
   ]
  },
  {
   "cell_type": "code",
   "execution_count": null,
   "metadata": {
    "hidden": true,
    "scrolled": true
   },
   "outputs": [],
   "source": [
    "metrics = [\n",
    "    'Distill/PreActionAdviceMultipleRepeatedIndexAccuracy_Val',\n",
    "]\n",
    "\n",
    "data_names = [\n",
    "        (['T1876'], 'D5'),\n",
    "        (['T1878'], 'D15'),\n",
    "    ]\n",
    "plot_curriculum(data_names, 'samples', y=metrics, smooth=50, error_bars=True, \n",
    "                title=\"Distilling more doesn't seem to help\",\n",
    "               y_lower=.95, y_upper=1)\n",
    "metrics = [\n",
    "    'Distill/PreActionAdviceMultipleRepeatedIndexAccuracy_Train',\n",
    "]\n",
    "\n",
    "plot_curriculum(data_names, 'samples', y=metrics, smooth=50, error_bars=True, \n",
    "                title='Distilling more only leads to a bit of early overfitting',\n",
    "               y_lower=.95, y_upper=1)\n",
    "\n",
    "metrics = [\n",
    "    'Rollout/PreActionAdviceMultipleRepeatedIndexAvgAccuracy',\n",
    "]\n",
    "plot_curriculum(data_names, 'samples', y=metrics, smooth=50, error_bars=True, \n",
    "                title=\"Distilling more doesn't change rollout acc\",\n",
    "               y_lower=.5)"
   ]
  },
  {
   "cell_type": "markdown",
   "metadata": {
    "hidden": true
   },
   "source": [
    "## Does the new curriculum learn well?"
   ]
  },
  {
   "cell_type": "code",
   "execution_count": null,
   "metadata": {
    "hidden": true,
    "scrolled": false
   },
   "outputs": [],
   "source": [
    "data_names = [\n",
    "#         (['T1935'], 'PA -> PAIO3, old branch, no None'),\n",
    "        (['T1939'], 'PA -> None'),\n",
    "#         (['T1940'], 'PA -> (PAIO3, None)'),\n",
    "        (['T1941'], 'PA -> (PAIO3, None) Swap on Level 13'),\n",
    "        (['T1942'], 'PA -> (PAIO3, None) Swap on Each Level'),\n",
    "    ]\n",
    "\n",
    "plot_curriculum(data_names, 'samples', smooth=1, error_bars=True, \n",
    "                title=\"How many samples does it take to learn the curriculum?\",\n",
    "               y_lower=0, y_upper=1)\n",
    "\n",
    "plot_curriculum(data_names, 'feedback', smooth=1, error_bars=True, \n",
    "                title=\"How much feedback does it take?\",\n",
    "               y_lower=-.1, y_upper=1)\n",
    "\n",
    "\n",
    "plot_curriculum(data_names, 'samples', smooth=1, error_bars=True, \n",
    "                title=\"How many samples does it take to learn the curriculum?\",\n",
    "               y_lower=0, y_upper=1, level_end=12)\n",
    "\n",
    "plot_curriculum(data_names, 'feedback', smooth=1, error_bars=True, \n",
    "                title=\"How much feedback does it take?\",\n",
    "               y_lower=-.1, y_upper=1, level_end=12)"
   ]
  },
  {
   "cell_type": "code",
   "execution_count": null,
   "metadata": {
    "hidden": true,
    "scrolled": true
   },
   "outputs": [],
   "source": [
    "data_names = [\n",
    "        (['T1946'], 'PA -> None'),\n",
    "        (['T1947'], 'PA -> (PAIO3, None) Swap on Level 13'),\n",
    "#         (['T1948'], 'PA -> None, easier threshold'),\n",
    "    ]\n",
    "\n",
    "plot_curriculum(data_names, 'samples', smooth=1, error_bars=True, \n",
    "                title=\"How many samples does it take to learn the curriculum?\",\n",
    "               y_lower=0, y_upper=1, level_end=12)\n",
    "\n",
    "plot_curriculum(data_names, 'feedback', smooth=1, error_bars=True, \n",
    "                title=\"How much feedback does it take?\",\n",
    "               y_lower=-.1, y_upper=1, level_end=12)"
   ]
  },
  {
   "cell_type": "markdown",
   "metadata": {
    "hidden": true
   },
   "source": [
    "## Why is PA -> PAIO3 doing worse?"
   ]
  },
  {
   "cell_type": "code",
   "execution_count": null,
   "metadata": {
    "hidden": true,
    "scrolled": true
   },
   "outputs": [],
   "source": [
    "metrics = [\n",
    "    'Advance',\n",
    "    'Distill/Advance_Overall',\n",
    "    'Rollout/Advance',\n",
    "    'Rollout/PreActionAdviceAdvance',\n",
    "    'Rollout/PreActionAdviceMultipleRepeatedIndexAdvance',\n",
    "    'Train/Advance'\n",
    "]\n",
    "\n",
    "data_names = [\n",
    "    (['T1946'], 'PA -> None'),\n",
    "    (['T1947'], 'PA -> (PAIO3, None) Swap on Level 13'),\n",
    "]\n",
    "data_names = [\n",
    "#         (['T1935'], 'PA -> PAIO3, old branch, no None'),\n",
    "        (['T1939'], 'PA -> None'),\n",
    "#         (['T1940'], 'PA -> (PAIO3, None)'),\n",
    "        (['T1941'], 'PA -> (PAIO3, None) Swap on Level 13'),\n",
    "        (['T1942'], 'PA -> (PAIO3, None) Swap on Each Level'),\n",
    "    ]\n",
    "\n",
    "for metric in metrics:\n",
    "\n",
    "\n",
    "    plot_curriculum(data_names, 'samples', smooth=10, error_bars=True, y=[metric],\n",
    "                    title=metric,\n",
    "                   y_lower=0, y_upper=1, level_end=12)\n"
   ]
  },
  {
   "cell_type": "code",
   "execution_count": null,
   "metadata": {
    "hidden": true
   },
   "outputs": [],
   "source": [
    "data_names = [\n",
    "        (['T1945'], 'PA -> None DropRew'),\n",
    "        (['T1943'], 'PA -> (PAIO3, None) ESH DropRew'),\n",
    "        (['T1944'], 'PA -> (PAIO3, None) ESHET DropRew'),\n",
    "    ]\n",
    "\n",
    "plot_curriculum(data_names, 'samples', smooth=1, error_bars=True, \n",
    "                title=\"How many samples does it take to learn the curriculum?\",\n",
    "               y_lower=0, y_upper=1)\n",
    "\n",
    "plot_curriculum(data_names, 'feedback', smooth=1, error_bars=True, \n",
    "                title=\"How much feedback does it take?\",\n",
    "               y_lower=-.1, y_upper=1)"
   ]
  },
  {
   "cell_type": "code",
   "execution_count": null,
   "metadata": {
    "hidden": true
   },
   "outputs": [],
   "source": [
    "data_names = [\n",
    "        (['T1939'], 'PA -> None'),\n",
    "        (['T1941'], 'PA -> (PAIO3, None) ESH DropRew'),\n",
    "        (['T1944'], 'PA -> (PAIO3, None) ESHET DropRew'),\n",
    "    ]\n",
    "\n",
    "plot_curriculum(data_names, 'samples', smooth=1, error_bars=True, \n",
    "                title=\"How many samples does it take to learn the curriculum?\",\n",
    "               y_lower=0, y_upper=1)\n",
    "\n",
    "plot_curriculum(data_names, 'feedback', smooth=1, error_bars=True, \n",
    "                title=\"How much feedback does it take?\",\n",
    "               y_lower=-.1, y_upper=1)"
   ]
  },
  {
   "cell_type": "markdown",
   "metadata": {
    "hidden": true
   },
   "source": [
    "## Can we drop reward?"
   ]
  },
  {
   "cell_type": "code",
   "execution_count": null,
   "metadata": {
    "hidden": true,
    "scrolled": true
   },
   "outputs": [],
   "source": [
    "data_names = [\n",
    "        (['T1943'], 'PA -> (PAIO3, None) ESH DropRew'),\n",
    "        (['T1944'], 'PA -> (PAIO3, None) ESHET DropRew'),\n",
    "        (['T1945'], 'PA -> None DropRew'),\n",
    "    ]\n",
    "\n",
    "plot_curriculum(data_names, 'samples', y=['Train/SkipTrainRL'], smooth=10, error_bars=True, \n",
    "                title=\"How often do we drop reward?\",\n",
    "               y_lower=0, y_upper=1)\n",
    "\n",
    "plot_curriculum(data_names, 'feedback', y=['Rollout/last_success'], smooth=10, error_bars=True, \n",
    "                title=\"Is the success threshold high enough?\",\n",
    "               y_lower=0, y_upper=1)\n",
    "plot_curriculum(data_names, 'feedback', y=['Rollout/last_accuracy'], smooth=10, error_bars=True, \n",
    "                title=\"Is the accuracy threshold high enough?\",\n",
    "               y_lower=0, y_upper=1)"
   ]
  },
  {
   "cell_type": "markdown",
   "metadata": {
    "hidden": true
   },
   "source": [
    "## Can we swap in PAIO3?"
   ]
  },
  {
   "cell_type": "code",
   "execution_count": null,
   "metadata": {
    "hidden": true,
    "scrolled": true
   },
   "outputs": [],
   "source": [
    "data_names = [\n",
    "        (['T1942'], 'PA -> (PAIO3, None) ESHET'),\n",
    "        (['T1944'], 'PA -> (PAIO3, None) ESHET DropRew'),\n",
    "    ]\n",
    "\n",
    "plot_curriculum(data_names, 'samples', y=['Feedback/gave_PreActionAdvice'], smooth=10, error_bars=True, \n",
    "                title=\"How often do we drop give PA?\",\n",
    "               y_lower=0, y_upper=810)\n",
    "\n",
    "plot_curriculum(data_names, 'feedback', y=['Rollout/last_success'], smooth=10, error_bars=True, \n",
    "                title=\"Is the success threshold high enough?\",\n",
    "               y_lower=0, y_upper=1)\n",
    "plot_curriculum(data_names, 'feedback', y=['Rollout/last_accuracy'], smooth=10, error_bars=True, \n",
    "                title=\"Is the accuracy threshold high enough?\",\n",
    "               y_lower=0, y_upper=1)"
   ]
  },
  {
   "cell_type": "markdown",
   "metadata": {
    "heading_collapsed": true,
    "hidden": true
   },
   "source": [
    "## Can we ground PIAO3 well on PutNext?"
   ]
  },
  {
   "cell_type": "code",
   "execution_count": null,
   "metadata": {
    "hidden": true,
    "scrolled": false
   },
   "outputs": [],
   "source": [
    "data_names = [\n",
    "        (['T1974'], 'From Oracle, Partially Observed'),\n",
    "        (['T1975'], 'From PA, Partially Observed'),\n",
    "        (['T1986'], 'From Oracle, Fully Observed'),\n",
    "        (['T1987'], 'From PA, Fully Observed'),\n",
    "        (['T1992'], 'From Oracle, Fully Observed, No Mem'),\n",
    "        (['T1993'], 'From PA, Fully Observed, No Mem'),\n",
    "    \n",
    "    \n",
    "        (['T1997'], 'From Oracle, Fully Observed'),\n",
    "        (['T1998'], 'From PA, Fully Observed'),\n",
    "        (['T1999'], 'From Oracle, Fully Observed, No Mem'),\n",
    "        (['T2000'], 'From PA, Fully Observed, No Mem'),\n",
    "    ]\n",
    "\n",
    "# Keep these runs going!\n",
    "\n",
    "plot_curriculum(data_names, 'samples', \n",
    "                y=['Rollout/PreActionAdviceMultipleRepeatedIndexAvgAccuracy'], \n",
    "                smooth=50, error_bars=True, \n",
    "                title=\"Rollout Acc: Can we distill to PAIO3 on PutNext?\",\n",
    "               y_lower=.9, y_upper=1)\n",
    "\n",
    "plot_curriculum(data_names, 'samples', \n",
    "                y=['Distill/PreActionAdviceMultipleRepeatedIndexAccuracy_Val'], \n",
    "                smooth=50, error_bars=True, \n",
    "                title=\"Distillation Acc: Can we distill to PAIO3 on PutNext?\",\n",
    "               y_lower=.9, y_upper=1)\n",
    "\n",
    "# # RL, for comparison\n",
    "# data_names = [\n",
    "#         (['T1976'], 'PA, Partially Observed'),\n",
    "#         (['T1973'], 'PAIO3, Partially Observed'),\n",
    "#         (['T1985'], 'PAIO3, Fully Observed'),\n",
    "#         (['T1991'], 'PAIO3, Fully Observed, no Mem'),\n",
    "#     ]\n",
    "\n",
    "# plot_curriculum(data_names, 'samples', \n",
    "#                 y=[\n",
    "#                    'Train/Accuracy',\n",
    "#                   ], \n",
    "#                 smooth=10, error_bars=True, \n",
    "#                 title=\"Rollout Acc: Can RL train with PA?\",\n",
    "#                y_lower=0, y_upper=1)\n",
    "# plot_curriculum(data_names, 'samples', \n",
    "#                 y=[\n",
    "#                     'Rollout/PreActionAdviceMultipleRepeatedIndexAvgAccuracy',\n",
    "#                   ], \n",
    "#                 smooth=10, error_bars=True, \n",
    "#                 title=\"Rollout Acc: Can RL train with PA?\",\n",
    "#                y_lower=0, y_upper=1)\n",
    "\n",
    "\n",
    "# # Combine the two sets of data above\n",
    "data_names = [\n",
    "#         (['T1974'], 'From Oracle, Partially Observed'),\n",
    "        (['T1975'], 'From PA, Partially Observed'),\n",
    "#         (['T1986'], 'From Oracle, Fully Observed'),\n",
    "        (['T1987'], 'From PA, Fully Observed'),\n",
    "#         (['T1992'], 'From Oracle, Fully Observed, No Mem'),\n",
    "        (['T1993'], 'From PA, Fully Observed, No Mem'),\n",
    "        (['T1976'], 'PA, Partially Observed'),\n",
    "        (['T1973'], 'PAIO3, Partially Observed'),\n",
    "        (['T1985'], 'PAIO3, Fully Observed'),\n",
    "        (['T1991'], 'PAIO3, Fully Observed, no Mem'),\n",
    "    \n",
    "#     (['T1997'], 'From Oracle, Fully Observed'),\n",
    "        (['T1998'], 'From PA, Fully Observed'),\n",
    "#         (['T1999'], 'From Oracle, Fully Observed, No Mem'),\n",
    "        (['T2000'], 'From PA, Fully Observed, No Mem'),\n",
    "    ]\n",
    "\n",
    "plot_curriculum(data_names, 'samples', \n",
    "                y=[\n",
    "                   'Rollout/PreActionAdviceMultipleRepeatedIndexAvgAccuracy',\n",
    "                  ], \n",
    "                smooth=100, error_bars=True, \n",
    "                title=\"Rollout Acc: Which method is best?\",\n",
    "               y_lower=.9, y_upper=1)\n",
    "\n",
    "\n",
    "data_names = [\n",
    "        (['T1975'], 'From PA, Partially Observed'),\n",
    "        (['T1987'], 'From PA, Fully Observed'),\n",
    "        (['T1993'], 'From PA, Fully Observed, No Mem'),\n",
    "        (['T1976'], 'PA, Partially Observed'),\n",
    "        (['T1973'], 'PAIO3, Partially Observed'),\n",
    "        (['T1985'], 'PAIO3, Fully Observed'),\n",
    "        (['T1991'], 'PAIO3, Fully Observed, no Mem'),\n",
    "    \n",
    "        (['T1998'], 'From PA, Fully Observed'),\n",
    "        (['T2000'], 'From PA, Fully Observed, No Mem'),\n",
    "    ]\n",
    "\n",
    "plot_curriculum(data_names, 'samples', \n",
    "                y=[\n",
    "                   'Rollout/PreActionAdviceAvgAccuracy',\n",
    "                  ], \n",
    "                smooth=100, error_bars=True, \n",
    "                title=\"PA rollout Acc?\",\n",
    "               y_lower=.98, y_upper=1)"
   ]
  },
  {
   "cell_type": "markdown",
   "metadata": {
    "heading_collapsed": true
   },
   "source": [
    "# Can we swap on a single level?"
   ]
  },
  {
   "cell_type": "code",
   "execution_count": null,
   "metadata": {
    "code_folding": [],
    "hidden": true,
    "scrolled": false
   },
   "outputs": [],
   "source": [
    "data_names = [\n",
    "        (['T2001'], 'ESHET, Mem'),\n",
    "        (['T2009'], 'ESHET, Mem, Big LR'),\n",
    "        (['T2005'], 'PA -> None, Mem'),\n",
    "        (['T2002'], 'ESHET, No Mem'),\n",
    "        (['T2006'], 'PA -> None, No Mem'),\n",
    "#         (['T2010'], 'PA -> None, No Mem, Big LR'),\n",
    "\n",
    "    ]\n",
    "\n",
    "# Keep these runs going!\n",
    "\n",
    "plot_curriculum(data_names, 'samples', \n",
    "                y=['Distill/Label_A_Train'], \n",
    "                smooth=50, error_bars=True, \n",
    "                title=\"Label Accuracy\",\n",
    "               y_lower=.9, y_upper=1)\n",
    "\n",
    "plot_curriculum(data_names, 'samples', \n",
    "                y=['Rollout/PreActionAdviceMultipleRepeatedIndexAvgAccuracy'], \n",
    "                smooth=50, error_bars=True, \n",
    "                title=\"Rollout Acc: Can we distill to PAIO3 on PutNext?\",\n",
    "               y_lower=.9, y_upper=1)\n",
    "\n",
    "plot_curriculum(data_names, 'samples', \n",
    "                y=['Distill/PreActionAdviceMultipleRepeatedIndexAccuracy_Val'], \n",
    "                smooth=50, error_bars=True, \n",
    "                title=\"Distillation Acc: Can we distill to PAIO3 on PutNext?\",\n",
    "               y_lower=.9, y_upper=1)\n",
    "\n",
    "\n",
    "\n",
    "plot_curriculum(data_names, 'samples', \n",
    "                y=['Rollout/PreActionAdviceAvgAccuracy'], \n",
    "                smooth=50, error_bars=True, \n",
    "                title=\"PA Rollout Acc\",\n",
    "               y_lower=.9, y_upper=1)\n",
    "\n",
    "plot_curriculum(data_names, 'samples', \n",
    "                y=['Train/Argmax_Accuracy', 'Train/Accuracy'], \n",
    "                smooth=50, error_bars=True, \n",
    "                title=\"Train Acc\",\n",
    "               y_lower=.5, y_upper=1)\n",
    "\n",
    "plot_curriculum(data_names, 'samples', \n",
    "                y=['Rollout/AvgSuccess'], \n",
    "                smooth=50, error_bars=True, \n",
    "                title=\"Rollout w/o Teachers\",\n",
    "               y_lower=0, y_upper=1)\n",
    "\n",
    "plot_curriculum(data_names, 'feedback', \n",
    "                y=['Rollout/AvgSuccess'], \n",
    "                smooth=50, error_bars=True, \n",
    "                title=\"Rollout w/o Teachers - Feedback\",\n",
    "               y_lower=0, y_upper=1)\n",
    "\n",
    "plot_curriculum(data_names, 'samples', \n",
    "                y=['Advance'], \n",
    "                smooth=1, error_bars=True, \n",
    "                title=\"Advancement\",\n",
    "               y_lower=0, y_upper=1)\n",
    "\n",
    "plot_curriculum(data_names, 'samples', \n",
    "                y=['Feedback/gave_PreActionAdvice'], \n",
    "                smooth=50, error_bars=True, \n",
    "                title=\"Are we actually swapping?\",\n",
    "               y_lower=0, y_upper=900)\n",
    "\n",
    "plot_curriculum(data_names, 'feedback', y=['Rollout/last_success'], smooth=50, error_bars=True, \n",
    "                title=\"Is the success threshold high enough?\",\n",
    "               y_lower=.99, y_upper=1.001)\n",
    "plot_curriculum(data_names, 'feedback', y=['Rollout/last_accuracy'], smooth=50, error_bars=True, \n",
    "                title=\"Is the accuracy threshold high enough?\",\n",
    "               y_lower=.95, y_upper=1.001)"
   ]
  },
  {
   "cell_type": "markdown",
   "metadata": {
    "heading_collapsed": true
   },
   "source": [
    "# Should we use partial or full observability?\n",
    "## Current takeaway: Partial is slower, but they converge to similar places. Also, PA3 isn't providing much benefit b/c None is doing (relatively) well compared to PA3."
   ]
  },
  {
   "cell_type": "code",
   "execution_count": null,
   "metadata": {
    "hidden": true,
    "scrolled": false
   },
   "outputs": [],
   "source": [
    "data_names = [\n",
    "        (['T2026'], 'ESHET, Partial Mem'),\n",
    "        (['T2024'], 'PA -> None, Partial Mem'),\n",
    "#         (['T2034'], 'None RL, Partial Mem'),\n",
    "#         (['T2031'], 'ESHET, Full No Mem'),\n",
    "#         (['T2030'], 'PA -> None, Full No Mem'),\n",
    "    \n",
    "#         (['T2035'], 'None RL, Full No Mem'),\n",
    "    \n",
    "    ]\n",
    "\n",
    "# Keep these runs going!\n",
    "\n",
    "plot_curriculum(data_names, 'samples', \n",
    "                y=['Distill/Label_A_Train'], \n",
    "                smooth=50, error_bars=True, \n",
    "                title=\"Label Accuracy\",\n",
    "               y_lower=.9, y_upper=1)\n",
    "\n",
    "plot_curriculum(data_names, 'samples', \n",
    "                y=['Rollout/PreActionAdviceMultipleRepeatedIndexAvgAccuracy'], \n",
    "                smooth=50, error_bars=True, \n",
    "                title=\"Rollout Acc: Can we distill to PAIO3 on PutNext?\",\n",
    "               y_lower=.9, y_upper=1)\n",
    "\n",
    "plot_curriculum(data_names, 'samples', \n",
    "                y=['Distill/PreActionAdviceMultipleRepeatedIndexAccuracy_Val'], \n",
    "                smooth=50, error_bars=True, \n",
    "                title=\"Distillation Acc: Can we distill to PAIO3 on PutNext?\",\n",
    "               y_lower=.9, y_upper=1)\n",
    "\n",
    "\n",
    "\n",
    "plot_curriculum(data_names, 'samples', \n",
    "                y=['Rollout/PreActionAdviceAvgAccuracy'], \n",
    "                smooth=50, error_bars=True, \n",
    "                title=\"PA Rollout Acc\",\n",
    "               y_lower=.9, y_upper=1)\n",
    "\n",
    "plot_curriculum(data_names, 'samples', \n",
    "                y=['Train/Argmax_Accuracy', 'Train/Accuracy'], \n",
    "                smooth=50, error_bars=True, \n",
    "                title=\"Train Acc\",\n",
    "               y_lower=.5, y_upper=1)\n",
    "\n",
    "plot_curriculum(data_names, 'samples', \n",
    "                y=['Rollout/AvgSuccess'], \n",
    "                smooth=50, error_bars=True, \n",
    "                title=\"Rollout w/o Teachers\",\n",
    "               y_lower=0, y_upper=1)\n",
    "\n",
    "plot_curriculum(data_names, 'feedback', \n",
    "                y=['Rollout/AvgSuccess'], \n",
    "                smooth=50, error_bars=True, \n",
    "                title=\"Rollout w/o Teachers - Feedback\",\n",
    "               y_lower=0, y_upper=1)\n",
    "\n",
    "plot_curriculum(data_names, 'samples', \n",
    "                y=['Advance'], \n",
    "                smooth=1, error_bars=True, \n",
    "                title=\"Advancement\",\n",
    "               y_lower=0, y_upper=1)\n",
    "\n",
    "plot_curriculum(data_names, 'samples', \n",
    "                y=['Feedback/gave_PreActionAdvice'], \n",
    "                smooth=50, error_bars=True, \n",
    "                title=\"Are we actually swapping?\",\n",
    "               y_lower=0, y_upper=900)\n",
    "\n",
    "plot_curriculum(data_names, 'feedback', y=['Rollout/last_success'], smooth=50, error_bars=True, \n",
    "                title=\"Is the success threshold high enough?\",\n",
    "               y_lower=.99, y_upper=1.001)\n",
    "plot_curriculum(data_names, 'feedback', y=['Rollout/last_accuracy'], smooth=50, error_bars=True, \n",
    "                title=\"Is the accuracy threshold high enough?\",\n",
    "               y_lower=.95, y_upper=1.001)"
   ]
  },
  {
   "cell_type": "markdown",
   "metadata": {
    "heading_collapsed": true
   },
   "source": [
    "# Can we drop rew? [Yes. Signficantly hurts sample efficiency, but generally more feedback efficient.]"
   ]
  },
  {
   "cell_type": "code",
   "execution_count": null,
   "metadata": {
    "hidden": true,
    "scrolled": false
   },
   "outputs": [],
   "source": [
    "data_names = [\n",
    "    # PARTIAL\n",
    "        (['T2026'], 'ESHET, Partial Mem'),\n",
    "        (['T2024'], 'PA -> None, Partial Mem'),\n",
    "    \n",
    "        (['T2038'], 'ESHET, Partial Mem RewDrop'),\n",
    "        (['T2037'], 'PA -> None, Partial Mem RewDrop'),\n",
    "    \n",
    "    \n",
    "        (['T2046'], 'ESHET, Partial Mem RewDrop, NEW'),\n",
    "        (['T2045'], 'PA -> None, Partial Mem RewDrop, NEW'),\n",
    "    \n",
    "#         (['T2034'], 'None RL, Partial Mem'),\n",
    "    \n",
    "    # FULL\n",
    "#         (['T2031'], 'ESHET, Full No Mem'),\n",
    "#         (['T2030'], 'PA -> None, Full No Mem'),\n",
    "    \n",
    "#         (['T2040'], 'ESHET, Full No Mem RewDrop'),\n",
    "#         (['T2039'], 'PA -> None, Full No Mem RewDrop'),\n",
    "    \n",
    "#         (['T2035'], 'None RL, Full No Mem'),\n",
    "    ]\n",
    "\n",
    "# Keep these runs going!\n",
    "\n",
    "plot_curriculum(data_names, 'feedback', \n",
    "                y=['Distill/Label_A_Train'], \n",
    "                smooth=50, error_bars=True, \n",
    "                title=\"Label Accuracy\",\n",
    "               y_lower=.9, y_upper=1)\n",
    "\n",
    "plot_curriculum(data_names, 'feedback', \n",
    "                y=['Rollout/PreActionAdviceMultipleRepeatedIndexAvgAccuracy'], \n",
    "                smooth=50, error_bars=True, \n",
    "                title=\"Rollout Acc: Can we distill to PAIO3 on PutNext?\",\n",
    "               y_lower=.9, y_upper=1)\n",
    "\n",
    "plot_curriculum(data_names, 'feedback', \n",
    "                y=['Distill/PreActionAdviceMultipleRepeatedIndexAccuracy_Val'], \n",
    "                smooth=50, error_bars=True, \n",
    "                title=\"Distillation Acc: Can we distill to PAIO3 on PutNext?\",\n",
    "               y_lower=.9, y_upper=1)\n",
    "\n",
    "\n",
    "\n",
    "plot_curriculum(data_names, 'feedback', \n",
    "                y=['Rollout/PreActionAdviceAvgAccuracy'], \n",
    "                smooth=50, error_bars=True, \n",
    "                title=\"PA Rollout Acc\",\n",
    "               y_lower=.9, y_upper=1)\n",
    "\n",
    "plot_curriculum(data_names, 'feedback', \n",
    "                y=['Train/Argmax_Accuracy',], \n",
    "                smooth=50, error_bars=True, \n",
    "                title=\"Train Acc\",\n",
    "               y_lower=.5, y_upper=1)\n",
    "plot_curriculum(data_names, 'samples', \n",
    "                y=['Rollout/AvgSuccess'], \n",
    "                smooth=50, error_bars=True, \n",
    "                title=\"Rollout w/o Teachers\",\n",
    "               y_lower=0, y_upper=1)\n",
    "plt.xlim(0, 1000000)\n",
    "plot_curriculum(data_names, 'feedback', \n",
    "                y=['Rollout/AvgSuccess'], \n",
    "                smooth=50, error_bars=True, \n",
    "                title=\"Rollout w/o Teachers - Feedback\",\n",
    "               y_lower=0, y_upper=1)\n",
    "\n",
    "plot_curriculum(data_names, 'samples', y=['Train/SkipTrainRL'], smooth=50, error_bars=True, \n",
    "                title=\"How often do we drop reward?\",\n",
    "               y_lower=0, y_upper=1)\n",
    "\n",
    "plot_curriculum(data_names, 'feedback', \n",
    "                y=['Advance'], \n",
    "                smooth=1, error_bars=True, \n",
    "                title=\"Advancement\",\n",
    "               y_lower=0, y_upper=1)\n",
    "\n",
    "plot_curriculum(data_names, 'feedback', \n",
    "                y=['Feedback/gave_PreActionAdvice'], \n",
    "                smooth=50, error_bars=True, \n",
    "                title=\"Are we actually swapping?\",\n",
    "               y_lower=0, y_upper=900)\n",
    "\n",
    "plot_curriculum(data_names, 'feedback', y=['Rollout/last_success'], smooth=50, error_bars=True, \n",
    "                title=\"Is the success threshold high enough?\",\n",
    "               y_lower=.99, y_upper=1.001)\n",
    "plot_curriculum(data_names, 'feedback', y=['Rollout/last_accuracy'], smooth=50, error_bars=True, \n",
    "                title=\"Is the accuracy threshold high enough?\",\n",
    "               y_lower=.95, y_upper=1.001)"
   ]
  },
  {
   "cell_type": "markdown",
   "metadata": {
    "heading_collapsed": true
   },
   "source": [
    "# Why does PAIO3 take so long to learn compared to PA?"
   ]
  },
  {
   "cell_type": "code",
   "execution_count": null,
   "metadata": {
    "hidden": true,
    "scrolled": false
   },
   "outputs": [],
   "source": [
    "data_names = [\n",
    "        (['T1993'], 'PAIO3'),\n",
    "        (['T2011'], 'PABad1'),\n",
    "        (['T2012'], 'PACopy3'),\n",
    "        (['T2013'], 'PA_again'),\n",
    "    ]\n",
    "metrics = [\n",
    "    'Rollout/PreActionAdviceMultipleRepeatedIndexAvgAccuracy', \n",
    "                  'Rollout/PreActionAdviceBad1AvgAccuracy', \n",
    "                  'Rollout/PreActionAdviceMultipleCopyAvgAccuracy',\n",
    "                  'Rollout/PreActionAdvice2AvgAccuracy',\n",
    "#                   'Rollout/PreActionAdviceAvgAccuracy'\n",
    "]\n",
    "\n",
    "plot_curriculum(data_names, 'samples', y=metrics, \n",
    "                smooth=50, error_bars=True, \n",
    "                title=\"Rollout Acc: Can we distill to PAIO3 on PutNext?\",\n",
    "               y_lower=.9, y_upper=1)\n",
    "\n",
    "metrics = [\n",
    "    'Distill/PreActionAdviceMultipleRepeatedIndexAccuracy_Val', \n",
    "    'Distill/PreActionAdviceBad1Accuracy_Val',\n",
    "    'Distill/PreActionAdviceMultipleCopyAccuracy_Val',\n",
    "    'Distill/PreActionAdvice2Accuracy_Val',\n",
    "]\n",
    "\n",
    "plot_curriculum(data_names, 'samples', y=metrics, \n",
    "                smooth=50, error_bars=True, \n",
    "                title=\"Distillation Acc: Can we distill to PAIO3 on PutNext?\",\n",
    "               y_lower=.9, y_upper=1)\n",
    "\n",
    "plot_curriculum(data_names, 'samples', \n",
    "                y=['Train/Argmax_Accuracy',], \n",
    "                smooth=50, error_bars=True, \n",
    "                title=\"Train Acc\",\n",
    "               y_lower=.9, y_upper=1)\n"
   ]
  },
  {
   "cell_type": "markdown",
   "metadata": {
    "heading_collapsed": true
   },
   "source": [
    "# Can we learn MixedCurriculum?"
   ]
  },
  {
   "cell_type": "code",
   "execution_count": null,
   "metadata": {
    "hidden": true,
    "scrolled": true
   },
   "outputs": [],
   "source": [
    "\n",
    "plt.rcParams['figure.figsize'] = [10, 5]\n",
    "data_names = [\n",
    "    # Full curriculum\n",
    "#         (['T2032'], 'PA -> None RewDrop'),\n",
    "#         (['T2033'], 'PA, PA3 -> None RewDrop'),\n",
    "#         (['T2036'], 'None RL'),\n",
    "    # Four levels\n",
    "#         (['T2047'], 'PA only'),\n",
    "        (['T2048'], 'PA, swap to PA3'),\n",
    "#         (['T2052'], 'PA, swap to CC3'),\n",
    "#         (['T2053'], 'PA, swap to OFF3'),\n",
    "#         (['T2110', 'T2111', 'T2112'], 'PA, swap to low-threshold OFF3'),\n",
    "#         (['T2144'], 'PA, swap to OFF3'), # 'PA, swap to low-threshold OFF3'\n",
    "#         (['T2119', 'T2120', 'T2121'], 'PA, swap to CCIO3'),\n",
    "#         (['T2148'], 'PA, swap to OFFSparse'),\n",
    "#         (['T2149'], 'PA, swap to OFFSparseRandom'),\n",
    "    \n",
    "    \n",
    "#         (['T2153'], 'PA, swap to PA5'),\n",
    "#         (['T2152'], 'PA, swap to OFF5'),\n",
    "    \n",
    "#         (['T2154_PA_to_OFFIO3_2', 'T2154_PA_to_OFFIO3_3'], 'PA, swap to OFF3 best hparams'), # 'PA, swap to OFF3, D=25'\n",
    "#         (['T2155'], 'PA, swap to PA3, best hparams'), # 'PA, swap to OFF3, D=50'\n",
    "    \n",
    "#         (['T2164'], 'PA, swap to OFF3 BCS 25'), # 'PA, swap to OFF3, D=25'\n",
    "#         (['T2165'], 'PA, swap to OFF3, BCS 50'), # 'PA, swap to OFF3, D=50'\n",
    "    \n",
    "#         (['T2166'], 'PA, swap to OFF3 BCS 25 200itrs'),\n",
    "#         (['T2167'], 'PA, swap to OFF3, BCS 50 200itrs'),\n",
    "    \n",
    "#         (['T2168'], 'PA, swap to OFF3 BCS 25 200swap'),\n",
    "#         (['T2169'], 'PA, swap to OFF3, BCS 50 200swap'),\n",
    "    \n",
    "    \n",
    "        (['T2172_PA_to_OFFIO3_1', 'T2172_PA_to_OFFIO3_3'], 'PA, swap to OFF3, .99 thresh'),\n",
    "        (['T2173_PA_to_OFFIO3_2', 'T2173_PA_to_OFFIO3_3'], 'PA, swap to OFF3, .98 thresh'),\n",
    "    \n",
    "        ([ 'T2174_PA_to_PA3_2', 'T2174_PA_to_PA3_3'], 'PA, swap to PA3, .99 thresh'),\n",
    "        (['T2175_PA_to_PA3_1','T2175_PA_to_PA3_2', 'T2175_PA_to_PA3_3'], 'PA, swap to PA3, .98 thresh'),\n",
    "    \n",
    "    \n",
    "    ]\n",
    "\n",
    "x_axis = 'samples'\n",
    "plt.xlim(0, 2000)\n",
    "plot_curriculum(data_names, x_axis, \n",
    "                y=['Distill/Label_A_Train'], \n",
    "                smooth=50, error_bars=True, \n",
    "                title=\"Label Accuracy\",\n",
    "               y_lower=.9, y_upper=1)\n",
    "\n",
    "metrics = [\n",
    "#     'Rollout/PreActionAdviceAvgAccuracy',\n",
    "    'Rollout/PreActionAdviceMultipleRepeatedIndexAvgAccuracy',\n",
    "     'Rollout/OFFIOAvgAccuracy',\n",
    "#     'Rollout/CCIOAvgAccuracy',\n",
    "#     'Rollout/CartesianCorrectionsAvgAccuracy',\n",
    "#     'Rollout/OffsetCorrectionsAvgAccuracy',\n",
    "   \n",
    "#     'Rollout/OFFSparseAvgAccuracy',\n",
    "#     'Rollout/OFFSparseRandomAvgAccuracy',\n",
    "]\n",
    "plt.xlim(0, 2000)\n",
    "plot_curriculum(data_names, x_axis, \n",
    "                y=metrics, \n",
    "                smooth=50, error_bars=True, \n",
    "                title=\"Rollout Accuracy with the Abstract Teacher\",\n",
    "               y_lower=.7, y_upper=1, y_label=\"Rollout Accuracy\")\n",
    "\n",
    "\n",
    "\n",
    "metrics = [\n",
    "#     'Rollout/PreActionAdviceAvgAccuracy',\n",
    "    'Rollout/PreActionAdviceMultipleRepeatedIndexAvgSuccess',\n",
    "     'Rollout/OFFIOAvgSuccess',\n",
    "]\n",
    "plt.xlim(0, 2000)\n",
    "plot_curriculum(data_names, x_axis, \n",
    "                y=metrics, \n",
    "                smooth=50, error_bars=True, \n",
    "                title=\"Rollout Success with the Abstract Teacher\",\n",
    "               y_lower=.7, y_upper=1, y_label=\"Rollout Success\")\n",
    "\n",
    "\n",
    "\n",
    "\n",
    "metrics = [\n",
    "    'VidRollout/PreActionAdviceMultipleRepeatedIndex_StochStoch_Acc',\n",
    "    'VidRollout/OFFIO_StochStoch_Acc',\n",
    "#     'VidRollout/OFFSparse_StochStoch_Acc',\n",
    "#     'VidRollout/OFFSparseRandom_StochStoch_Acc',\n",
    "]\n",
    "plt.xlim(0, 2000)\n",
    "plot_curriculum(data_names, x_axis, \n",
    "                y=metrics, \n",
    "                smooth=50, error_bars=True, \n",
    "                title=\"Stoch VidRollout Accuracy with the Abstract Teacher\",\n",
    "               y_lower=.7, y_upper=1, y_label=\"Rollout Accuracy\")\n",
    "\n",
    "metrics = [\n",
    "#     'Rollout/PreActionAdviceAvgAccuracy',\n",
    "    'VidRollout/PreActionAdviceMultipleRepeatedIndex_StochDet_Acc',\n",
    "#     'Rollout/CCIOAvgAccuracy',\n",
    "#     'Rollout/CartesianCorrectionsAvgAccuracy',\n",
    "#     'Rollout/OffsetCorrectionsAvgAccuracy',\n",
    "    'VidRollout/OFFIO_StochDet_Acc',\n",
    "#     'VidRollout/OFFSparse_StochDet_Acc',\n",
    "#     'VidRollout/OFFSparseRandom_StochDet_Acc',\n",
    "]\n",
    "plt.xlim(0, 2000)\n",
    "plot_curriculum(data_names, x_axis, \n",
    "                y=metrics, \n",
    "                smooth=50, error_bars=True, \n",
    "                title=\"Det (Per-timestep) VidRollout Accuracy with the Abstract Teacher\",\n",
    "               y_lower=.7, y_upper=1, y_label=\"Rollout Accuracy\")\n",
    "\n",
    "\n",
    "metrics = [\n",
    "    'Distill/PreActionAdviceMultipleRepeatedIndexAccuracy_Val',\n",
    "#     'Distill/CCIOAccuracy_Val',\n",
    "#     'Distill/CartesianCorrectionsAccuracy_Val',\n",
    "#     'Distill/OffsetCorrectionsAccuracy_Val',\n",
    "    'Distill/OFFIOAccuracy_Val',\n",
    "#     'Distill/OFFSparseAccuracy_Val',\n",
    "#     'Distill/OFFSparseRandomAccuracy_Val',\n",
    "]\n",
    "plt.xlim(0, 2000)\n",
    "plot_curriculum(data_names, x_axis, \n",
    "                y=metrics, \n",
    "                smooth=50, error_bars=True, \n",
    "                title=\"Distillation Acc: Can we distill to abstract teacher?\",\n",
    "               y_lower=.5, y_upper=1)\n",
    "\n",
    "\n",
    "plt.xlim(0, 2000)\n",
    "plot_curriculum(data_names, x_axis, \n",
    "                y=['Rollout/PreActionAdviceAvgAccuracy'], \n",
    "                smooth=50, error_bars=True, \n",
    "                title=\"PA Rollout Acc\",\n",
    "               y_lower=.9, y_upper=1)\n",
    "plt.xlim(0, 2000)\n",
    "plot_curriculum(data_names, x_axis, \n",
    "                y=['Train/Argmax_Accuracy',], \n",
    "                smooth=50, error_bars=True, \n",
    "                title=\"Train Acc\",\n",
    "               y_lower=.9, y_upper=1)\n",
    "plt.xlim(0, 2000)\n",
    "plot_curriculum(data_names, 'samples', \n",
    "                y=['Rollout/AvgSuccess'], \n",
    "                smooth=50, error_bars=True, \n",
    "                title=\"Rollout w/o Teachers - Samples\",\n",
    "               y_lower=0, y_upper=1)\n",
    "plt.xlim(0, 2000000)\n",
    "plot_curriculum(data_names, 'feedback', \n",
    "                y=['Rollout/AvgSuccess'], \n",
    "                smooth=50, error_bars=True, \n",
    "                title=\"Rollout w/o Teachers - Feedback\",\n",
    "               y_lower=0, y_upper=1)\n",
    "plt.xlim(0, 2000)\n",
    "plot_curriculum(data_names, x_axis, \n",
    "                y=['Advance'], \n",
    "                smooth=1, error_bars=True, \n",
    "                title=\"Advancement\",\n",
    "               y_lower=0, y_upper=1)\n",
    "plt.xlim(0, 2000)\n",
    "plot_curriculum(data_names, x_axis, \n",
    "                y=['Feedback/gave_PreActionAdvice'], \n",
    "                smooth=50, error_bars=True, \n",
    "                title=\"Amount of low-level teacher (PA) given\",\n",
    "               y_lower=0, y_upper=1.01, y_transform=lambda x: x / 800, y_label='PA Present')\n",
    "plt.xlim(0, 2000)\n",
    "plot_curriculum(data_names, 'samples', y=['Train/SkipTrainRL'], \n",
    "                smooth=50, error_bars=True, \n",
    "                title=\"How often do we need reward?\",\n",
    "               y_lower=0, y_upper=1, y_label=\"Trained on Itr\", y_transform=lambda x: 1 - x)\n",
    "plt.xlim(0, 2000)\n",
    "plot_curriculum(data_names, x_axis, y=['Rollout/last_success'], smooth=50, error_bars=True, \n",
    "                title=\"Is the success threshold high enough?\",\n",
    "               y_lower=0, y_upper=1.001)\n",
    "plt.xlim(0, 2000)\n",
    "plot_curriculum(data_names, x_axis, y=['Rollout/last_accuracy'], smooth=50, error_bars=True, \n",
    "                title=\"Is the accuracy threshold high enough?\",\n",
    "               y_lower=.75, y_upper=1.001)"
   ]
  },
  {
   "cell_type": "markdown",
   "metadata": {
    "heading_collapsed": true
   },
   "source": [
    "# Level Difficulty"
   ]
  },
  {
   "cell_type": "code",
   "execution_count": null,
   "metadata": {
    "hidden": true,
    "scrolled": false
   },
   "outputs": [],
   "source": [
    "\n",
    "plt.rcParams['figure.figsize'] = [10, 5]\n",
    "data_names = [\n",
    "        (['T2179'], 'PA'),\n",
    "        (['T2180_PA_to_OFFIO3_1'], 'PA swap OFF3'),\n",
    "    ]\n",
    "\n",
    "x_axis = 'samples'\n",
    "plot_curriculum(data_names, x_axis, \n",
    "                y=['Distill/Label_A_Train'], \n",
    "                smooth=50, error_bars=True, \n",
    "                title=\"Label Accuracy\",\n",
    "               y_lower=.9, y_upper=1.01)\n",
    "\n",
    "metrics = [\n",
    "#     'Rollout/PreActionAdviceAvgAccuracy',\n",
    "    'Rollout/PreActionAdviceMultipleRepeatedIndexAvgAccuracy',\n",
    "     'Rollout/OFFIOAvgAccuracy',\n",
    "#     'Rollout/CCIOAvgAccuracy',\n",
    "#     'Rollout/CartesianCorrectionsAvgAccuracy',\n",
    "#     'Rollout/OffsetCorrectionsAvgAccuracy',\n",
    "   \n",
    "#     'Rollout/OFFSparseAvgAccuracy',\n",
    "#     'Rollout/OFFSparseRandomAvgAccuracy',\n",
    "]\n",
    "plot_curriculum(data_names, x_axis, \n",
    "                y=metrics, \n",
    "                smooth=50, error_bars=True, \n",
    "                title=\"Rollout Accuracy with the Abstract Teacher\",\n",
    "               y_lower=.7, y_upper=1, y_label=\"Rollout Accuracy\")\n",
    "\n",
    "\n",
    "\n",
    "metrics = [\n",
    "#     'Rollout/PreActionAdviceAvgAccuracy',\n",
    "    'Rollout/PreActionAdviceMultipleRepeatedIndexAvgSuccess',\n",
    "     'Rollout/OFFIOAvgSuccess',\n",
    "]\n",
    "plot_curriculum(data_names, x_axis, \n",
    "                y=metrics, \n",
    "                smooth=1, error_bars=True, \n",
    "                title=\"Rollout Success with the Abstract Teacher\",\n",
    "               y_lower=.7, y_upper=1.01, y_label=\"Rollout Success\")\n",
    "\n",
    "metrics = [\n",
    "    'Distill/PreActionAdviceMultipleRepeatedIndexAccuracy_Val',\n",
    "#     'Distill/CCIOAccuracy_Val',\n",
    "#     'Distill/CartesianCorrectionsAccuracy_Val',\n",
    "#     'Distill/OffsetCorrectionsAccuracy_Val',\n",
    "    'Distill/OFFIOAccuracy_Val',\n",
    "#     'Distill/OFFSparseAccuracy_Val',\n",
    "#     'Distill/OFFSparseRandomAccuracy_Val',\n",
    "]\n",
    "plot_curriculum(data_names, x_axis, \n",
    "                y=metrics, \n",
    "                smooth=50, error_bars=True, \n",
    "                title=\"Distillation Acc: Can we distill to abstract teacher?\",\n",
    "               y_lower=.5, y_upper=1)\n",
    "\n",
    "plot_curriculum(data_names, x_axis, \n",
    "                y=['Rollout/PreActionAdviceAvgAccuracy'], \n",
    "                smooth=50, error_bars=True, \n",
    "                title=\"PA Rollout Acc\",\n",
    "               y_lower=.9, y_upper=1)\n",
    "plot_curriculum(data_names, x_axis, \n",
    "                y=['Train/Argmax_Accuracy',], \n",
    "                smooth=50, error_bars=True, \n",
    "                title=\"Train Acc\",\n",
    "               y_lower=.9, y_upper=1)\n",
    "plot_curriculum(data_names, 'samples', \n",
    "                y=['Rollout/AvgSuccess'], \n",
    "                smooth=50, error_bars=True, \n",
    "                title=\"Rollout w/o Teachers - Samples\",\n",
    "               y_lower=0, y_upper=1)\n",
    "plot_curriculum(data_names, 'feedback', \n",
    "                y=['Rollout/AvgSuccess'], \n",
    "                smooth=50, error_bars=True, \n",
    "                title=\"Rollout w/o Teachers - Feedback\",\n",
    "               y_lower=0, y_upper=1)\n",
    "plot_curriculum(data_names, x_axis, \n",
    "                y=['Advance'], \n",
    "                smooth=1, error_bars=True, \n",
    "                title=\"Advancement\",\n",
    "               y_lower=0, y_upper=1)\n",
    "plot_curriculum(data_names, x_axis, \n",
    "                y=['Feedback/gave_PreActionAdvice'], \n",
    "                smooth=50, error_bars=True, \n",
    "                title=\"Amount of low-level teacher (PA) given\",\n",
    "               y_lower=0, y_upper=1.01, y_transform=lambda x: x / 800, y_label='PA Present')\n",
    "plot_curriculum(data_names, 'samples', y=['Train/SkipTrainRL'], \n",
    "                smooth=50, error_bars=True, \n",
    "                title=\"How often do we need reward?\",\n",
    "               y_lower=0, y_upper=1, y_label=\"Trained on Itr\", y_transform=lambda x: 1 - x)\n",
    "plot_curriculum(data_names, x_axis, y=['Rollout/last_success'], smooth=1, error_bars=True, \n",
    "                title=\"Is the success threshold high enough?\",\n",
    "               y_lower=0, y_upper=1.001)\n",
    "plot_curriculum(data_names, x_axis, y=['Rollout/last_accuracy'], smooth=50, error_bars=True, \n",
    "                title=\"Is the accuracy threshold high enough?\",\n",
    "               y_lower=.75, y_upper=1.001)"
   ]
  },
  {
   "cell_type": "markdown",
   "metadata": {
    "heading_collapsed": true
   },
   "source": [
    "# Do PA learn more slowly when there's a second teacher to learn? [yes, a bit]"
   ]
  },
  {
   "cell_type": "code",
   "execution_count": null,
   "metadata": {
    "hidden": true
   },
   "outputs": [],
   "source": [
    "data_names = [\n",
    "        (['T2026'], 'ESHET, Partial Mem'),\n",
    "        (['T2024'], 'PA -> None, Partial Mem'),\n",
    "#         (['T2031'], 'ESHET, Full No Mem'),\n",
    "#         (['T2030'], 'PA -> None, Full No Mem'),\n",
    "    ]\n",
    "\n",
    "plot_curriculum(data_names, x_axis, \n",
    "                y=['Rollout/PreActionAdviceAvgAccuracy'], \n",
    "                smooth=5, error_bars=True, \n",
    "                title=\"PA Rollout Acc\",\n",
    "               y_lower=.5, y_upper=1)\n",
    "\n",
    "\n",
    "plot_curriculum(data_names, x_axis, \n",
    "                y=['Train/Argmax_Accuracy'], \n",
    "                smooth=5, error_bars=True, \n",
    "                title=\"Train/Argmax_Acc\",\n",
    "               y_lower=.5, y_upper=1)\n",
    "\n",
    "plot_curriculum(data_names, x_axis, \n",
    "                y=['Feedback/gave_PreActionAdvice'], \n",
    "                smooth=5, error_bars=True, \n",
    "                title=\"Gave PA\",\n",
    "               y_lower=0, y_upper=900)\n",
    "\n"
   ]
  },
  {
   "cell_type": "markdown",
   "metadata": {
    "heading_collapsed": true
   },
   "source": [
    "# Leaderboard"
   ]
  },
  {
   "cell_type": "code",
   "execution_count": null,
   "metadata": {
    "code_folding": [
     6,
     11
    ],
    "hidden": true,
    "scrolled": true
   },
   "outputs": [],
   "source": [
    "data_names = [\n",
    "#         (['T2040'], 'ESHET, Full No Mem RewDrop'),\n",
    "#         (['T2039'], 'PA -> None, Full No Mem RewDrop'),\n",
    "    (['T2045'], 'PA only'), # Pa -> None\n",
    "        (['T2046'], 'PA, swap to PA3'), # ESHET, Partial Mem RewDrop, NEW\n",
    "        \n",
    "    \n",
    "#         (['T2044'], 'ESHET PA, PA3 -> None, *2 Rew'),\n",
    "#         (['T2043'], 'PA -> None, *2 Rew'),\n",
    "    ]\n",
    "plot_curriculum(data_names, 'samples', \n",
    "                y=['Rollout/AvgSuccess'], \n",
    "                smooth=50, error_bars=True, \n",
    "                title=\"Rollout w/o Teachers\",\n",
    "               y_lower=0, y_upper=1)\n",
    "plot_curriculum(data_names, 'feedback', \n",
    "                y=['Rollout/AvgSuccess'], \n",
    "                smooth=50, error_bars=True, \n",
    "                title=\"Rollout w/o Teachers - Feedback\",\n",
    "               y_lower=0, y_upper=1)\n",
    "\n",
    "\n",
    "plot_curriculum(data_names, 'feedback', \n",
    "                y=['Rollout/PreActionAdviceMultipleRepeatedIndexAvgAccuracy'], \n",
    "                smooth=50, error_bars=True, \n",
    "                title=\"Rollout w abstract teacher\",\n",
    "               y_lower=.9, y_upper=1)\n",
    "\n",
    "\n",
    "plot_curriculum(data_names, 'feedback', \n",
    "                y=['Feedback/gave_PreActionAdvice'], \n",
    "                smooth=50, error_bars=True, \n",
    "                title=\"Gave PA\",\n",
    "               y_lower=0, y_upper=810)"
   ]
  },
  {
   "cell_type": "markdown",
   "metadata": {
    "heading_collapsed": true
   },
   "source": [
    "# How well does pure RL work? [not well at all]"
   ]
  },
  {
   "cell_type": "code",
   "execution_count": null,
   "metadata": {
    "hidden": true,
    "scrolled": true
   },
   "outputs": [],
   "source": [
    "data_names = [\n",
    "        (['T2034'], 'None RL, Partial Mem'),\n",
    "        (['T2035'], 'None RL, Full No Mem'),\n",
    "        (['T2036'], 'MixedCurriculum'),\n",
    "    ]\n",
    "\n",
    "plot_curriculum(data_names, 'samples', \n",
    "                y=['Rollout/AvgSuccess'], \n",
    "                smooth=50, error_bars=True, \n",
    "                title=\"Rollout w/o Teachers\",\n",
    "               y_lower=0, y_upper=1)\n",
    "\n",
    "plot_curriculum(data_names, 'feedback', \n",
    "                y=['Rollout/AvgSuccess'], \n",
    "                smooth=50, error_bars=True, \n",
    "                title=\"Rollout w/o Teachers - Feedback\",\n",
    "               y_lower=0, y_upper=1)\n",
    "\n",
    "plot_curriculum(data_names, 'feedback', \n",
    "                y=['Train/Success'], \n",
    "                smooth=50, error_bars=True, \n",
    "                title=\"Rollout w/o Teachers - Feedback\",\n",
    "               y_lower=0, y_upper=1)\n"
   ]
  },
  {
   "cell_type": "markdown",
   "metadata": {
    "heading_collapsed": true
   },
   "source": [
    "# Sweep over LR [hurts teacher learning, helps rollout learning]"
   ]
  },
  {
   "cell_type": "code",
   "execution_count": null,
   "metadata": {
    "hidden": true,
    "scrolled": true
   },
   "outputs": [],
   "source": [
    "data_names = [\n",
    "        (['T2038'], 'LR 5e-4'),\n",
    "        (['T2041'], 'LR 1e-3'),\n",
    "\n",
    "    ]\n",
    "plot_curriculum(data_names, 'samples', \n",
    "                y=['Rollout/PreActionAdviceMultipleRepeatedIndexAvgAccuracy'], \n",
    "                smooth=50, error_bars=True, \n",
    "                title=\"Rollout Acc: Can we distill to PAIO3 on PutNext?\",\n",
    "               y_lower=.9, y_upper=1)\n",
    "\n",
    "plot_curriculum(data_names, 'samples', \n",
    "                y=['Rollout/PreActionAdviceAvgAccuracy'], \n",
    "                smooth=50, error_bars=True, \n",
    "                title=\"PA Rollout Acc\",\n",
    "               y_lower=.9, y_upper=1)\n",
    "\n",
    "\n",
    "plot_curriculum(data_names, 'samples', \n",
    "                y=['Rollout/AvgSuccess'], \n",
    "                smooth=50, error_bars=True, \n",
    "                title=\"Rollout w/o Teachers\",\n",
    "               y_lower=0, y_upper=1)\n",
    "\n",
    "plot_curriculum(data_names, 'feedback', \n",
    "                y=['Rollout/AvgSuccess'], \n",
    "                smooth=50, error_bars=True, \n",
    "                title=\"Rollout w/o Teachers - Feedback\",\n",
    "               y_lower=0, y_upper=1)"
   ]
  },
  {
   "cell_type": "markdown",
   "metadata": {
    "heading_collapsed": true
   },
   "source": [
    "# Sweep over distillation [hurts teacher learning, helps rollout learning]"
   ]
  },
  {
   "cell_type": "code",
   "execution_count": null,
   "metadata": {
    "hidden": true
   },
   "outputs": [],
   "source": [
    "data_names = [\n",
    "#         (['T2038'], 'D=5'),\n",
    "#         (['T2042'], 'D=10'),\n",
    "        (['T2053'], 'D=5'),\n",
    "        (['T2113', 'T2114'], 'D=10'),\n",
    "        (['T2115', 'T2116'], 'D=20'),\n",
    "\n",
    "    ]\n",
    "plot_curriculum(data_names, 'samples', \n",
    "                y=['Rollout/OffsetCorrectionsAvgAccuracy'], \n",
    "                smooth=50, error_bars=True, \n",
    "                title=\"Rollout Acc: Can we distill to PAIO3 on PutNext?\",\n",
    "               y_lower=.9, y_upper=1)\n",
    "\n",
    "plot_curriculum(data_names, 'samples', \n",
    "                y=['Rollout/PreActionAdviceAvgAccuracy'], \n",
    "                smooth=50, error_bars=True, \n",
    "                title=\"PA Rollout Acc\",\n",
    "               y_lower=.9, y_upper=1)\n",
    "\n",
    "\n",
    "plot_curriculum(data_names, 'samples', \n",
    "                y=['Rollout/AvgSuccess'], \n",
    "                smooth=50, error_bars=True, \n",
    "                title=\"Rollout w/o Teachers\",\n",
    "               y_lower=0, y_upper=1)\n",
    "\n",
    "plot_curriculum(data_names, 'feedback', \n",
    "                y=['Rollout/AvgSuccess'], \n",
    "                smooth=50, error_bars=True, \n",
    "                title=\"Rollout w/o Teachers - Feedback\",\n",
    "               y_lower=0, y_upper=1)"
   ]
  },
  {
   "cell_type": "markdown",
   "metadata": {
    "heading_collapsed": true
   },
   "source": [
    "# Multiple different teacher types [generally learning, but not enough to outperform]"
   ]
  },
  {
   "cell_type": "code",
   "execution_count": null,
   "metadata": {
    "hidden": true,
    "scrolled": false
   },
   "outputs": [],
   "source": [
    "data_names = [\n",
    "        (['T2045'], 'PA -> None'),\n",
    "        (['T2046'], 'ESHET PA3'),\n",
    "        (['T2049'], 'ESHET CC3'),\n",
    "        (['T2050'], 'ESHET OFF3'),\n",
    "#         (['T2051'], 'ESHET SUB3'),\n",
    "    ]\n",
    "\n",
    "\n",
    "plot_curriculum(data_names, 'samples', \n",
    "                y=['Rollout/AvgSuccess'], \n",
    "                smooth=50, error_bars=True, \n",
    "                title=\"Rollout w/o Teachers\",\n",
    "               y_lower=0, y_upper=1)\n",
    "\n",
    "plot_curriculum(data_names, 'feedback', \n",
    "                y=['Rollout/AvgSuccess'], \n",
    "                smooth=50, error_bars=True, \n",
    "                title=\"Rollout w/o Teachers - Feedback\",\n",
    "               y_lower=0, y_upper=1)\n",
    "\n",
    "plot_curriculum(data_names, 'samples', y=['Train/SkipTrainRL'], \n",
    "                smooth=50, error_bars=True, \n",
    "                title=\"How often do we drop reward?\",\n",
    "               y_lower=0, y_upper=1)\n",
    "\n",
    "plot_curriculum(data_names, x_axis, \n",
    "                y=['Feedback/gave_PreActionAdvice'], \n",
    "                smooth=50, error_bars=True, \n",
    "                title=\"Gave PA\",\n",
    "               y_lower=0, y_upper=900)\n",
    "\n",
    "metrics = [\n",
    "    'Distill/PreActionAdviceMultipleRepeatedIndexAccuracy_Val',\n",
    "    'Distill/CartesianCorrectionsAccuracy_Val',\n",
    "    'Distill/OffsetCorrectionsAccuracy_Val',\n",
    "    'Distill/SubgoalCorrectionsAccuracy_Val',\n",
    "]\n",
    "plot_curriculum(data_names, x_axis, \n",
    "                y=metrics, \n",
    "                smooth=50, error_bars=True, \n",
    "                title=\"Distillation Acc\",\n",
    "               y_lower=.9, y_upper=1)\n",
    "\n",
    "metrics = [\n",
    "    'Rollout/PreActionAdviceMultipleRepeatedIndexAvgAccuracy',\n",
    "    'Rollout/CartesianCorrectionsAvgAccuracy',\n",
    "    'Rollout/OffsetCorrectionsAvgAccuracy',\n",
    "    'Rollout/SubgoalCorrectionsAvgAccuracy',\n",
    "]\n",
    "plot_curriculum(data_names, x_axis, \n",
    "                y=metrics, \n",
    "                smooth=50, error_bars=True, \n",
    "                title=\"Rollout Acc\",\n",
    "               y_lower=.8, y_upper=1)\n",
    "\n",
    "metrics = [\n",
    "    'Rollout/PreActionAdviceMultipleRepeatedIndexAvgSuccess',\n",
    "    'Rollout/CartesianCorrectionsAvgSuccess',\n",
    "    'Rollout/OffsetCorrectionsAvgSuccess',\n",
    "    'Rollout/SubgoalCorrectionsAvgSuccess',\n",
    "]\n",
    "plot_curriculum(data_names, x_axis, \n",
    "                y=metrics, \n",
    "                smooth=50, error_bars=True, \n",
    "                title=\"Rollout Success\",\n",
    "               y_lower=.8, y_upper=1)\n"
   ]
  },
  {
   "cell_type": "markdown",
   "metadata": {
    "heading_collapsed": true
   },
   "source": [
    "# Does geometric reward help?"
   ]
  },
  {
   "cell_type": "code",
   "execution_count": null,
   "metadata": {
    "hidden": true,
    "scrolled": true
   },
   "outputs": [],
   "source": [
    "data_names = [\n",
    "        (['T2046'], 'ESHET PA, PA3 -> None, +5 Rew'),\n",
    "        (['T2045'], 'PA -> None, +5 Rew'),\n",
    "    \n",
    "        (['T2044'], 'ESHET PA, PA3 -> None, *2 Rew'),\n",
    "        (['T2043'], 'PA -> None, *2 Rew'),\n",
    "    ]\n",
    "\n",
    "\n",
    "plot_curriculum(data_names, 'samples', \n",
    "                y=['Rollout/AvgSuccess'], \n",
    "                smooth=50, error_bars=True, \n",
    "                title=\"Rollout w/o Teachers\",\n",
    "               y_lower=0, y_upper=1)\n",
    "\n",
    "plot_curriculum(data_names, 'feedback', \n",
    "                y=['Rollout/AvgSuccess'], \n",
    "                smooth=50, error_bars=True, \n",
    "                title=\"Rollout w/o Teachers - Feedback\",\n",
    "               y_lower=0, y_upper=1)\n",
    "\n",
    "plot_curriculum(data_names, 'samples', y=['Train/SkipTrainRL'], \n",
    "                smooth=5, error_bars=True, \n",
    "                title=\"How often do we drop reward?\",\n",
    "               y_lower=0, y_upper=1)"
   ]
  },
  {
   "cell_type": "markdown",
   "metadata": {
    "heading_collapsed": true
   },
   "source": [
    "# What accuracy level do we need?"
   ]
  },
  {
   "cell_type": "code",
   "execution_count": null,
   "metadata": {
    "hidden": true,
    "scrolled": true
   },
   "outputs": [],
   "source": [
    "data_names = [\n",
    "    # Four levels\n",
    "        (['T2093'], 'PA -> None RewDrop'),\n",
    "        (['T2094'], 'PA, PA3 -> None RewDrop'),\n",
    "        (['T2095'], 'PA, CC3 -> None RewDrop'),\n",
    "        (['T2096'], 'PA, OFF3 -> None RewDrop'),\n",
    "    \n",
    "    ]\n",
    "\n",
    "x_axis = 'samples'\n",
    "\n",
    "plot_curriculum(data_names, x_axis, \n",
    "                y=['Distill/Label_A_Train'], \n",
    "                smooth=50, error_bars=True, \n",
    "                title=\"Label Accuracy\",\n",
    "               y_lower=.9, y_upper=1)\n",
    "\n",
    "metrics = [\n",
    "    'Rollout/PreActionAdviceMultipleRepeatedIndexAvgAccuracy',\n",
    "    'Rollout/CartesianCorrectionsAvgAccuracy',\n",
    "    'Rollout/OffsetCorrectionsAvgAccuracy',\n",
    "]\n",
    "plot_curriculum(data_names, x_axis, \n",
    "                y=metrics, \n",
    "                smooth=50, error_bars=True, \n",
    "                title=\"Rollout Acc: Can we distill to abstract teacher?\",\n",
    "               y_lower=.5, y_upper=1)\n",
    "\n",
    "\n",
    "metrics = [\n",
    "    'Rollout/PreActionAdviceMultipleRepeatedIndexAvgSuccess',\n",
    "    'Rollout/CartesianCorrectionsAvgSuccess',\n",
    "    'Rollout/OffsetCorrectionsAvgSuccess',\n",
    "]\n",
    "plot_curriculum(data_names, x_axis, \n",
    "                y=metrics, \n",
    "                smooth=50, error_bars=True, \n",
    "                title=\"Rollout Success: Can we distill to abstract teacher?\",\n",
    "               y_lower=.5, y_upper=1)\n",
    "metrics = [\n",
    "    'Distill/PreActionAdviceMultipleRepeatedIndexAccuracy_Val',\n",
    "    'Distill/CartesianCorrectionsAccuracy_Val',\n",
    "    'Distill/OffsetCorrectionsAccuracy_Val',\n",
    "]\n",
    "plot_curriculum(data_names, x_axis, \n",
    "                y=metrics, \n",
    "                smooth=50, error_bars=True, \n",
    "                title=\"Distillation Acc: Can we distill to abstract teacher?\",\n",
    "               y_lower=.5, y_upper=1)\n",
    "\n",
    "\n",
    "plt.xlim(0, 300)\n",
    "plot_curriculum(data_names, x_axis, \n",
    "                y=['Rollout/PreActionAdviceAvgAccuracy'], \n",
    "                smooth=50, error_bars=True, \n",
    "                title=\"PA Rollout Acc\",\n",
    "               y_lower=.9, y_upper=1)\n",
    "\n",
    "plot_curriculum(data_names, x_axis, \n",
    "                y=['Train/Argmax_Accuracy',], \n",
    "                smooth=50, error_bars=True, \n",
    "                title=\"Train Acc\",\n",
    "               y_lower=.9, y_upper=1)\n",
    "\n",
    "plot_curriculum(data_names, 'samples', \n",
    "                y=['Rollout/AvgSuccess'], \n",
    "                smooth=50, error_bars=True, \n",
    "                title=\"Rollout w/o Teachers - Samples\",\n",
    "               y_lower=0, y_upper=1)\n",
    "\n",
    "plot_curriculum(data_names, 'feedback', \n",
    "                y=['Rollout/AvgSuccess'], \n",
    "                smooth=50, error_bars=True, \n",
    "                title=\"Rollout w/o Teachers - Feedback\",\n",
    "               y_lower=0, y_upper=1)\n",
    "\n",
    "plot_curriculum(data_names, x_axis, \n",
    "                y=['Advance'], \n",
    "                smooth=1, error_bars=True, \n",
    "                title=\"Advancement\",\n",
    "               y_lower=0, y_upper=1)\n",
    "\n",
    "plot_curriculum(data_names, x_axis, \n",
    "                y=['Feedback/gave_PreActionAdvice'], \n",
    "                smooth=50, error_bars=True, \n",
    "                title=\"Are we actually swapping?\",\n",
    "               y_lower=0, y_upper=900)\n",
    "\n",
    "plot_curriculum(data_names, x_axis, y=['Rollout/last_success'], smooth=50, error_bars=True, \n",
    "                title=\"Is the success threshold high enough?\",\n",
    "               y_lower=.99, y_upper=1.001)\n",
    "plot_curriculum(data_names, x_axis, y=['Rollout/last_accuracy'], smooth=50, error_bars=True, \n",
    "                title=\"Is the accuracy threshold high enough?\",\n",
    "               y_lower=.95, y_upper=1.001)"
   ]
  },
  {
   "cell_type": "markdown",
   "metadata": {
    "heading_collapsed": true
   },
   "source": [
    "# Supervised Exps"
   ]
  },
  {
   "cell_type": "code",
   "execution_count": null,
   "metadata": {
    "hidden": true,
    "scrolled": true
   },
   "outputs": [],
   "source": [
    "\n",
    "plt.rcParams['figure.figsize'] = [10, 5]\n",
    "data_names = [\n",
    "    # Four levels\n",
    "        (['T2122'], 'From oracle'),\n",
    "#         (['T2123'], 'From PA'),\n",
    "        (['T2124'], 'From oracle, smaller'),\n",
    "        (['T2125'], 'From oracle, no memory'),\n",
    "        (['T2126'], 'From oracle, no mem, no obs'),\n",
    "    ]\n",
    "\n",
    "x_axis = 'samples'\n",
    "\n",
    "metrics = [\n",
    "    'Rollout/OFFIOAvgAccuracy',\n",
    "]\n",
    "plot_curriculum(data_names, x_axis, \n",
    "                y=metrics, \n",
    "                smooth=50, error_bars=True, \n",
    "                title=\"Rollout Accuracy with the Abstract Teacher\",\n",
    "               y_lower=.7, y_upper=1, y_label=\"Rollout Accuracy\")\n",
    "metrics = [\n",
    "    'Distill/OFFIOAccuracy_Val',\n",
    "]\n",
    "plot_curriculum(data_names, x_axis, \n",
    "                y=metrics, \n",
    "                smooth=50, error_bars=True, \n",
    "                title=\"Distillation Acc: Can we distill to abstract teacher?\",\n",
    "               y_lower=.5, y_upper=1)\n",
    "\n",
    "metrics = [\n",
    "    'Distill/OFFIOAccuracy_Train',\n",
    "]\n",
    "plot_curriculum(data_names, x_axis, \n",
    "                y=metrics, \n",
    "                smooth=50, error_bars=True, \n",
    "                title=\"Distillation Acc (Train): Can we distill to abstract teacher?\",\n",
    "               y_lower=.5, y_upper=1)\n",
    "\n",
    "plot_curriculum(data_names, x_axis, y=['Rollout/last_success'], smooth=50, error_bars=True, \n",
    "                title=\"Is the success threshold high enough?\",\n",
    "               y_lower=.99, y_upper=1.001)\n",
    "plot_curriculum(data_names, x_axis, y=['Rollout/last_accuracy'], smooth=50, error_bars=True, \n",
    "                title=\"Is the accuracy threshold high enough?\",\n",
    "               y_lower=.95, y_upper=1.001)"
   ]
  },
  {
   "cell_type": "code",
   "execution_count": null,
   "metadata": {
    "hidden": true,
    "scrolled": true
   },
   "outputs": [],
   "source": [
    "\n",
    "plt.rcParams['figure.figsize'] = [10, 5]\n",
    "data_names = [\n",
    "        (['T2132'], 'Threshold .95, 100 itrs'),\n",
    "        (['T2129'], 'Threshold .99, 100 itrs'),\n",
    "        (['T2130'], 'Threshold 1, 100 itrs'),\n",
    "        (['T2122'], 'Distill from Oracle, 100 itrs'),\n",
    "    ]\n",
    "\n",
    "data_names = [\n",
    "        (['T2132'], 'Threshold .95, 100 itrs'),\n",
    "        (['T2142'], 'Threshold .95, 200 itrs'),\n",
    "        (['T2131'], 'Threshold .95, 1000 itrs'),\n",
    "    ]\n",
    "\n",
    "data_names = [\n",
    "        (['T2129'], 'Threshold .99, num_modules 2, 100 itrs'),\n",
    "        (['T2146'], 'Threshold .99, num_modules 3, 100 itrs'),\n",
    "        (['T2147'], 'Threshold .99, num_modules 4, 100 itrs'),\n",
    "    ]\n",
    "\n",
    "x_axis = 'samples'\n",
    "\n",
    "metrics = [\n",
    "    'Rollout/OFFIOAvgAccuracy',\n",
    "]\n",
    "plt.xlim(0, 2000)\n",
    "plot_curriculum(data_names, x_axis, \n",
    "                y=metrics, \n",
    "                smooth=200, error_bars=True, \n",
    "                title=\"Rollout Accuracy with the Abstract Teacher\",\n",
    "               y_lower=.7, y_upper=1, y_label=\"Rollout Accuracy\")\n",
    "metrics = [\n",
    "    'Distill/OFFIOAccuracy_Val',\n",
    "]\n",
    "plot_curriculum(data_names, x_axis, \n",
    "                y=metrics, \n",
    "                smooth=50, error_bars=True, \n",
    "                title=\"Distillation Acc: Can we distill to abstract teacher?\",\n",
    "               y_lower=.8, y_upper=1)\n",
    "\n",
    "metrics = [\n",
    "    'Distill/OFFIOAccuracy_Train',\n",
    "]\n",
    "plot_curriculum(data_names, x_axis, \n",
    "                y=metrics, \n",
    "                smooth=50, error_bars=True, \n",
    "                title=\"Distillation Acc (Train): Can we distill to abstract teacher?\",\n",
    "               y_lower=.8, y_upper=1)\n",
    "\n",
    "plot_curriculum(data_names, x_axis, y=['Rollout/last_success'], smooth=50, error_bars=True, \n",
    "                title=\"Is the success threshold high enough?\",\n",
    "               y_lower=.9, y_upper=1.001)\n",
    "plot_curriculum(data_names, x_axis, y=['Rollout/last_accuracy'], smooth=50, error_bars=True, \n",
    "                title=\"Is the accuracy threshold high enough?\",\n",
    "               y_lower=.95, y_upper=1.001)"
   ]
  },
  {
   "cell_type": "code",
   "execution_count": null,
   "metadata": {
    "hidden": true
   },
   "outputs": [],
   "source": []
  },
  {
   "cell_type": "markdown",
   "metadata": {
    "heading_collapsed": true
   },
   "source": [
    "# Hint Reconstruction"
   ]
  },
  {
   "cell_type": "code",
   "execution_count": null,
   "metadata": {
    "hidden": true,
    "scrolled": true
   },
   "outputs": [],
   "source": [
    "\n",
    "plt.rcParams['figure.figsize'] = [10, 5]\n",
    "data_names = [\n",
    "    # Four levels\n",
    "    # OG params\n",
    "#         (['T2047'], 'PA only'),\n",
    "#         (['T2048'], 'PA, swap to PA3'),\n",
    "#         (['T2144'], 'PA, swap to OFF3'),\n",
    "    \n",
    "    # BCS params\n",
    "        (['T2174_PA_to_PA3_2', 'T2174_PA_to_PA3_3'], 'PA, swap to PA3'),\n",
    "        (['T2172_PA_to_OFFIO3_1', 'T2172_PA_to_OFFIO3_3'], 'PA, swap to OFF3'),\n",
    "    \n",
    "#         (['T2156'], 'PA, swap to PA3, Reconstruct'),\n",
    "#         (['T2157'], 'PA, swap to OFF3, Reconstruct'),\n",
    "    \n",
    "    # Gaussian loss\n",
    "#         (['T2160'], 'PA, swap to PA3, Reconstruct'),\n",
    "#         (['T2161'], 'PA, swap to OFF3, Reconstruct'),\n",
    "    \n",
    "    # Gaussian loss, bigger eps\n",
    "#         (['T2162'], 'PA, swap to PA3, Reconstruct'),\n",
    "#         (['T2163'], 'PA, swap to OFF3, Reconstruct'),\n",
    "    \n",
    "    # L2 loss\n",
    "        (['T2171'], 'PA, swap to PA3, Reconstruct'),\n",
    "#         (['T2170'], 'PA, swap to OFF3, Reconstruct'),\n",
    "    \n",
    "    # L2, improved threshold\n",
    "        (['T2177'], 'PA, swap to OFF3, BCS'),\n",
    "        (['T2178'], 'PA, swap to OFF3, Reconstruct'),\n",
    "    \n",
    "    \n",
    "    ]\n",
    "\n",
    "x_axis = 'samples'\n",
    "\n",
    "metrics = [\n",
    "    'Distill/PreActionAdviceMultipleRepeatedIndexLoss_Val', \n",
    "    'Distill/OFFIOLoss_Val'\n",
    "]\n",
    "\n",
    "plt.xlim(0, 2000)\n",
    "plot_curriculum(data_names, x_axis, \n",
    "                y=metrics, \n",
    "                smooth=50, error_bars=True, \n",
    "                title=\"Policy Loss\",\n",
    "               y_lower=0, y_upper=.2)\n",
    "\n",
    "\n",
    "metrics = [\n",
    "    'Distill/PreActionAdviceMultipleRepeatedIndexReconstruction_Loss_Val', \n",
    "    'Distill/OFFIOReconstruction_Loss_Val'\n",
    "]\n",
    "\n",
    "plt.xlim(0, 2000)\n",
    "plot_curriculum(data_names, x_axis, \n",
    "                y=metrics, \n",
    "                smooth=50, error_bars=True, \n",
    "                title=\"Reconstruction Loss\",\n",
    "               y_lower=0, y_upper=.1)\n",
    "\n",
    "\n",
    "plt.xlim(0, 2000)\n",
    "plot_curriculum(data_names, x_axis, \n",
    "                y=['Distill/Label_A_Train'], \n",
    "                smooth=50, error_bars=True, \n",
    "                title=\"Label Accuracy\",\n",
    "               y_lower=.9, y_upper=1)\n",
    "\n",
    "metrics = [\n",
    "    'Rollout/PreActionAdviceMultipleRepeatedIndexAvgAccuracy',\n",
    "    'Rollout/OFFIOAvgAccuracy',\n",
    "]\n",
    "plt.xlim(0, 2000)\n",
    "plot_curriculum(data_names, x_axis, \n",
    "                y=metrics, \n",
    "                smooth=50, error_bars=True, \n",
    "                title=\"Rollout Accuracy with the Abstract Teacher\",\n",
    "               y_lower=.7, y_upper=1, y_label=\"Rollout Accuracy\")\n",
    "metrics = [\n",
    "    'Distill/PreActionAdviceMultipleRepeatedIndexAccuracy_Val',\n",
    "    'Distill/OFFIOAccuracy_Val',\n",
    "]\n",
    "plt.xlim(0, 2000)\n",
    "plot_curriculum(data_names, x_axis, \n",
    "                y=metrics, \n",
    "                smooth=50, error_bars=True, \n",
    "                title=\"Distillation Acc: Can we distill to abstract teacher?\",\n",
    "               y_lower=.5, y_upper=1)\n",
    "\n",
    "\n",
    "plt.xlim(0, 2000)\n",
    "plot_curriculum(data_names, x_axis, \n",
    "                y=['Rollout/PreActionAdviceAvgAccuracy'], \n",
    "                smooth=50, error_bars=True, \n",
    "                title=\"PA Rollout Acc\",\n",
    "               y_lower=.9, y_upper=1)\n",
    "plt.xlim(0, 2000)\n",
    "plot_curriculum(data_names, x_axis, \n",
    "                y=['Train/Argmax_Accuracy',], \n",
    "                smooth=50, error_bars=True, \n",
    "                title=\"Train Acc\",\n",
    "               y_lower=.9, y_upper=1)\n",
    "plt.xlim(0, 2000)\n",
    "plot_curriculum(data_names, 'samples', \n",
    "                y=['Rollout/AvgSuccess'], \n",
    "                smooth=50, error_bars=True, \n",
    "                title=\"Rollout w/o Teachers - Samples\",\n",
    "               y_lower=0, y_upper=1)\n",
    "plt.xlim(0, 2000000)\n",
    "plot_curriculum(data_names, 'feedback', \n",
    "                y=['Rollout/AvgSuccess'], \n",
    "                smooth=50, error_bars=True, \n",
    "                title=\"Rollout w/o Teachers - Feedback\",\n",
    "               y_lower=0, y_upper=1)\n",
    "plt.xlim(0, 2000)\n",
    "plot_curriculum(data_names, x_axis, \n",
    "                y=['Advance'], \n",
    "                smooth=1, error_bars=True, \n",
    "                title=\"Advancement\",\n",
    "               y_lower=0, y_upper=1)\n",
    "plt.xlim(0, 2000)\n",
    "plot_curriculum(data_names, x_axis, \n",
    "                y=['Feedback/gave_PreActionAdvice'], \n",
    "                smooth=50, error_bars=True, \n",
    "                title=\"Amount of low-level teacher (PA) given\",\n",
    "               y_lower=0, y_upper=1.01, y_transform=lambda x: x / 800, y_label='PA Present')\n",
    "plt.xlim(0, 2000)\n",
    "plot_curriculum(data_names, 'samples', y=['Train/SkipTrainRL'], \n",
    "                smooth=50, error_bars=True, \n",
    "                title=\"How often do we need reward?\",\n",
    "               y_lower=0, y_upper=1, y_label=\"Trained on Itr\", y_transform=lambda x: 1 - x)\n",
    "plt.xlim(0, 2000)\n",
    "plot_curriculum(data_names, x_axis, y=['Rollout/last_success'], smooth=50, error_bars=True, \n",
    "                title=\"Is the success threshold high enough?\",\n",
    "               y_lower=.99, y_upper=1.001)\n",
    "plt.xlim(0, 2000)\n",
    "plot_curriculum(data_names, x_axis, y=['Rollout/last_accuracy'], smooth=50, error_bars=True, \n",
    "                title=\"Is the accuracy threshold high enough?\",\n",
    "               y_lower=.95, y_upper=1.001)"
   ]
  },
  {
   "cell_type": "markdown",
   "metadata": {
    "heading_collapsed": true
   },
   "source": [
    "# Distill loss weirdness"
   ]
  },
  {
   "cell_type": "code",
   "execution_count": null,
   "metadata": {
    "hidden": true,
    "scrolled": true
   },
   "outputs": [],
   "source": [
    "runs = [\n",
    "        (['T2172_PA_to_OFFIO3_1', 'T2172_PA_to_OFFIO3_3'], 'PA, swap to OFF3'),\n",
    "        (['T2177'], 'PA, swap to OFF3, BCS'),\n",
    "        (['T2178'], 'PA, swap to OFF3, Reconstruct'),\n",
    "        (['T2173'], 'SKETCHY'),\n",
    "]\n",
    "for run in runs:\n",
    "    plot_curriculum([run], x_axis, y=['Distill/OFFIOLoss_Train', 'Distill/OFFIOLoss_Val'], \n",
    "                    smooth=5, error_bars=True, \n",
    "                title=\"Weirdness\",\n",
    "               y_lower=.03, y_upper=.2)"
   ]
  },
  {
   "cell_type": "markdown",
   "metadata": {},
   "source": [
    "# Grounding teachers as well as possible"
   ]
  },
  {
   "cell_type": "code",
   "execution_count": null,
   "metadata": {
    "scrolled": true
   },
   "outputs": [],
   "source": [
    "metrics_acc = [\n",
    "    'Rollout/AvgAccuracy',\n",
    "    'Rollout/PreActionAdviceAvgAccuracy',\n",
    "    'Rollout/PreActionAdviceMultipleRepeatedIndexAvgAccuracy',\n",
    "    'Rollout/CCIOAvgAccuracy',\n",
    "    'Rollout/OFFIOAvgAccuracy',\n",
    "    'Rollout/SubgoalCorrectionsAvgAccuracy',\n",
    "    'Rollout/OFFSparseAvgAccuracy',\n",
    "    'Rollout/OFFSparseRandomAvgAccuracy'\n",
    "]\n",
    "\n",
    "metrics_success = [\n",
    "    'Rollout/AvgSuccess',\n",
    "    'Rollout/PreActionAdviceAvgSuccess',\n",
    "    'Rollout/PreActionAdviceMultipleRepeatedIndexAvgSuccess',\n",
    "    'Rollout/CCIOAvgSuccess',\n",
    "    'Rollout/OFFIOAvgSuccess',\n",
    "    'Rollout/SubgoalCorrectionsAvgSuccess',\n",
    "    'Rollout/OFFSparseAvgSuccess',\n",
    "    'Rollout/OFFSparseRandomAvgSuccess'\n",
    "]\n",
    "\n",
    "for run in range(2184, 2201):\n",
    "    run = ([f'T{run}'], f'T{run}')\n",
    "    plot_curriculum([run], x_axis, y=metrics_acc, \n",
    "                    smooth=5, error_bars=True, \n",
    "                title=f\"Accuracy - {run[1]}\",\n",
    "               y_lower=0, y_upper=1)\n",
    "    plot_curriculum([run], x_axis, y=metrics_success, \n",
    "                    smooth=5, error_bars=True, \n",
    "                title=f\"Success - {run[1]}\",\n",
    "               y_lower=0, y_upper=1)"
   ]
  },
  {
   "cell_type": "code",
   "execution_count": null,
   "metadata": {
    "scrolled": false
   },
   "outputs": [],
   "source": [
    "metrics_acc = [\n",
    "#     'Rollout/OFFIOAvgAccuracy',\n",
    "    'Rollout/SubgoalCorrectionsAvgAccuracy',\n",
    "]\n",
    "\n",
    "metrics_success = [\n",
    "#     'Rollout/OFFIOAvgSuccess',\n",
    "    'Rollout/SubgoalCorrectionsAvgSuccess',\n",
    "]\n",
    "\n",
    "plt.rcParams['figure.figsize'] = [15, 5]\n",
    "runs = [\n",
    "#     (['T2293', 'T2187'], 'Distill OFF3 from oracle'),\n",
    "#     (['T2294', 'T2193'], 'Distill OFF5 from oracle'),\n",
    "#     (['T2299'], 'Distill OFF3 from PA'),\n",
    "#     (['T2300'], 'Distill OFF5 from PA'),\n",
    "#     (['T2318'], 'Distill OFF10 from PA'), # OK\n",
    "#     (['T2317'], 'Distill SUB from PA'),\n",
    "    \n",
    "#     (['T2343'], 'Distill OFF10 from PA - 5 Levels'), # OK\n",
    "    (['T2342'], 'Distill SUB from PA'),\n",
    "    \n",
    "    \n",
    "    \n",
    "    (['T2358'], 'Distill SUB from PA, newSub'),\n",
    "    (['T2359'], 'Distill SUB from PA, newSub, long'),\n",
    "    (['T2360'], 'Distill SUB from PA, newSub, long + big'),\n",
    "    (['T2362'], 'Distill SUB from PA, newerSub'),\n",
    "    (['T2363_SUB_FROMPA_1', 'T2363_SUB_FROMPA_3'], 'Distill SUB from PA, newerSub, long + big'),\n",
    "    (['T2364'], 'Distill SUB from PA - 5 Levels, FullyObserved BEST'),\n",
    "    \n",
    "    \n",
    "#     (['T2345'], 'Distill OFF10 from PA - 5 Levels, FullyObserved'),\n",
    "#     (['T2344'], 'Distill SUB from PA - 5 Levels, FullyObserved'),\n",
    "#     (['T2295'], 'RL Train OFF3'),\n",
    "#     (['T2296'], 'RL Train OFF5'),\n",
    "]\n",
    "\n",
    "x_axis = 'samples'\n",
    "plot_curriculum(runs, x_axis, y=metrics_acc, \n",
    "                smooth=500, error_bars=True, \n",
    "            title=f\"Accuracy\",\n",
    "           y_lower=.5, y_upper=1)\n",
    "plot_curriculum(runs, x_axis, y=metrics_success, \n",
    "                smooth=500, error_bars=True, \n",
    "            title=f\"Success\",\n",
    "           y_lower=.9, y_upper=1)"
   ]
  },
  {
   "cell_type": "markdown",
   "metadata": {},
   "source": [
    "# Fully Observed"
   ]
  },
  {
   "cell_type": "code",
   "execution_count": null,
   "metadata": {},
   "outputs": [],
   "source": [
    "metrics_acc = [\n",
    "    'Rollout/SubgoalCorrectionsAvgAccuracy',\n",
    "]\n",
    "\n",
    "metrics_success = [\n",
    "    'Rollout/SubgoalCorrectionsAvgSuccess',\n",
    "]\n",
    "\n",
    "plt.rcParams['figure.figsize'] = [15, 5]\n",
    "runs = [\n",
    "\n",
    "    (['T2360'], 'Distill SUB from PA, newSub, long + big'),\n",
    "    \n",
    "    \n",
    "    (['T2344'], 'Distill SUB from PA - 5 Levels, FullyObserved'),\n",
    "    (['T2361_SUB_FROMPA_1'], 'Distill SUB from PA - 5 Levels, FullyObserved BETTER'),\n",
    "    (['T2364'], 'Distill SUB from PA - 5 Levels, FullyObserved BEST'),\n",
    "]\n",
    "\n",
    "x_axis = 'samples'\n",
    "plot_curriculum(runs, x_axis, y=metrics_acc, \n",
    "                smooth=500, error_bars=True, \n",
    "            title=f\"Accuracy\",\n",
    "           y_lower=0, y_upper=1)\n",
    "plot_curriculum(runs, x_axis, y=metrics_success, \n",
    "                smooth=500, error_bars=True, \n",
    "            title=f\"Success\",\n",
    "           y_lower=0, y_upper=1)"
   ]
  }
 ],
 "metadata": {
  "kernelspec": {
   "display_name": "Python 3",
   "language": "python",
   "name": "python3"
  },
  "language_info": {
   "codemirror_mode": {
    "name": "ipython",
    "version": 3
   },
   "file_extension": ".py",
   "mimetype": "text/x-python",
   "name": "python",
   "nbconvert_exporter": "python",
   "pygments_lexer": "ipython3",
   "version": "3.7.0"
  },
  "toc": {
   "base_numbering": 1,
   "nav_menu": {},
   "number_sections": true,
   "sideBar": true,
   "skip_h1_title": false,
   "title_cell": "Table of Contents",
   "title_sidebar": "Contents",
   "toc_cell": false,
   "toc_position": {},
   "toc_section_display": true,
   "toc_window_display": false
  },
  "varInspector": {
   "cols": {
    "lenName": 16,
    "lenType": 16,
    "lenVar": 40
   },
   "kernels_config": {
    "python": {
     "delete_cmd_postfix": "",
     "delete_cmd_prefix": "del ",
     "library": "var_list.py",
     "varRefreshCmd": "print(var_dic_list())"
    },
    "r": {
     "delete_cmd_postfix": ") ",
     "delete_cmd_prefix": "rm(",
     "library": "var_list.r",
     "varRefreshCmd": "cat(var_dic_list()) "
    }
   },
   "types_to_exclude": [
    "module",
    "function",
    "builtin_function_or_method",
    "instance",
    "_Feature"
   ],
   "window_display": false
  }
 },
 "nbformat": 4,
 "nbformat_minor": 2
}
