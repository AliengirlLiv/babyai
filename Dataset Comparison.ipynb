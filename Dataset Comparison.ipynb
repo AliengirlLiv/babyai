{
 "cells": [
  {
   "cell_type": "code",
   "execution_count": null,
   "metadata": {},
   "outputs": [],
   "source": [
    "import pickle as pkl\n",
    "import numpy as np\n",
    "import torch\n",
    "import blosc"
   ]
  },
  {
   "cell_type": "code",
   "execution_count": null,
   "metadata": {},
   "outputs": [],
   "source": [
    "def load(file_name):\n",
    "    with open(file_name, 'rb') as f:\n",
    "        loaded = pkl.load(f)\n",
    "    return loaded\n",
    "\n",
    "colors = ['red', 'green', 'blue', 'purple', 'yellow', 'grey']\n",
    "types = ['door', 'key', 'ball', 'box']\n",
    "actions = [\"go\", \"pick\", \"up\", \"open\", \"put\"]\n",
    "fillers = [\"to\", \"next\", \"the\", \"a\"]\n",
    "misc = [\"follow_teacher\"]\n",
    "vocab = ['PAD'] + colors + types + actions + fillers + misc\n",
    "\n",
    "def to_text(tokens):\n",
    "    words = [vocab[token] for token in tokens if not token == 0]\n",
    "    return words\n",
    "\n",
    "def to_vocab_index(mission, pad_length=10):\n",
    "    words = mission.split(\" \")\n",
    "    \n",
    "    mission_list = [vocab.index(word) for word in words]\n",
    "    if pad_length is not None:\n",
    "        mission_list = mission_list + [0] * (pad_length - len(mission_list))\n",
    "    if len(mission_list) > pad_length:\n",
    "        raise ValueError(\"Mission is too long: \" + mission + str(pad_length))\n",
    "    return mission_list\n",
    "\n"
   ]
  },
  {
   "cell_type": "code",
   "execution_count": null,
   "metadata": {},
   "outputs": [],
   "source": [
    "cd meta-mb-internal"
   ]
  },
  {
   "cell_type": "code",
   "execution_count": null,
   "metadata": {},
   "outputs": [],
   "source": [
    "theirs = load('/home/olivia/Documents/Teachable/og_babyai/demos/DUMMY.pkl')"
   ]
  },
  {
   "cell_type": "code",
   "execution_count": null,
   "metadata": {},
   "outputs": [],
   "source": [
    "len(theirs)"
   ]
  },
  {
   "cell_type": "code",
   "execution_count": null,
   "metadata": {
    "scrolled": true
   },
   "outputs": [],
   "source": [
    "for i in range(10):\n",
    "    ours = load(f'/home/olivia/Documents/Teachable/babyai/meta-mb-internal/data/'\n",
    "                'DEBUG_teacherPreActionAdvice_dense_threshS0.99_threshA0.8_lr0.0001_ent0.01_currfnone_hot_1'\n",
    "                f'/buffer/traj_train_level18_idx{i}.pkl')\n",
    "#     print(to_text(ours.obs[0]['instr']))\n",
    "    for j in range(len(ours.obs)):\n",
    "        print(to_text(ours.obs[j]['instr']))"
   ]
  },
  {
   "cell_type": "code",
   "execution_count": null,
   "metadata": {},
   "outputs": [],
   "source": [
    "# loop through\n",
    "theirs = load('/home/olivia/Documents/Teachable/og_babyai/demos/DUMMY.pkl')\n",
    "\n",
    "for i, their_traj in enumerate(theirs):\n",
    "    print(i)\n",
    "    ours = load(f'/home/olivia/Documents/Teachable/babyai/meta-mb-internal/data/'\n",
    "                'DEBUG_teacherPreActionAdvice_dense_threshS0.99_threshA0.8_lr0.0001_ent0.01_currfnone_hot_1'\n",
    "                f'/buffer/traj_train_level18_idx{i}.pkl')\n",
    "    print(to_text(ours.obs[0]['instr']))\n",
    "    print(ours.teacher_action[:,0])\n",
    "\n",
    "    # actions\n",
    "    their_action = np.array([t for t in their_traj[3]])\n",
    "    assert np.array_equal(ours.teacher_action[:,0], their_action), (ours.teacher_action, their_action)\n",
    "    \n",
    "    # obs\n",
    "#     print(\"comparing obs\")\n",
    "    our_obs = ours.obs\n",
    "    their_obs = blosc.unpack_array(their_traj[1])\n",
    "    for oo, to in zip(our_obs, their_obs):\n",
    "        assert np.array_equal(oo['obs'], to), (oo['obs'].shape, to.shape)\n",
    "\n",
    "#     print(\"first\")\n",
    "    assert np.array_equal(ours.obs[0]['obs'], their_obs[0]), (ours.obs[0]['obs'].shape, their_obs[0].shape)\n",
    "    \n",
    "    # instr\n",
    "    their_mission_tokens = to_vocab_index(their_traj[0])\n",
    "    our_mission_tokens = ours.obs[0]['instr']\n",
    "    assert np.array_equal(their_mission_tokens, our_mission_tokens), (their_mission_tokens, our_mission_tokens)\n",
    "    \n",
    "print(\"all good!\")"
   ]
  },
  {
   "cell_type": "code",
   "execution_count": null,
   "metadata": {},
   "outputs": [],
   "source": [
    "for t in theirs[:10]:\n",
    "    print(t[0])"
   ]
  }
 ],
 "metadata": {
  "kernelspec": {
   "display_name": "Python 3",
   "language": "python",
   "name": "python3"
  },
  "language_info": {
   "codemirror_mode": {
    "name": "ipython",
    "version": 3
   },
   "file_extension": ".py",
   "mimetype": "text/x-python",
   "name": "python",
   "nbconvert_exporter": "python",
   "pygments_lexer": "ipython3",
   "version": "3.7.6"
  }
 },
 "nbformat": 4,
 "nbformat_minor": 4
}
