{
 "cells": [
  {
   "cell_type": "code",
   "execution_count": null,
   "metadata": {},
   "outputs": [],
   "source": [
    "import pickle as pkl\n",
    "import numpy as np\n",
    "import torch\n",
    "import blosc"
   ]
  },
  {
   "cell_type": "code",
   "execution_count": null,
   "metadata": {},
   "outputs": [],
   "source": [
    "def load(file_name):\n",
    "    with open(file_name, 'rb') as f:\n",
    "        loaded = pkl.load(f)\n",
    "    return loaded\n",
    "\n",
    "colors = ['red', 'green', 'blue', 'purple', 'yellow', 'grey']\n",
    "types = ['door', 'key', 'ball', 'box']\n",
    "actions = [\"go\", \"pick\", \"up\", \"open\", \"put\"]\n",
    "fillers = [\"to\", \"next\", \"the\", \"a\"]\n",
    "misc = [\"follow_teacher\"]\n",
    "vocab = ['PAD'] + colors + types + actions + fillers + misc\n",
    "\n",
    "def to_text(tokens):\n",
    "    words = [vocab[token] for token in tokens if not token == 0]\n",
    "    return words\n",
    "\n",
    "def to_vocab_index(mission, pad_length=10):\n",
    "    words = mission.split(\" \")\n",
    "    \n",
    "    mission_list = [vocab.index(word) for word in words]\n",
    "    if pad_length is not None:\n",
    "        mission_list = mission_list + [0] * (pad_length - len(mission_list))\n",
    "    if len(mission_list) > pad_length:\n",
    "        raise ValueError(\"Mission is too long: \" + mission + str(pad_length))\n",
    "    return mission_list\n",
    "\n"
   ]
  },
  {
   "cell_type": "markdown",
   "metadata": {},
   "source": [
    "# Compare Ours to Theirs"
   ]
  },
  {
   "cell_type": "code",
   "execution_count": null,
   "metadata": {},
   "outputs": [],
   "source": [
    "# loop through\n",
    "theirs = load('/home/olivia/Teachable/original_babyai/demos/T322_L18_MATCHING_THEIRS.pkl')\n",
    "\n",
    "for i, their_traj in enumerate(theirs):\n",
    "    if i % 1000 == 0:\n",
    "        print(i)\n",
    "    ours = load(f'/home/olivia/Teachable/babyai/meta-mb-internal/data/'\n",
    "                'T0330_COLLECT_MATCHING_L18_v3_teacherPreActionAdvice_dense_threshS0.99_threshA0.8_lr0.0001_ent0.01_currfnone_hot_1'\n",
    "                f'/buffer/traj_train_level18_idx{i}.pkl')\n",
    "#     print(to_text(ours.obs[0]['instr']))\n",
    "#     print(ours.teacher_action[:,0])\n",
    "\n",
    "    # actions\n",
    "    their_action = np.array([t for t in their_traj[3]])\n",
    "    assert np.array_equal(ours.teacher_action[:,0], their_action), (ours.teacher_action, their_action)\n",
    "    \n",
    "    # obs\n",
    "#     print(\"comparing obs\")\n",
    "    our_obs = ours.obs\n",
    "    their_obs = blosc.unpack_array(their_traj[1])\n",
    "    for oo, to in zip(our_obs, their_obs):\n",
    "        assert np.array_equal(oo['obs'], to), (oo['obs'].shape, to.shape)\n",
    "\n",
    "#     print(\"first\")\n",
    "    assert np.array_equal(ours.obs[0]['obs'], their_obs[0]), (ours.obs[0]['obs'].shape, their_obs[0].shape)\n",
    "    \n",
    "    # instr\n",
    "    their_mission_tokens = to_vocab_index(their_traj[0])\n",
    "    our_mission_tokens = ours.obs[0]['instr']\n",
    "    assert np.array_equal(their_mission_tokens, our_mission_tokens), (their_mission_tokens, our_mission_tokens)\n",
    "    \n",
    "print(\"all good!\")"
   ]
  },
  {
   "cell_type": "code",
   "execution_count": null,
   "metadata": {},
   "outputs": [],
   "source": [
    "for t in theirs[:10]:\n",
    "    print(t[0])"
   ]
  },
  {
   "cell_type": "code",
   "execution_count": null,
   "metadata": {},
   "outputs": [],
   "source": []
  },
  {
   "cell_type": "code",
   "execution_count": null,
   "metadata": {},
   "outputs": [],
   "source": []
  },
  {
   "cell_type": "markdown",
   "metadata": {},
   "source": [
    "# Compare theirs to theirs"
   ]
  },
  {
   "cell_type": "code",
   "execution_count": null,
   "metadata": {},
   "outputs": [],
   "source": [
    "theirs_1 = load('/home/olivia/Teachable/original_babyai/demos/T322_L18_MATCHING_THEIRS.pkl')\n",
    "# theirs_2 = load('/home/olivia/Teachable/original_babyai/demos/T322_L18_MATCHING_THEIRS.pkl')"
   ]
  },
  {
   "cell_type": "code",
   "execution_count": null,
   "metadata": {},
   "outputs": [],
   "source": [
    "(len(theirs_1), len(theirs_2))"
   ]
  },
  {
   "cell_type": "code",
   "execution_count": null,
   "metadata": {},
   "outputs": [],
   "source": [
    "i = 0\n",
    "for traj_1, traj_2 in zip(theirs_1, theirs_2):\n",
    "    print(np.array(traj_1[3]).astype(np.int32))\n",
    "    print(traj_2[3])\n",
    "    if i % 100 == 0:\n",
    "        print(i)\n",
    "    assert traj_1[0] == traj_2[0], (traj_1[0], traj_2[0])\n",
    "    obs_1 = blosc.unpack_array(traj_1[1])\n",
    "    obs_2 = blosc.unpack_array(traj_2[1])\n",
    "    assert np.array_equal(obs_1, obs_2)\n",
    "    assert np.array_equal(traj_1[3], traj_2[3])\n",
    "    i += 1"
   ]
  },
  {
   "cell_type": "code",
   "execution_count": null,
   "metadata": {},
   "outputs": [],
   "source": [
    "avg = np.mean([len(traj[3]) for traj in theirs_1[:1000]])\n",
    "print(avg)"
   ]
  },
  {
   "cell_type": "code",
   "execution_count": null,
   "metadata": {},
   "outputs": [],
   "source": [
    "avg = np.mean([traj[3] for traj in theirs_1])\n",
    "print(avg)"
   ]
  },
  {
   "cell_type": "markdown",
   "metadata": {},
   "source": [
    "# Compare Ours to Ours"
   ]
  },
  {
   "cell_type": "code",
   "execution_count": null,
   "metadata": {},
   "outputs": [],
   "source": [
    "for i in range(323000):\n",
    "    print(i)\n",
    "    ours_1 = load(f'/home/olivia/Teachable/babyai/meta-mb-internal/data/'\n",
    "                'T0330_GOOD_DATASET_L18'\n",
    "                f'/buffer/traj_train_level18_idx{i}.pkl')\n",
    "    ours_2 = load(f'/home/olivia/Teachable/babyai/meta-mb-internal/data/'\n",
    "                'T0330_COLLECT_MATCHING_L18_v3_teacherPreActionAdvice_dense_threshS0.99_threshA0.8_lr0.0001_ent0.01_currfnone_hot_1'\n",
    "                f'/buffer/traj_train_level18_idx{i}.pkl')\n",
    "    \n",
    "    assert np.array_equal(ours_1.teacher_action, ours_2.teacher_action)"
   ]
  },
  {
   "cell_type": "code",
   "execution_count": null,
   "metadata": {},
   "outputs": [],
   "source": []
  },
  {
   "cell_type": "code",
   "execution_count": null,
   "metadata": {},
   "outputs": [],
   "source": []
  }
 ],
 "metadata": {
  "kernelspec": {
   "display_name": "Python 3",
   "language": "python",
   "name": "python3"
  },
  "language_info": {
   "codemirror_mode": {
    "name": "ipython",
    "version": 3
   },
   "file_extension": ".py",
   "mimetype": "text/x-python",
   "name": "python",
   "nbconvert_exporter": "python",
   "pygments_lexer": "ipython3",
   "version": "3.7.0"
  }
 },
 "nbformat": 4,
 "nbformat_minor": 4
}
